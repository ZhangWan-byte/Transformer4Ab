{
 "cells": [
  {
   "cell_type": "code",
   "execution_count": 3,
   "id": "11bf224c",
   "metadata": {},
   "outputs": [],
   "source": [
    "import numpy as np\n",
    "import pickle\n",
    "import matplotlib.pyplot as plt"
   ]
  },
  {
   "cell_type": "code",
   "execution_count": 34,
   "id": "953cfa69",
   "metadata": {},
   "outputs": [],
   "source": [
    "def get_results(model_name):\n",
    "#     model_name = 'lstm'\n",
    "\n",
    "    acc = []\n",
    "    f1 = []\n",
    "    auc = []\n",
    "    gmean = []\n",
    "    mcc = []\n",
    "\n",
    "    for i in range(3):\n",
    "        model_name, val_acc_mean, val_f1_mean, val_auc_mean, val_gmean_mean, val_mcc_mean = \\\n",
    "            pickle.load(open(\"./results/CoV-AbDab/{}/result_{}.pkl\".format(model_name, i), \"rb\"))\n",
    "\n",
    "        acc.append(np.mean(val_acc_mean))\n",
    "        f1.append(np.mean(val_f1_mean))\n",
    "        auc.append(np.mean(val_auc_mean))\n",
    "        gmean.append(np.mean(val_gmean_mean))\n",
    "        mcc.append(np.mean(val_mcc_mean))\n",
    "\n",
    "    # np.set_printoptions(precision=4)\n",
    "    print(\"Acc: \\t{:.4f}+-{:.4f}\".format(np.mean(acc), np.std(acc)))\n",
    "    print(\"F1: \\t{:.4f}+-{:.4f}\".format(np.mean(f1), np.std(f1)))\n",
    "    print(\"Auc: \\t{:.4f}+-{:.4f}\".format(np.mean(auc), np.std(auc)))\n",
    "    print(\"Gmean: \\t{:.4f}+-{:.4f}\".format(np.mean(gmean), np.std(gmean)))\n",
    "    print(\"Mcc: \\t{:.4f}+-{:.4f}\".format(np.mean(mcc), np.std(mcc)))"
   ]
  },
  {
   "cell_type": "code",
   "execution_count": 35,
   "id": "5ad2f924",
   "metadata": {},
   "outputs": [
    {
     "name": "stdout",
     "output_type": "stream",
     "text": [
      "Acc: \t0.3839+-0.0525\n",
      "F1: \t0.3137+-0.1029\n",
      "Auc: \t0.6738+-0.0148\n",
      "Gmean: \t0.3584+-0.0837\n",
      "Mcc: \t0.0749+-0.0474\n"
     ]
    }
   ],
   "source": [
    "get_results(\"lstm\")"
   ]
  },
  {
   "cell_type": "code",
   "execution_count": 43,
   "id": "ccaae953",
   "metadata": {},
   "outputs": [
    {
     "name": "stdout",
     "output_type": "stream",
     "text": [
      "Acc: \t0.7312+-0.0015\n",
      "F1: \t0.8404+-0.0009\n",
      "Auc: \t0.5288+-0.0085\n",
      "Gmean: \t0.0000+-0.0000\n",
      "Mcc: \t-0.0076+-0.0033\n"
     ]
    }
   ],
   "source": [
    "get_results(\"masonscnn\")"
   ]
  }
 ],
 "metadata": {
  "kernelspec": {
   "display_name": "Python 3 (ipykernel)",
   "language": "python",
   "name": "python3"
  },
  "language_info": {
   "codemirror_mode": {
    "name": "ipython",
    "version": 3
   },
   "file_extension": ".py",
   "mimetype": "text/x-python",
   "name": "python",
   "nbconvert_exporter": "python",
   "pygments_lexer": "ipython3",
   "version": "3.8.0"
  }
 },
 "nbformat": 4,
 "nbformat_minor": 5
}
