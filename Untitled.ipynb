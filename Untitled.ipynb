{
 "cells": [
  {
   "cell_type": "code",
   "execution_count": 1,
   "id": "0accfe48",
   "metadata": {},
   "outputs": [],
   "source": [
    "import numpy as np\n",
    "import pickle\n",
    "import matplotlib.pyplot as plt"
   ]
  },
  {
   "cell_type": "code",
   "execution_count": 2,
   "id": "e21209fe",
   "metadata": {},
   "outputs": [],
   "source": [
    "def get_results(model_name):\n",
    "#     model_name = 'lstm'\n",
    "\n",
    "    acc = []\n",
    "    f1 = []\n",
    "    auc = []\n",
    "    gmean = []\n",
    "    mcc = []\n",
    "\n",
    "    for i in range(3):\n",
    "        model_name, val_acc_mean, val_f1_mean, val_auc_mean, val_gmean_mean, val_mcc_mean = \\\n",
    "            pickle.load(open(\"./results/CoV-AbDab/{}/result_{}.pkl\".format(model_name, i), \"rb\"))\n",
    "\n",
    "        acc.append(np.mean(val_acc_mean))\n",
    "        f1.append(np.mean(val_f1_mean))\n",
    "        auc.append(np.mean(val_auc_mean))\n",
    "        gmean.append(np.mean(val_gmean_mean))\n",
    "        mcc.append(np.mean(val_mcc_mean))\n",
    "\n",
    "    # np.set_printoptions(precision=4)\n",
    "    print(\"Acc: \\t{:.4f}+-{:.4f}\".format(np.mean(acc), np.std(acc)))\n",
    "    print(\"F1: \\t{:.4f}+-{:.4f}\".format(np.mean(f1), np.std(f1)))\n",
    "    print(\"Auc: \\t{:.4f}+-{:.4f}\".format(np.mean(auc), np.std(auc)))\n",
    "    print(\"Gmean: \\t{:.4f}+-{:.4f}\".format(np.mean(gmean), np.std(gmean)))\n",
    "    print(\"Mcc: \\t{:.4f}+-{:.4f}\".format(np.mean(mcc), np.std(mcc)))"
   ]
  },
  {
   "cell_type": "code",
   "execution_count": 46,
   "id": "76e6ffc1",
   "metadata": {},
   "outputs": [
    {
     "name": "stdout",
     "output_type": "stream",
     "text": [
      "Acc: \t0.7280+-0.0066\n",
      "F1: \t0.8377+-0.0043\n",
      "Auc: \t0.5353+-0.0279\n",
      "Gmean: \t0.0000+-0.0000\n",
      "Mcc: \t-0.0151+-0.0111\n"
     ]
    }
   ],
   "source": [
    "# def get_results(model_name):\n",
    "model_name = 'lstm'\n",
    "\n",
    "acc = []\n",
    "f1 = []\n",
    "auc = []\n",
    "gmean = []\n",
    "mcc = []\n",
    "\n",
    "for i in range(3):\n",
    "    model_name, val_acc_mean, val_f1_mean, val_auc_mean, val_gmean_mean, val_mcc_mean = \\\n",
    "        pickle.load(open(\"./results/CoV-AbDab/{}/result_{}.pkl\".format(model_name, i), \"rb\"))\n",
    "\n",
    "    acc.append(np.mean(val_acc_mean))\n",
    "    f1.append(np.mean(val_f1_mean))\n",
    "    auc.append(np.mean(val_auc_mean))\n",
    "    gmean.append(np.mean(val_gmean_mean))\n",
    "    mcc.append(np.mean(val_mcc_mean))\n",
    "\n",
    "# np.set_printoptions(precision=4)\n",
    "print(\"Acc: \\t{:.4f}+-{:.4f}\".format(np.mean(acc), np.std(acc)))\n",
    "print(\"F1: \\t{:.4f}+-{:.4f}\".format(np.mean(f1), np.std(f1)))\n",
    "print(\"Auc: \\t{:.4f}+-{:.4f}\".format(np.mean(auc), np.std(auc)))\n",
    "print(\"Gmean: \\t{:.4f}+-{:.4f}\".format(np.mean(gmean), np.std(gmean)))\n",
    "print(\"Mcc: \\t{:.4f}+-{:.4f}\".format(np.mean(mcc), np.std(mcc)))"
   ]
  },
  {
   "cell_type": "code",
   "execution_count": 4,
   "id": "632fd891",
   "metadata": {},
   "outputs": [
    {
     "name": "stdout",
     "output_type": "stream",
     "text": [
      "Acc: \t0.7312+-0.0015\n",
      "F1: \t0.8404+-0.0009\n",
      "Auc: \t0.5288+-0.0085\n",
      "Gmean: \t0.0000+-0.0000\n",
      "Mcc: \t-0.0076+-0.0033\n"
     ]
    }
   ],
   "source": [
    "get_results(\"masonscnn\")"
   ]
  },
  {
   "cell_type": "code",
   "execution_count": 5,
   "id": "33d42a25",
   "metadata": {},
   "outputs": [
    {
     "name": "stdout",
     "output_type": "stream",
     "text": [
      "Acc: \t0.7280+-0.0066\n",
      "F1: \t0.8377+-0.0043\n",
      "Auc: \t0.5353+-0.0279\n",
      "Gmean: \t0.0000+-0.0000\n",
      "Mcc: \t-0.0151+-0.0111\n"
     ]
    }
   ],
   "source": [
    "get_results(\"lstm\")"
   ]
  },
  {
   "cell_type": "code",
   "execution_count": 6,
   "id": "90a147b2",
   "metadata": {},
   "outputs": [
    {
     "name": "stdout",
     "output_type": "stream",
     "text": [
      "Acc: \t0.7312+-0.0076\n",
      "F1: \t0.8402+-0.0042\n",
      "Auc: \t0.5999+-0.0069\n",
      "Gmean: \t0.0211+-0.0298\n",
      "Mcc: \t0.0107+-0.0348\n"
     ]
    }
   ],
   "source": [
    "get_results(\"textcnn\")"
   ]
  },
  {
   "cell_type": "code",
   "execution_count": 7,
   "id": "b5ba4274",
   "metadata": {},
   "outputs": [
    {
     "name": "stdout",
     "output_type": "stream",
     "text": [
      "Acc: \t0.7086+-0.0179\n",
      "F1: \t0.8119+-0.0215\n",
      "Auc: \t0.5693+-0.0180\n",
      "Gmean: \t0.1612+-0.0488\n",
      "Mcc: \t0.0222+-0.0478\n"
     ]
    }
   ],
   "source": [
    "get_results(\"ag_fast_parapred\")"
   ]
  },
  {
   "cell_type": "code",
   "execution_count": 9,
   "id": "79437422",
   "metadata": {},
   "outputs": [
    {
     "name": "stdout",
     "output_type": "stream",
     "text": [
      "Acc: \t0.7355+-0.0000\n",
      "F1: \t0.8409+-0.0027\n",
      "Auc: \t0.7170+-0.0101\n",
      "Gmean: \t0.0156+-0.0220\n",
      "Mcc: \t0.0019+-0.0027\n"
     ]
    }
   ],
   "source": [
    "get_results(\"pipr\")"
   ]
  },
  {
   "cell_type": "code",
   "execution_count": 10,
   "id": "e5e9760c",
   "metadata": {},
   "outputs": [
    {
     "name": "stdout",
     "output_type": "stream",
     "text": [
      "Acc: \t0.7194+-0.0139\n",
      "F1: \t0.8294+-0.0107\n",
      "Auc: \t0.5988+-0.0128\n",
      "Gmean: \t0.0634+-0.0307\n",
      "Mcc: \t-0.0195+-0.0348\n"
     ]
    }
   ],
   "source": [
    "get_results(\"resppi\")"
   ]
  },
  {
   "cell_type": "code",
   "execution_count": 6,
   "id": "31248564",
   "metadata": {},
   "outputs": [
    {
     "name": "stdout",
     "output_type": "stream",
     "text": [
      "Acc: \t0.7333+-0.0040\n",
      "F1: \t0.8343+-0.0052\n",
      "Auc: \t0.6661+-0.0113\n",
      "Gmean: \t0.2633+-0.0599\n",
      "Mcc: \t0.1462+-0.0363\n"
     ]
    }
   ],
   "source": [
    "get_results(\"pesi\")"
   ]
  },
  {
   "cell_type": "code",
   "execution_count": 10,
   "id": "feb5bfa5",
   "metadata": {},
   "outputs": [
    {
     "name": "stdout",
     "output_type": "stream",
     "text": [
      "\n",
      "\n",
      "model: masonscnn\n",
      "Acc: \t0.7312+-0.0015\n",
      "F1: \t0.8404+-0.0009\n",
      "Auc: \t0.5288+-0.0085\n",
      "Gmean: \t0.0000+-0.0000\n",
      "Mcc: \t-0.0076+-0.0033\n",
      "None\n",
      "\n",
      "\n",
      "model: lstm\n",
      "Acc: \t0.7280+-0.0066\n",
      "F1: \t0.8377+-0.0043\n",
      "Auc: \t0.5353+-0.0279\n",
      "Gmean: \t0.0000+-0.0000\n",
      "Mcc: \t-0.0151+-0.0111\n",
      "None\n",
      "\n",
      "\n",
      "model: textcnn\n",
      "Acc: \t0.7312+-0.0076\n",
      "F1: \t0.8402+-0.0042\n",
      "Auc: \t0.5999+-0.0069\n",
      "Gmean: \t0.0211+-0.0298\n",
      "Mcc: \t0.0107+-0.0348\n",
      "None\n",
      "\n",
      "\n",
      "model: ag_fast_parapred\n",
      "Acc: \t0.7086+-0.0179\n",
      "F1: \t0.8119+-0.0215\n",
      "Auc: \t0.5693+-0.0180\n",
      "Gmean: \t0.1612+-0.0488\n",
      "Mcc: \t0.0222+-0.0478\n",
      "None\n",
      "\n",
      "\n",
      "model: pipr\n",
      "Acc: \t0.7355+-0.0000\n",
      "F1: \t0.8409+-0.0027\n",
      "Auc: \t0.7170+-0.0101\n",
      "Gmean: \t0.0156+-0.0220\n",
      "Mcc: \t0.0019+-0.0027\n",
      "None\n",
      "\n",
      "\n",
      "model: resppi\n",
      "Acc: \t0.7194+-0.0139\n",
      "F1: \t0.8294+-0.0107\n",
      "Auc: \t0.5988+-0.0128\n",
      "Gmean: \t0.0634+-0.0307\n",
      "Mcc: \t-0.0195+-0.0348\n",
      "None\n",
      "\n",
      "\n",
      "model: pesi\n",
      "Acc: \t0.7333+-0.0040\n",
      "F1: \t0.8343+-0.0052\n",
      "Auc: \t0.6661+-0.0113\n",
      "Gmean: \t0.2633+-0.0599\n",
      "Mcc: \t0.1462+-0.0363\n",
      "None\n"
     ]
    }
   ],
   "source": [
    "for model in [\"masonscnn\", \"lstm\", \"textcnn\", \"ag_fast_parapred\", \"pipr\", \"resppi\", \"pesi\"]:\n",
    "    print(\"\\n\\nmodel: {}\".format(model))\n",
    "    print(get_results(model))"
   ]
  },
  {
   "cell_type": "code",
   "execution_count": 11,
   "id": "df074d56",
   "metadata": {},
   "outputs": [
    {
     "name": "stdout",
     "output_type": "stream",
     "text": [
      "\n",
      "\n",
      "model: masonscnn_ft\n",
      "Acc: \t0.7355+-0.0000\n",
      "F1: \t0.8428+-0.0000\n",
      "Auc: \t0.4793+-0.0030\n",
      "Gmean: \t0.0000+-0.0000\n",
      "Mcc: \t0.0000+-0.0000\n",
      "None\n",
      "\n",
      "\n",
      "model: lstm_ft\n",
      "Acc: \t0.7323+-0.0070\n",
      "F1: \t0.8396+-0.0051\n",
      "Auc: \t0.5013+-0.0228\n",
      "Gmean: \t0.0639+-0.0018\n",
      "Mcc: \t0.0315+-0.0168\n",
      "None\n",
      "\n",
      "\n",
      "model: textcnn_ft\n",
      "Acc: \t0.7000+-0.0000\n",
      "F1: \t0.8093+-0.0000\n",
      "Auc: \t0.5734+-0.0000\n",
      "Gmean: \t0.2213+-0.0000\n",
      "Mcc: \t0.0264+-0.0000\n",
      "None\n",
      "\n",
      "\n",
      "model: ag_fast_parapred_ft\n",
      "Acc: \t0.7290+-0.0000\n",
      "F1: \t0.8344+-0.0014\n",
      "Auc: \t0.5647+-0.0111\n",
      "Gmean: \t0.1400+-0.0368\n",
      "Mcc: \t0.0442+-0.0245\n",
      "None\n",
      "\n",
      "\n",
      "model: pipr_ft\n",
      "Acc: \t0.7194+-0.0026\n",
      "F1: \t0.8113+-0.0052\n",
      "Auc: \t0.5657+-0.0097\n",
      "Gmean: \t0.1531+-0.0248\n",
      "Mcc: \t0.0246+-0.0164\n",
      "None\n",
      "\n",
      "\n",
      "model: resppi_ft\n",
      "Acc: \t0.7258+-0.0000\n",
      "F1: \t0.8367+-0.0000\n",
      "Auc: \t0.5486+-0.0000\n",
      "Gmean: \t0.0000+-0.0000\n",
      "Mcc: \t-0.0258+-0.0000\n",
      "None\n",
      "\n",
      "\n",
      "model: pesi_ft\n",
      "Acc: \t0.6559+-0.0175\n",
      "F1: \t0.7561+-0.0132\n",
      "Auc: \t0.6122+-0.0117\n",
      "Gmean: \t0.5035+-0.0684\n",
      "Mcc: \t0.1221+-0.0394\n",
      "None\n"
     ]
    }
   ],
   "source": [
    "for model in [\"masonscnn\", \"lstm\", \"textcnn\", \"ag_fast_parapred\", \"pipr\", \"resppi\", \"pesi\"]:\n",
    "    print(\"\\n\\nmodel: {}\".format(model+\"_ft\"))\n",
    "    print(get_results(model+\"_ft\"))"
   ]
  },
  {
   "cell_type": "code",
   "execution_count": 12,
   "id": "7a1a210f",
   "metadata": {},
   "outputs": [
    {
     "name": "stdout",
     "output_type": "stream",
     "text": [
      "\n",
      "\n",
      "model: masonscnn\n",
      "Acc: \t0.7312+-0.0015\n",
      "F1: \t0.8404+-0.0009\n",
      "Auc: \t0.5288+-0.0085\n",
      "Gmean: \t0.0000+-0.0000\n",
      "Mcc: \t-0.0076+-0.0033\n",
      "None\n",
      "\n",
      "model: masonscnn_ft\n",
      "Acc: \t0.7355+-0.0000\n",
      "F1: \t0.8428+-0.0000\n",
      "Auc: \t0.4793+-0.0030\n",
      "Gmean: \t0.0000+-0.0000\n",
      "Mcc: \t0.0000+-0.0000\n",
      "None\n",
      "\n",
      "\n",
      "model: lstm\n",
      "Acc: \t0.7280+-0.0066\n",
      "F1: \t0.8377+-0.0043\n",
      "Auc: \t0.5353+-0.0279\n",
      "Gmean: \t0.0000+-0.0000\n",
      "Mcc: \t-0.0151+-0.0111\n",
      "None\n",
      "\n",
      "model: lstm_ft\n",
      "Acc: \t0.7323+-0.0070\n",
      "F1: \t0.8396+-0.0051\n",
      "Auc: \t0.5013+-0.0228\n",
      "Gmean: \t0.0639+-0.0018\n",
      "Mcc: \t0.0315+-0.0168\n",
      "None\n",
      "\n",
      "\n",
      "model: textcnn\n",
      "Acc: \t0.7312+-0.0076\n",
      "F1: \t0.8402+-0.0042\n",
      "Auc: \t0.5999+-0.0069\n",
      "Gmean: \t0.0211+-0.0298\n",
      "Mcc: \t0.0107+-0.0348\n",
      "None\n",
      "\n",
      "model: textcnn_ft\n",
      "Acc: \t0.7000+-0.0000\n",
      "F1: \t0.8093+-0.0000\n",
      "Auc: \t0.5734+-0.0000\n",
      "Gmean: \t0.2213+-0.0000\n",
      "Mcc: \t0.0264+-0.0000\n",
      "None\n",
      "\n",
      "\n",
      "model: ag_fast_parapred\n",
      "Acc: \t0.7086+-0.0179\n",
      "F1: \t0.8119+-0.0215\n",
      "Auc: \t0.5693+-0.0180\n",
      "Gmean: \t0.1612+-0.0488\n",
      "Mcc: \t0.0222+-0.0478\n",
      "None\n",
      "\n",
      "model: ag_fast_parapred_ft\n",
      "Acc: \t0.7290+-0.0000\n",
      "F1: \t0.8344+-0.0014\n",
      "Auc: \t0.5647+-0.0111\n",
      "Gmean: \t0.1400+-0.0368\n",
      "Mcc: \t0.0442+-0.0245\n",
      "None\n",
      "\n",
      "\n",
      "model: pipr\n",
      "Acc: \t0.7355+-0.0000\n",
      "F1: \t0.8409+-0.0027\n",
      "Auc: \t0.7170+-0.0101\n",
      "Gmean: \t0.0156+-0.0220\n",
      "Mcc: \t0.0019+-0.0027\n",
      "None\n",
      "\n",
      "model: pipr_ft\n",
      "Acc: \t0.7194+-0.0026\n",
      "F1: \t0.8113+-0.0052\n",
      "Auc: \t0.5657+-0.0097\n",
      "Gmean: \t0.1531+-0.0248\n",
      "Mcc: \t0.0246+-0.0164\n",
      "None\n",
      "\n",
      "\n",
      "model: resppi\n",
      "Acc: \t0.7194+-0.0139\n",
      "F1: \t0.8294+-0.0107\n",
      "Auc: \t0.5988+-0.0128\n",
      "Gmean: \t0.0634+-0.0307\n",
      "Mcc: \t-0.0195+-0.0348\n",
      "None\n",
      "\n",
      "model: resppi_ft\n",
      "Acc: \t0.7258+-0.0000\n",
      "F1: \t0.8367+-0.0000\n",
      "Auc: \t0.5486+-0.0000\n",
      "Gmean: \t0.0000+-0.0000\n",
      "Mcc: \t-0.0258+-0.0000\n",
      "None\n",
      "\n",
      "\n",
      "model: pesi\n",
      "Acc: \t0.7333+-0.0040\n",
      "F1: \t0.8343+-0.0052\n",
      "Auc: \t0.6661+-0.0113\n",
      "Gmean: \t0.2633+-0.0599\n",
      "Mcc: \t0.1462+-0.0363\n",
      "None\n",
      "\n",
      "model: pesi_ft\n",
      "Acc: \t0.6559+-0.0175\n",
      "F1: \t0.7561+-0.0132\n",
      "Auc: \t0.6122+-0.0117\n",
      "Gmean: \t0.5035+-0.0684\n",
      "Mcc: \t0.1221+-0.0394\n",
      "None\n"
     ]
    }
   ],
   "source": [
    "for model in [\"masonscnn\", \"lstm\", \"textcnn\", \"ag_fast_parapred\", \"pipr\", \"resppi\", \"pesi\"]:\n",
    "    print(\"\\n\\nmodel: {}\".format(model))\n",
    "    print(get_results(model))\n",
    "    \n",
    "    print(\"\\nmodel: {}\".format(model+\"_ft\"))\n",
    "    print(get_results(model+\"_ft\"))"
   ]
  }
 ],
 "metadata": {
  "kernelspec": {
   "display_name": "Python 3 (ipykernel)",
   "language": "python",
   "name": "python3"
  },
  "language_info": {
   "codemirror_mode": {
    "name": "ipython",
    "version": 3
   },
   "file_extension": ".py",
   "mimetype": "text/x-python",
   "name": "python",
   "nbconvert_exporter": "python",
   "pygments_lexer": "ipython3",
   "version": "3.8.0"
  }
 },
 "nbformat": 4,
 "nbformat_minor": 5
}
