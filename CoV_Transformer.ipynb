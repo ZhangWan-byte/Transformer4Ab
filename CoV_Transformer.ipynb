{
 "cells": [
  {
   "cell_type": "code",
   "execution_count": 1,
   "id": "25ce6768",
   "metadata": {},
   "outputs": [],
   "source": [
    "import numpy as np\n",
    "import pandas as pd\n",
    "from tqdm import tqdm\n",
    "from sklearn.metrics import confusion_matrix\n",
    "from sklearn.metrics import accuracy_score, f1_score, roc_auc_score, matthews_corrcoef\n",
    "from imblearn.metrics import geometric_mean_score\n",
    "from metrics import *\n",
    "import matplotlib.pyplot as plt\n",
    "\n",
    "import torch\n",
    "import torch.nn as nn\n",
    "import torch.optim as optim\n",
    "\n",
    "from dataset import *\n",
    "from utils import *\n",
    "from models import *"
   ]
  },
  {
   "cell_type": "markdown",
   "id": "8aef7064",
   "metadata": {},
   "source": [
    "# 1. cov-abdab"
   ]
  },
  {
   "cell_type": "markdown",
   "id": "c40c702f",
   "metadata": {},
   "source": [
    "## 1.1 EDA"
   ]
  },
  {
   "cell_type": "markdown",
   "id": "9f9f544a",
   "metadata": {},
   "source": [
    "current：GT 抗体-抗原\n",
    "- 输入抗原，复现/重构抗体\n",
    "- diff？"
   ]
  },
  {
   "cell_type": "markdown",
   "id": "254adb6d",
   "metadata": {},
   "source": [
    "refineGNN\n",
    "- framework\n",
    "- CDR H3"
   ]
  },
  {
   "cell_type": "markdown",
   "id": "4886864b",
   "metadata": {},
   "source": [
    "current：MEAN\n",
    "- 输入：离CDR H1~H3最近的48个AA + 轻链 + framework\n",
    "- 生成：CDR H1/H2/H3"
   ]
  },
  {
   "cell_type": "markdown",
   "id": "4fa0e956",
   "metadata": {},
   "source": [
    "ideal：输入抗原chain（no sturcture） asdsbdjkasdkjsah\n",
    "- 生成抗体"
   ]
  },
  {
   "cell_type": "markdown",
   "id": "06fe5cb6",
   "metadata": {},
   "source": [
    "ideal：输入抗原链\n",
    "- 找epitope\n",
    "- 根据epitope设计paratope（CDR）= generation + docking\n",
    "- 根据CDR完善补全整条抗体链"
   ]
  },
  {
   "cell_type": "code",
   "execution_count": 2,
   "id": "366d62ef",
   "metadata": {},
   "outputs": [
    {
     "data": {
      "text/html": [
       "<div>\n",
       "<style scoped>\n",
       "    .dataframe tbody tr th:only-of-type {\n",
       "        vertical-align: middle;\n",
       "    }\n",
       "\n",
       "    .dataframe tbody tr th {\n",
       "        vertical-align: top;\n",
       "    }\n",
       "\n",
       "    .dataframe thead th {\n",
       "        text-align: right;\n",
       "    }\n",
       "</style>\n",
       "<table border=\"1\" class=\"dataframe\">\n",
       "  <thead>\n",
       "    <tr style=\"text-align: right;\">\n",
       "      <th></th>\n",
       "      <th>Index</th>\n",
       "      <th>AB_name</th>\n",
       "      <th>Class</th>\n",
       "      <th>Paratope</th>\n",
       "      <th>Epitope</th>\n",
       "    </tr>\n",
       "  </thead>\n",
       "  <tbody>\n",
       "    <tr>\n",
       "      <th>0</th>\n",
       "      <td>1</td>\n",
       "      <td>m396</td>\n",
       "      <td>0</td>\n",
       "      <td>SYTWGGITILIANYQRDTVMGGSKWDSSDY</td>\n",
       "      <td>FSTFRGDEVRNNGQPTYGVGYQY</td>\n",
       "    </tr>\n",
       "    <tr>\n",
       "      <th>1</th>\n",
       "      <td>2</td>\n",
       "      <td>80R</td>\n",
       "      <td>0</td>\n",
       "      <td>SYAVISYDRDRSYDRVRSNDSTRSGSGSDFTTSRSW</td>\n",
       "      <td>RDVGGYNLYLFKGFNCYFLQSYGQPTYGVYQ</td>\n",
       "    </tr>\n",
       "    <tr>\n",
       "      <th>2</th>\n",
       "      <td>3</td>\n",
       "      <td>F26G19</td>\n",
       "      <td>0</td>\n",
       "      <td>YVSYTTYRYPGNDTTTEGIPQL</td>\n",
       "      <td>AFSTGDRWNNNPTYGVGYQY</td>\n",
       "    </tr>\n",
       "    <tr>\n",
       "      <th>3</th>\n",
       "      <td>4</td>\n",
       "      <td>1AF10</td>\n",
       "      <td>0</td>\n",
       "      <td>NWRENRYDPYYAMDIQHYQQTDSWPT</td>\n",
       "      <td>FIVKNKCVFTGVLTDIATDLDITPCSFGGSYQGVNRAGCIG</td>\n",
       "    </tr>\n",
       "    <tr>\n",
       "      <th>4</th>\n",
       "      <td>5</td>\n",
       "      <td>6D3</td>\n",
       "      <td>1</td>\n",
       "      <td>WHEDDYINYEYGLLAQNNFYTY</td>\n",
       "      <td>NVFAEHVNNSS</td>\n",
       "    </tr>\n",
       "    <tr>\n",
       "      <th>...</th>\n",
       "      <td>...</td>\n",
       "      <td>...</td>\n",
       "      <td>...</td>\n",
       "      <td>...</td>\n",
       "      <td>...</td>\n",
       "    </tr>\n",
       "    <tr>\n",
       "      <th>305</th>\n",
       "      <td>306</td>\n",
       "      <td>scFv_E4</td>\n",
       "      <td>1</td>\n",
       "      <td>VSGVTSSNYYPGGSYRDLSEKDVIQGISYSGQNS</td>\n",
       "      <td>RDQTGNDYYLFRKSNYQAGSTFNYFPLQSYGYGVGY</td>\n",
       "    </tr>\n",
       "    <tr>\n",
       "      <th>306</th>\n",
       "      <td>307</td>\n",
       "      <td>N3113</td>\n",
       "      <td>1</td>\n",
       "      <td>YEALEWSYHSRTYNPSWASGSTGDW</td>\n",
       "      <td>VATRFASYAWNKSKGGNYNYLRITEINGVKFLQS</td>\n",
       "    </tr>\n",
       "    <tr>\n",
       "      <th>307</th>\n",
       "      <td>308</td>\n",
       "      <td>N3113.1</td>\n",
       "      <td>1</td>\n",
       "      <td>QWYSRYNPSWASGST</td>\n",
       "      <td>ATRFASYANKDKVGNYNYLYITEINGVKFPLQSYG</td>\n",
       "    </tr>\n",
       "    <tr>\n",
       "      <th>308</th>\n",
       "      <td>309</td>\n",
       "      <td>RBD-chAb-15</td>\n",
       "      <td>1</td>\n",
       "      <td>GHWTTWGGSTNGYYV</td>\n",
       "      <td>YASFSTFKRGDRAWNTYGVGYQPY</td>\n",
       "    </tr>\n",
       "    <tr>\n",
       "      <th>309</th>\n",
       "      <td>310</td>\n",
       "      <td>BD-813</td>\n",
       "      <td>1</td>\n",
       "      <td>VEFISANYYSGGSFRLPTYDSISYHDTTP</td>\n",
       "      <td>RDERQTGNDYYLFRKSNYQAGSTFNYQYGY</td>\n",
       "    </tr>\n",
       "  </tbody>\n",
       "</table>\n",
       "<p>310 rows × 5 columns</p>\n",
       "</div>"
      ],
      "text/plain": [
       "     Index      AB_name  Class                              Paratope  \\\n",
       "0        1         m396      0        SYTWGGITILIANYQRDTVMGGSKWDSSDY   \n",
       "1        2          80R      0  SYAVISYDRDRSYDRVRSNDSTRSGSGSDFTTSRSW   \n",
       "2        3       F26G19      0                YVSYTTYRYPGNDTTTEGIPQL   \n",
       "3        4        1AF10      0            NWRENRYDPYYAMDIQHYQQTDSWPT   \n",
       "4        5          6D3      1                WHEDDYINYEYGLLAQNNFYTY   \n",
       "..     ...          ...    ...                                   ...   \n",
       "305    306      scFv_E4      1    VSGVTSSNYYPGGSYRDLSEKDVIQGISYSGQNS   \n",
       "306    307        N3113      1             YEALEWSYHSRTYNPSWASGSTGDW   \n",
       "307    308      N3113.1      1                       QWYSRYNPSWASGST   \n",
       "308    309  RBD-chAb-15      1                       GHWTTWGGSTNGYYV   \n",
       "309    310       BD-813      1         VEFISANYYSGGSFRLPTYDSISYHDTTP   \n",
       "\n",
       "                                       Epitope  \n",
       "0                      FSTFRGDEVRNNGQPTYGVGYQY  \n",
       "1              RDVGGYNLYLFKGFNCYFLQSYGQPTYGVYQ  \n",
       "2                         AFSTGDRWNNNPTYGVGYQY  \n",
       "3    FIVKNKCVFTGVLTDIATDLDITPCSFGGSYQGVNRAGCIG  \n",
       "4                                  NVFAEHVNNSS  \n",
       "..                                         ...  \n",
       "305       RDQTGNDYYLFRKSNYQAGSTFNYFPLQSYGYGVGY  \n",
       "306         VATRFASYAWNKSKGGNYNYLRITEINGVKFLQS  \n",
       "307        ATRFASYANKDKVGNYNYLYITEINGVKFPLQSYG  \n",
       "308                   YASFSTFKRGDRAWNTYGVGYQPY  \n",
       "309             RDERQTGNDYYLFRKSNYQAGSTFNYQYGY  \n",
       "\n",
       "[310 rows x 5 columns]"
      ]
     },
     "execution_count": 2,
     "metadata": {},
     "output_type": "execute_result"
    }
   ],
   "source": [
    "data = pd.read_csv(\"../SARS-SAbDab_Shaun/CoV-AbDab_extract.csv\")\n",
    "data"
   ]
  },
  {
   "cell_type": "code",
   "execution_count": 3,
   "id": "2298848b",
   "metadata": {},
   "outputs": [
    {
     "data": {
      "text/plain": [
       "(24.767741935483873, 7.183600817667714, 60, 2)"
      ]
     },
     "execution_count": 3,
     "metadata": {},
     "output_type": "execute_result"
    }
   ],
   "source": [
    "len1 = []\n",
    "len2 = []\n",
    "\n",
    "for i in range(data.shape[0]):\n",
    "    len1.append(len(data[\"Paratope\"].iloc[i]))\n",
    "    len2.append(len(data[\"Epitope\"].iloc[i]))\n",
    "    \n",
    "np.mean(len1), np.std(len1), np.max(len1), np.min(len1)"
   ]
  },
  {
   "cell_type": "code",
   "execution_count": 4,
   "id": "5a18ed3e",
   "metadata": {},
   "outputs": [
    {
     "data": {
      "text/plain": [
       "(24.738709677419354, 9.685678733502161, 75, 4)"
      ]
     },
     "execution_count": 4,
     "metadata": {},
     "output_type": "execute_result"
    }
   ],
   "source": [
    "np.mean(len2), np.std(len2), np.max(len2), np.min(len2)"
   ]
  },
  {
   "cell_type": "code",
   "execution_count": 5,
   "id": "3f824484",
   "metadata": {},
   "outputs": [
    {
     "data": {
      "text/plain": [
       "(array([  3.,  14.,  53., 105.,  74.,  47.,  12.,   1.,   0.,   1.]),\n",
       " array([ 2. ,  7.8, 13.6, 19.4, 25.2, 31. , 36.8, 42.6, 48.4, 54.2, 60. ]),\n",
       " <BarContainer object of 10 artists>)"
      ]
     },
     "execution_count": 5,
     "metadata": {},
     "output_type": "execute_result"
    },
    {
     "data": {
      "image/png": "[encoded data removed]",
      "text/plain": [
       "<Figure size 640x480 with 1 Axes>"
      ]
     },
     "metadata": {},
     "output_type": "display_data"
    }
   ],
   "source": [
    "plt.hist(len1)"
   ]
  },
  {
   "cell_type": "code",
   "execution_count": 6,
   "id": "194b55a4",
   "metadata": {},
   "outputs": [
    {
     "data": {
      "text/plain": [
       "60"
      ]
     },
     "execution_count": 6,
     "metadata": {},
     "output_type": "execute_result"
    }
   ],
   "source": [
    "max(len1)"
   ]
  },
  {
   "cell_type": "code",
   "execution_count": 7,
   "id": "3cb7977d",
   "metadata": {},
   "outputs": [
    {
     "data": {
      "text/plain": [
       "(array([ 21.,  54., 112.,  69.,  36.,  12.,   2.,   1.,   2.,   1.]),\n",
       " array([ 4. , 11.1, 18.2, 25.3, 32.4, 39.5, 46.6, 53.7, 60.8, 67.9, 75. ]),\n",
       " <BarContainer object of 10 artists>)"
      ]
     },
     "execution_count": 7,
     "metadata": {},
     "output_type": "execute_result"
    },
    {
     "data": {
      "image/png": "[encoded data removed]",
      "text/plain": [
       "<Figure size 640x480 with 1 Axes>"
      ]
     },
     "metadata": {},
     "output_type": "display_data"
    }
   ],
   "source": [
    "plt.hist(len2)"
   ]
  },
  {
   "cell_type": "code",
   "execution_count": 8,
   "id": "4fcb2e60",
   "metadata": {},
   "outputs": [
    {
     "data": {
      "text/plain": [
       "75"
      ]
     },
     "execution_count": 8,
     "metadata": {},
     "output_type": "execute_result"
    }
   ],
   "source": [
    "max(len2)"
   ]
  },
  {
   "cell_type": "code",
   "execution_count": 9,
   "id": "6e0318c4",
   "metadata": {},
   "outputs": [
    {
     "data": {
      "text/plain": [
       "<AxesSubplot:>"
      ]
     },
     "execution_count": 9,
     "metadata": {},
     "output_type": "execute_result"
    },
    {
     "data": {
      "image/png": "[encoded data removed]",
      "text/plain": [
       "<Figure size 640x480 with 1 Axes>"
      ]
     },
     "metadata": {},
     "output_type": "display_data"
    }
   ],
   "source": [
    "data[\"Class\"].hist()"
   ]
  },
  {
   "cell_type": "code",
   "execution_count": 10,
   "id": "e908bb73",
   "metadata": {},
   "outputs": [
    {
     "data": {
      "text/plain": [
       "310"
      ]
     },
     "execution_count": 10,
     "metadata": {},
     "output_type": "execute_result"
    }
   ],
   "source": [
    "len(data[\"Paratope\"].unique())"
   ]
  },
  {
   "cell_type": "code",
   "execution_count": 11,
   "id": "6c77a01c",
   "metadata": {},
   "outputs": [
    {
     "data": {
      "text/plain": [
       "306"
      ]
     },
     "execution_count": 11,
     "metadata": {},
     "output_type": "execute_result"
    }
   ],
   "source": [
    "len(data[\"Epitope\"].unique())"
   ]
  },
  {
   "cell_type": "markdown",
   "id": "d5aa29bf",
   "metadata": {},
   "source": [
    "# Fine-tuning"
   ]
  },
  {
   "cell_type": "code",
   "execution_count": 66,
   "id": "8676275c",
   "metadata": {
    "scrolled": true
   },
   "outputs": [
    {
     "name": "stdout",
     "output_type": "stream",
     "text": [
      "=========================================================\n",
      "fold 0 as val set\n",
      "model parameters:  2100927\n"
     ]
    },
    {
     "name": "stderr",
     "output_type": "stream",
     "text": [
      "100%|███████████████████████████████████████████| 18/18 [00:00<00:00, 70.53it/s]\n"
     ]
    },
    {
     "name": "stdout",
     "output_type": "stream",
     "text": [
      "lr:  3e-05\n",
      "Epoch 0: \n",
      " Train Loss\t1.2433 \n",
      " Val Loss\t0.6996 \n",
      " Val Acc\t0.6774 \n",
      " Val F1\t\t0.8077 \n",
      " Val AUC\t0.4524 \n",
      " Val GMean\t0.0000 \n",
      " Val MCC\t0.0000\n"
     ]
    },
    {
     "name": "stderr",
     "output_type": "stream",
     "text": [
      "100%|███████████████████████████████████████████| 18/18 [00:00<00:00, 72.04it/s]\n"
     ]
    },
    {
     "name": "stdout",
     "output_type": "stream",
     "text": [
      "lr:  3e-05\n",
      "Epoch 1: \n",
      " Train Loss\t1.2210 \n",
      " Val Loss\t0.6806 \n",
      " Val Acc\t0.6774 \n",
      " Val F1\t\t0.8077 \n",
      " Val AUC\t0.4714 \n",
      " Val GMean\t0.0000 \n",
      " Val MCC\t0.0000\n"
     ]
    },
    {
     "name": "stderr",
     "output_type": "stream",
     "text": [
      "100%|███████████████████████████████████████████| 18/18 [00:00<00:00, 72.22it/s]\n"
     ]
    },
    {
     "name": "stdout",
     "output_type": "stream",
     "text": [
      "lr:  3e-05\n",
      "Epoch 2: \n",
      " Train Loss\t1.2131 \n",
      " Val Loss\t0.6724 \n",
      " Val Acc\t0.6774 \n",
      " Val F1\t\t0.8077 \n",
      " Val AUC\t0.4857 \n",
      " Val GMean\t0.0000 \n",
      " Val MCC\t0.0000\n"
     ]
    },
    {
     "name": "stderr",
     "output_type": "stream",
     "text": [
      "100%|███████████████████████████████████████████| 18/18 [00:00<00:00, 73.21it/s]\n"
     ]
    },
    {
     "name": "stdout",
     "output_type": "stream",
     "text": [
      "lr:  3e-05\n",
      "Epoch 3: \n",
      " Train Loss\t1.2099 \n",
      " Val Loss\t0.6698 \n",
      " Val Acc\t0.6774 \n",
      " Val F1\t\t0.8077 \n",
      " Val AUC\t0.4857 \n",
      " Val GMean\t0.0000 \n",
      " Val MCC\t0.0000\n"
     ]
    },
    {
     "name": "stderr",
     "output_type": "stream",
     "text": [
      "100%|███████████████████████████████████████████| 18/18 [00:00<00:00, 71.54it/s]\n"
     ]
    },
    {
     "name": "stdout",
     "output_type": "stream",
     "text": [
      "lr:  3e-05\n",
      "Epoch 4: \n",
      " Train Loss\t1.2063 \n",
      " Val Loss\t0.6675 \n",
      " Val Acc\t0.6774 \n",
      " Val F1\t\t0.8077 \n",
      " Val AUC\t0.4905 \n",
      " Val GMean\t0.0000 \n",
      " Val MCC\t0.0000\n"
     ]
    },
    {
     "name": "stderr",
     "output_type": "stream",
     "text": [
      "100%|███████████████████████████████████████████| 18/18 [00:00<00:00, 73.84it/s]\n"
     ]
    },
    {
     "name": "stdout",
     "output_type": "stream",
     "text": [
      "lr:  3e-05\n",
      "Epoch 5: \n",
      " Train Loss\t1.2032 \n",
      " Val Loss\t0.6664 \n",
      " Val Acc\t0.6774 \n",
      " Val F1\t\t0.8077 \n",
      " Val AUC\t0.5000 \n",
      " Val GMean\t0.0000 \n",
      " Val MCC\t0.0000\n"
     ]
    },
    {
     "name": "stderr",
     "output_type": "stream",
     "text": [
      "100%|███████████████████████████████████████████| 18/18 [00:00<00:00, 72.32it/s]\n"
     ]
    },
    {
     "name": "stdout",
     "output_type": "stream",
     "text": [
      "lr:  3e-05\n",
      "Epoch 6: \n",
      " Train Loss\t1.2013 \n",
      " Val Loss\t0.6651 \n",
      " Val Acc\t0.6774 \n",
      " Val F1\t\t0.8077 \n",
      " Val AUC\t0.5048 \n",
      " Val GMean\t0.0000 \n",
      " Val MCC\t0.0000\n"
     ]
    },
    {
     "name": "stderr",
     "output_type": "stream",
     "text": [
      "100%|███████████████████████████████████████████| 18/18 [00:00<00:00, 73.80it/s]\n"
     ]
    },
    {
     "name": "stdout",
     "output_type": "stream",
     "text": [
      "lr:  3e-05\n",
      "Epoch 7: \n",
      " Train Loss\t1.1991 \n",
      " Val Loss\t0.6640 \n",
      " Val Acc\t0.6774 \n",
      " Val F1\t\t0.8077 \n",
      " Val AUC\t0.5095 \n",
      " Val GMean\t0.0000 \n",
      " Val MCC\t0.0000\n"
     ]
    },
    {
     "name": "stderr",
     "output_type": "stream",
     "text": [
      "100%|███████████████████████████████████████████| 18/18 [00:00<00:00, 72.70it/s]\n"
     ]
    },
    {
     "name": "stdout",
     "output_type": "stream",
     "text": [
      "lr:  3e-05\n",
      "Epoch 8: \n",
      " Train Loss\t1.1978 \n",
      " Val Loss\t0.6629 \n",
      " Val Acc\t0.6774 \n",
      " Val F1\t\t0.8077 \n",
      " Val AUC\t0.5048 \n",
      " Val GMean\t0.0000 \n",
      " Val MCC\t0.0000\n"
     ]
    },
    {
     "name": "stderr",
     "output_type": "stream",
     "text": [
      "100%|███████████████████████████████████████████| 18/18 [00:00<00:00, 72.45it/s]\n"
     ]
    },
    {
     "name": "stdout",
     "output_type": "stream",
     "text": [
      "lr:  3e-05\n",
      "Epoch 9: \n",
      " Train Loss\t1.1964 \n",
      " Val Loss\t0.6614 \n",
      " Val Acc\t0.6774 \n",
      " Val F1\t\t0.8077 \n",
      " Val AUC\t0.5238 \n",
      " Val GMean\t0.0000 \n",
      " Val MCC\t0.0000\n"
     ]
    },
    {
     "name": "stderr",
     "output_type": "stream",
     "text": [
      "100%|███████████████████████████████████████████| 18/18 [00:00<00:00, 73.67it/s]\n"
     ]
    },
    {
     "name": "stdout",
     "output_type": "stream",
     "text": [
      "lr:  3e-05\n",
      "Epoch 10: \n",
      " Train Loss\t1.1952 \n",
      " Val Loss\t0.6606 \n",
      " Val Acc\t0.6774 \n",
      " Val F1\t\t0.8077 \n",
      " Val AUC\t0.5286 \n",
      " Val GMean\t0.0000 \n",
      " Val MCC\t0.0000\n"
     ]
    },
    {
     "name": "stderr",
     "output_type": "stream",
     "text": [
      "100%|███████████████████████████████████████████| 18/18 [00:00<00:00, 73.08it/s]\n"
     ]
    },
    {
     "name": "stdout",
     "output_type": "stream",
     "text": [
      "lr:  3e-05\n",
      "Epoch 11: \n",
      " Train Loss\t1.1942 \n",
      " Val Loss\t0.6600 \n",
      " Val Acc\t0.6774 \n",
      " Val F1\t\t0.8077 \n",
      " Val AUC\t0.5238 \n",
      " Val GMean\t0.0000 \n",
      " Val MCC\t0.0000\n"
     ]
    },
    {
     "name": "stderr",
     "output_type": "stream",
     "text": [
      "100%|███████████████████████████████████████████| 18/18 [00:00<00:00, 73.91it/s]\n"
     ]
    },
    {
     "name": "stdout",
     "output_type": "stream",
     "text": [
      "lr:  3e-05\n",
      "Epoch 12: \n",
      " Train Loss\t1.1929 \n",
      " Val Loss\t0.6592 \n",
      " Val Acc\t0.6774 \n",
      " Val F1\t\t0.8077 \n",
      " Val AUC\t0.5190 \n",
      " Val GMean\t0.0000 \n",
      " Val MCC\t0.0000\n"
     ]
    },
    {
     "name": "stderr",
     "output_type": "stream",
     "text": [
      "100%|███████████████████████████████████████████| 18/18 [00:00<00:00, 73.48it/s]\n"
     ]
    },
    {
     "name": "stdout",
     "output_type": "stream",
     "text": [
      "lr:  3e-05\n",
      "Epoch 13: \n",
      " Train Loss\t1.1921 \n",
      " Val Loss\t0.6586 \n",
      " Val Acc\t0.6774 \n",
      " Val F1\t\t0.8077 \n",
      " Val AUC\t0.5190 \n",
      " Val GMean\t0.0000 \n",
      " Val MCC\t0.0000\n"
     ]
    },
    {
     "name": "stderr",
     "output_type": "stream",
     "text": [
      "100%|███████████████████████████████████████████| 18/18 [00:00<00:00, 72.14it/s]\n"
     ]
    },
    {
     "name": "stdout",
     "output_type": "stream",
     "text": [
      "lr:  3e-05\n",
      "Epoch 14: \n",
      " Train Loss\t1.1912 \n",
      " Val Loss\t0.6579 \n",
      " Val Acc\t0.6774 \n",
      " Val F1\t\t0.8077 \n",
      " Val AUC\t0.5190 \n",
      " Val GMean\t0.0000 \n",
      " Val MCC\t0.0000\n"
     ]
    },
    {
     "name": "stderr",
     "output_type": "stream",
     "text": [
      "100%|███████████████████████████████████████████| 18/18 [00:00<00:00, 73.64it/s]\n"
     ]
    },
    {
     "name": "stdout",
     "output_type": "stream",
     "text": [
      "lr:  3e-05\n",
      "Epoch 15: \n",
      " Train Loss\t1.1900 \n",
      " Val Loss\t0.6576 \n",
      " Val Acc\t0.6774 \n",
      " Val F1\t\t0.8077 \n",
      " Val AUC\t0.5190 \n",
      " Val GMean\t0.0000 \n",
      " Val MCC\t0.0000\n"
     ]
    },
    {
     "name": "stderr",
     "output_type": "stream",
     "text": [
      "100%|███████████████████████████████████████████| 18/18 [00:00<00:00, 74.22it/s]\n"
     ]
    },
    {
     "name": "stdout",
     "output_type": "stream",
     "text": [
      "lr:  3e-05\n",
      "Epoch 16: \n",
      " Train Loss\t1.1894 \n",
      " Val Loss\t0.6570 \n",
      " Val Acc\t0.6774 \n",
      " Val F1\t\t0.8077 \n",
      " Val AUC\t0.5190 \n",
      " Val GMean\t0.0000 \n",
      " Val MCC\t0.0000\n"
     ]
    },
    {
     "name": "stderr",
     "output_type": "stream",
     "text": [
      "100%|███████████████████████████████████████████| 18/18 [00:00<00:00, 69.41it/s]\n"
     ]
    },
    {
     "name": "stdout",
     "output_type": "stream",
     "text": [
      "lr:  3e-05\n",
      "Epoch 17: \n",
      " Train Loss\t1.1889 \n",
      " Val Loss\t0.6563 \n",
      " Val Acc\t0.6774 \n",
      " Val F1\t\t0.8077 \n",
      " Val AUC\t0.5476 \n",
      " Val GMean\t0.0000 \n",
      " Val MCC\t0.0000\n"
     ]
    },
    {
     "name": "stderr",
     "output_type": "stream",
     "text": [
      "100%|███████████████████████████████████████████| 18/18 [00:00<00:00, 67.87it/s]\n"
     ]
    },
    {
     "name": "stdout",
     "output_type": "stream",
     "text": [
      "lr:  3e-05\n",
      "Epoch 18: \n",
      " Train Loss\t1.1887 \n",
      " Val Loss\t0.6554 \n",
      " Val Acc\t0.6774 \n",
      " Val F1\t\t0.8077 \n",
      " Val AUC\t0.5381 \n",
      " Val GMean\t0.0000 \n",
      " Val MCC\t0.0000\n"
     ]
    },
    {
     "name": "stderr",
     "output_type": "stream",
     "text": [
      "100%|███████████████████████████████████████████| 18/18 [00:00<00:00, 72.00it/s]\n"
     ]
    },
    {
     "name": "stdout",
     "output_type": "stream",
     "text": [
      "lr:  3e-05\n",
      "Epoch 19: \n",
      " Train Loss\t1.1883 \n",
      " Val Loss\t0.6548 \n",
      " Val Acc\t0.6774 \n",
      " Val F1\t\t0.8077 \n",
      " Val AUC\t0.5524 \n",
      " Val GMean\t0.0000 \n",
      " Val MCC\t0.0000\n"
     ]
    },
    {
     "name": "stderr",
     "output_type": "stream",
     "text": [
      "100%|███████████████████████████████████████████| 18/18 [00:00<00:00, 73.38it/s]\n"
     ]
    },
    {
     "name": "stdout",
     "output_type": "stream",
     "text": [
      "lr:  3e-05\n",
      "Epoch 20: \n",
      " Train Loss\t1.1876 \n",
      " Val Loss\t0.6544 \n",
      " Val Acc\t0.6774 \n",
      " Val F1\t\t0.8077 \n",
      " Val AUC\t0.5524 \n",
      " Val GMean\t0.0000 \n",
      " Val MCC\t0.0000\n"
     ]
    },
    {
     "name": "stderr",
     "output_type": "stream",
     "text": [
      "100%|███████████████████████████████████████████| 18/18 [00:00<00:00, 72.29it/s]\n"
     ]
    },
    {
     "name": "stdout",
     "output_type": "stream",
     "text": [
      "lr:  3e-05\n",
      "Epoch 21: \n",
      " Train Loss\t1.1872 \n",
      " Val Loss\t0.6540 \n",
      " Val Acc\t0.6774 \n",
      " Val F1\t\t0.8077 \n",
      " Val AUC\t0.5381 \n",
      " Val GMean\t0.0000 \n",
      " Val MCC\t0.0000\n"
     ]
    },
    {
     "name": "stderr",
     "output_type": "stream",
     "text": [
      "100%|███████████████████████████████████████████| 18/18 [00:00<00:00, 72.96it/s]\n"
     ]
    },
    {
     "name": "stdout",
     "output_type": "stream",
     "text": [
      "lr:  3e-05\n",
      "Epoch 22: \n",
      " Train Loss\t1.1865 \n",
      " Val Loss\t0.6537 \n",
      " Val Acc\t0.6774 \n",
      " Val F1\t\t0.8077 \n",
      " Val AUC\t0.5429 \n",
      " Val GMean\t0.0000 \n",
      " Val MCC\t0.0000\n"
     ]
    },
    {
     "name": "stderr",
     "output_type": "stream",
     "text": [
      "100%|███████████████████████████████████████████| 18/18 [00:00<00:00, 72.88it/s]\n"
     ]
    },
    {
     "name": "stdout",
     "output_type": "stream",
     "text": [
      "lr:  3e-05\n",
      "Epoch 23: \n",
      " Train Loss\t1.1854 \n",
      " Val Loss\t0.6533 \n",
      " Val Acc\t0.6774 \n",
      " Val F1\t\t0.8077 \n",
      " Val AUC\t0.5476 \n",
      " Val GMean\t0.0000 \n",
      " Val MCC\t0.0000\n"
     ]
    },
    {
     "name": "stderr",
     "output_type": "stream",
     "text": [
      "100%|███████████████████████████████████████████| 18/18 [00:00<00:00, 74.45it/s]\n"
     ]
    },
    {
     "name": "stdout",
     "output_type": "stream",
     "text": [
      "lr:  3e-05\n",
      "Epoch 24: \n",
      " Train Loss\t1.1853 \n",
      " Val Loss\t0.6530 \n",
      " Val Acc\t0.6774 \n",
      " Val F1\t\t0.8077 \n",
      " Val AUC\t0.5381 \n",
      " Val GMean\t0.0000 \n",
      " Val MCC\t0.0000\n"
     ]
    },
    {
     "name": "stderr",
     "output_type": "stream",
     "text": [
      "100%|███████████████████████████████████████████| 18/18 [00:00<00:00, 69.25it/s]\n"
     ]
    },
    {
     "name": "stdout",
     "output_type": "stream",
     "text": [
      "lr:  3e-05\n",
      "Epoch 25: \n",
      " Train Loss\t1.1847 \n",
      " Val Loss\t0.6528 \n",
      " Val Acc\t0.6774 \n",
      " Val F1\t\t0.8077 \n",
      " Val AUC\t0.5476 \n",
      " Val GMean\t0.0000 \n",
      " Val MCC\t0.0000\n"
     ]
    },
    {
     "name": "stderr",
     "output_type": "stream",
     "text": [
      "100%|███████████████████████████████████████████| 18/18 [00:00<00:00, 72.48it/s]\n"
     ]
    },
    {
     "name": "stdout",
     "output_type": "stream",
     "text": [
      "lr:  3e-05\n",
      "Epoch 26: \n",
      " Train Loss\t1.1843 \n",
      " Val Loss\t0.6528 \n",
      " Val Acc\t0.6774 \n",
      " Val F1\t\t0.8077 \n",
      " Val AUC\t0.5476 \n",
      " Val GMean\t0.0000 \n",
      " Val MCC\t0.0000\n"
     ]
    },
    {
     "name": "stderr",
     "output_type": "stream",
     "text": [
      "100%|███████████████████████████████████████████| 18/18 [00:00<00:00, 64.78it/s]\n"
     ]
    },
    {
     "name": "stdout",
     "output_type": "stream",
     "text": [
      "lr:  3e-05\n",
      "Epoch 27: \n",
      " Train Loss\t1.1839 \n",
      " Val Loss\t0.6527 \n",
      " Val Acc\t0.6774 \n",
      " Val F1\t\t0.8077 \n",
      " Val AUC\t0.5476 \n",
      " Val GMean\t0.0000 \n",
      " Val MCC\t0.0000\n"
     ]
    },
    {
     "name": "stderr",
     "output_type": "stream",
     "text": [
      "100%|███████████████████████████████████████████| 18/18 [00:00<00:00, 73.22it/s]\n"
     ]
    },
    {
     "name": "stdout",
     "output_type": "stream",
     "text": [
      "lr:  3e-05\n",
      "Epoch 28: \n",
      " Train Loss\t1.1836 \n",
      " Val Loss\t0.6524 \n",
      " Val Acc\t0.6774 \n",
      " Val F1\t\t0.8077 \n",
      " Val AUC\t0.5476 \n",
      " Val GMean\t0.0000 \n",
      " Val MCC\t0.0000\n"
     ]
    },
    {
     "name": "stderr",
     "output_type": "stream",
     "text": [
      "100%|███████████████████████████████████████████| 18/18 [00:00<00:00, 72.09it/s]\n"
     ]
    },
    {
     "name": "stdout",
     "output_type": "stream",
     "text": [
      "lr:  3e-05\n",
      "Epoch 29: \n",
      " Train Loss\t1.1833 \n",
      " Val Loss\t0.6522 \n",
      " Val Acc\t0.6774 \n",
      " Val F1\t\t0.8077 \n",
      " Val AUC\t0.5524 \n",
      " Val GMean\t0.0000 \n",
      " Val MCC\t0.0000\n"
     ]
    },
    {
     "name": "stderr",
     "output_type": "stream",
     "text": [
      "100%|███████████████████████████████████████████| 18/18 [00:00<00:00, 71.99it/s]\n"
     ]
    },
    {
     "name": "stdout",
     "output_type": "stream",
     "text": [
      "lr:  3e-05\n",
      "Epoch 30: \n",
      " Train Loss\t1.1830 \n",
      " Val Loss\t0.6520 \n",
      " Val Acc\t0.6774 \n",
      " Val F1\t\t0.8077 \n",
      " Val AUC\t0.5524 \n",
      " Val GMean\t0.0000 \n",
      " Val MCC\t0.0000\n"
     ]
    },
    {
     "name": "stderr",
     "output_type": "stream",
     "text": [
      "100%|███████████████████████████████████████████| 18/18 [00:00<00:00, 69.41it/s]\n"
     ]
    },
    {
     "name": "stdout",
     "output_type": "stream",
     "text": [
      "lr:  3e-05\n",
      "Epoch 31: \n",
      " Train Loss\t1.1827 \n",
      " Val Loss\t0.6519 \n",
      " Val Acc\t0.6774 \n",
      " Val F1\t\t0.8077 \n",
      " Val AUC\t0.5619 \n",
      " Val GMean\t0.0000 \n",
      " Val MCC\t0.0000\n"
     ]
    },
    {
     "name": "stderr",
     "output_type": "stream",
     "text": [
      "100%|███████████████████████████████████████████| 18/18 [00:00<00:00, 71.23it/s]\n"
     ]
    },
    {
     "name": "stdout",
     "output_type": "stream",
     "text": [
      "lr:  3e-05\n",
      "Epoch 32: \n",
      " Train Loss\t1.1823 \n",
      " Val Loss\t0.6517 \n",
      " Val Acc\t0.6774 \n",
      " Val F1\t\t0.8077 \n",
      " Val AUC\t0.5667 \n",
      " Val GMean\t0.0000 \n",
      " Val MCC\t0.0000\n"
     ]
    },
    {
     "name": "stderr",
     "output_type": "stream",
     "text": [
      "100%|███████████████████████████████████████████| 18/18 [00:00<00:00, 72.51it/s]\n"
     ]
    },
    {
     "name": "stdout",
     "output_type": "stream",
     "text": [
      "lr:  3e-05\n",
      "Epoch 33: \n",
      " Train Loss\t1.1819 \n",
      " Val Loss\t0.6515 \n",
      " Val Acc\t0.6774 \n",
      " Val F1\t\t0.8077 \n",
      " Val AUC\t0.5667 \n",
      " Val GMean\t0.0000 \n",
      " Val MCC\t0.0000\n"
     ]
    },
    {
     "name": "stderr",
     "output_type": "stream",
     "text": [
      "100%|███████████████████████████████████████████| 18/18 [00:00<00:00, 69.84it/s]\n"
     ]
    },
    {
     "name": "stdout",
     "output_type": "stream",
     "text": [
      "lr:  3e-05\n",
      "Epoch 34: \n",
      " Train Loss\t1.1816 \n",
      " Val Loss\t0.6514 \n",
      " Val Acc\t0.6774 \n",
      " Val F1\t\t0.8077 \n",
      " Val AUC\t0.5619 \n",
      " Val GMean\t0.0000 \n",
      " Val MCC\t0.0000\n"
     ]
    },
    {
     "name": "stderr",
     "output_type": "stream",
     "text": [
      "100%|███████████████████████████████████████████| 18/18 [00:00<00:00, 70.44it/s]\n"
     ]
    },
    {
     "name": "stdout",
     "output_type": "stream",
     "text": [
      "lr:  3e-05\n",
      "Epoch 35: \n",
      " Train Loss\t1.1813 \n",
      " Val Loss\t0.6511 \n",
      " Val Acc\t0.6774 \n",
      " Val F1\t\t0.8077 \n",
      " Val AUC\t0.5762 \n",
      " Val GMean\t0.0000 \n",
      " Val MCC\t0.0000\n"
     ]
    },
    {
     "name": "stderr",
     "output_type": "stream",
     "text": [
      "100%|███████████████████████████████████████████| 18/18 [00:00<00:00, 71.85it/s]\n"
     ]
    },
    {
     "name": "stdout",
     "output_type": "stream",
     "text": [
      "lr:  3e-05\n",
      "Epoch 36: \n",
      " Train Loss\t1.1810 \n",
      " Val Loss\t0.6510 \n",
      " Val Acc\t0.6774 \n",
      " Val F1\t\t0.8077 \n",
      " Val AUC\t0.5762 \n",
      " Val GMean\t0.0000 \n",
      " Val MCC\t0.0000\n"
     ]
    },
    {
     "name": "stderr",
     "output_type": "stream",
     "text": [
      "100%|███████████████████████████████████████████| 18/18 [00:00<00:00, 72.39it/s]\n"
     ]
    },
    {
     "name": "stdout",
     "output_type": "stream",
     "text": [
      "lr:  3e-05\n",
      "Epoch 37: \n",
      " Train Loss\t1.1804 \n",
      " Val Loss\t0.6508 \n",
      " Val Acc\t0.6774 \n",
      " Val F1\t\t0.8077 \n",
      " Val AUC\t0.5857 \n",
      " Val GMean\t0.0000 \n",
      " Val MCC\t0.0000\n"
     ]
    },
    {
     "name": "stderr",
     "output_type": "stream",
     "text": [
      "100%|███████████████████████████████████████████| 18/18 [00:00<00:00, 72.25it/s]\n"
     ]
    },
    {
     "name": "stdout",
     "output_type": "stream",
     "text": [
      "lr:  3e-05\n",
      "Epoch 38: \n",
      " Train Loss\t1.1801 \n",
      " Val Loss\t0.6506 \n",
      " Val Acc\t0.6774 \n",
      " Val F1\t\t0.8077 \n",
      " Val AUC\t0.5905 \n",
      " Val GMean\t0.0000 \n",
      " Val MCC\t0.0000\n"
     ]
    },
    {
     "name": "stderr",
     "output_type": "stream",
     "text": [
      "100%|███████████████████████████████████████████| 18/18 [00:00<00:00, 71.89it/s]\n"
     ]
    },
    {
     "name": "stdout",
     "output_type": "stream",
     "text": [
      "lr:  3e-05\n",
      "Epoch 39: \n",
      " Train Loss\t1.1797 \n",
      " Val Loss\t0.6505 \n",
      " Val Acc\t0.6774 \n",
      " Val F1\t\t0.8077 \n",
      " Val AUC\t0.5857 \n",
      " Val GMean\t0.0000 \n",
      " Val MCC\t0.0000\n"
     ]
    },
    {
     "name": "stderr",
     "output_type": "stream",
     "text": [
      "100%|███████████████████████████████████████████| 18/18 [00:00<00:00, 72.98it/s]\n"
     ]
    },
    {
     "name": "stdout",
     "output_type": "stream",
     "text": [
      "lr:  3e-05\n",
      "Epoch 40: \n",
      " Train Loss\t1.1795 \n",
      " Val Loss\t0.6504 \n",
      " Val Acc\t0.6774 \n",
      " Val F1\t\t0.8077 \n",
      " Val AUC\t0.5952 \n",
      " Val GMean\t0.0000 \n",
      " Val MCC\t0.0000\n"
     ]
    },
    {
     "name": "stderr",
     "output_type": "stream",
     "text": [
      "100%|███████████████████████████████████████████| 18/18 [00:00<00:00, 71.64it/s]\n"
     ]
    },
    {
     "name": "stdout",
     "output_type": "stream",
     "text": [
      "lr:  3e-05\n",
      "Epoch 41: \n",
      " Train Loss\t1.1794 \n",
      " Val Loss\t0.6501 \n",
      " Val Acc\t0.6774 \n",
      " Val F1\t\t0.8077 \n",
      " Val AUC\t0.5857 \n",
      " Val GMean\t0.0000 \n",
      " Val MCC\t0.0000\n"
     ]
    },
    {
     "name": "stderr",
     "output_type": "stream",
     "text": [
      "100%|███████████████████████████████████████████| 18/18 [00:00<00:00, 73.26it/s]\n"
     ]
    },
    {
     "name": "stdout",
     "output_type": "stream",
     "text": [
      "lr:  3e-05\n",
      "Epoch 42: \n",
      " Train Loss\t1.1791 \n",
      " Val Loss\t0.6502 \n",
      " Val Acc\t0.6774 \n",
      " Val F1\t\t0.8077 \n",
      " Val AUC\t0.6000 \n",
      " Val GMean\t0.0000 \n",
      " Val MCC\t0.0000\n"
     ]
    },
    {
     "name": "stderr",
     "output_type": "stream",
     "text": [
      "100%|███████████████████████████████████████████| 18/18 [00:00<00:00, 72.76it/s]\n"
     ]
    },
    {
     "name": "stdout",
     "output_type": "stream",
     "text": [
      "lr:  3e-05\n",
      "Epoch 43: \n",
      " Train Loss\t1.1789 \n",
      " Val Loss\t0.6500 \n",
      " Val Acc\t0.6774 \n",
      " Val F1\t\t0.8077 \n",
      " Val AUC\t0.6048 \n",
      " Val GMean\t0.0000 \n",
      " Val MCC\t0.0000\n"
     ]
    },
    {
     "name": "stderr",
     "output_type": "stream",
     "text": [
      "100%|███████████████████████████████████████████| 18/18 [00:00<00:00, 71.93it/s]\n"
     ]
    },
    {
     "name": "stdout",
     "output_type": "stream",
     "text": [
      "lr:  3e-05\n",
      "Epoch 44: \n",
      " Train Loss\t1.1787 \n",
      " Val Loss\t0.6500 \n",
      " Val Acc\t0.6774 \n",
      " Val F1\t\t0.8077 \n",
      " Val AUC\t0.6095 \n",
      " Val GMean\t0.0000 \n",
      " Val MCC\t0.0000\n"
     ]
    },
    {
     "name": "stderr",
     "output_type": "stream",
     "text": [
      "100%|███████████████████████████████████████████| 18/18 [00:00<00:00, 73.60it/s]\n"
     ]
    },
    {
     "name": "stdout",
     "output_type": "stream",
     "text": [
      "lr:  3e-05\n",
      "Epoch 45: \n",
      " Train Loss\t1.1783 \n",
      " Val Loss\t0.6501 \n",
      " Val Acc\t0.6774 \n",
      " Val F1\t\t0.8077 \n",
      " Val AUC\t0.6000 \n",
      " Val GMean\t0.0000 \n",
      " Val MCC\t0.0000\n"
     ]
    },
    {
     "name": "stderr",
     "output_type": "stream",
     "text": [
      "100%|███████████████████████████████████████████| 18/18 [00:00<00:00, 72.00it/s]\n"
     ]
    },
    {
     "name": "stdout",
     "output_type": "stream",
     "text": [
      "lr:  3e-05\n",
      "Epoch 46: \n",
      " Train Loss\t1.1782 \n",
      " Val Loss\t0.6500 \n",
      " Val Acc\t0.6774 \n",
      " Val F1\t\t0.8077 \n",
      " Val AUC\t0.6048 \n",
      " Val GMean\t0.0000 \n",
      " Val MCC\t0.0000\n"
     ]
    },
    {
     "name": "stderr",
     "output_type": "stream",
     "text": [
      "100%|███████████████████████████████████████████| 18/18 [00:00<00:00, 72.44it/s]\n"
     ]
    },
    {
     "name": "stdout",
     "output_type": "stream",
     "text": [
      "lr:  3e-05\n",
      "Epoch 47: \n",
      " Train Loss\t1.1779 \n",
      " Val Loss\t0.6502 \n",
      " Val Acc\t0.6774 \n",
      " Val F1\t\t0.8077 \n",
      " Val AUC\t0.6095 \n",
      " Val GMean\t0.0000 \n",
      " Val MCC\t0.0000\n"
     ]
    },
    {
     "name": "stderr",
     "output_type": "stream",
     "text": [
      "100%|███████████████████████████████████████████| 18/18 [00:00<00:00, 73.56it/s]\n"
     ]
    },
    {
     "name": "stdout",
     "output_type": "stream",
     "text": [
      "lr:  3e-05\n",
      "Epoch 48: \n",
      " Train Loss\t1.1777 \n",
      " Val Loss\t0.6501 \n",
      " Val Acc\t0.6774 \n",
      " Val F1\t\t0.8077 \n",
      " Val AUC\t0.6048 \n",
      " Val GMean\t0.0000 \n",
      " Val MCC\t0.0000\n"
     ]
    },
    {
     "name": "stderr",
     "output_type": "stream",
     "text": [
      "100%|███████████████████████████████████████████| 18/18 [00:00<00:00, 73.56it/s]\n"
     ]
    },
    {
     "name": "stdout",
     "output_type": "stream",
     "text": [
      "lr:  3e-05\n",
      "Epoch 49: \n",
      " Train Loss\t1.1775 \n",
      " Val Loss\t0.6501 \n",
      " Val Acc\t0.6774 \n",
      " Val F1\t\t0.8077 \n",
      " Val AUC\t0.6143 \n",
      " Val GMean\t0.0000 \n",
      " Val MCC\t0.0000\n"
     ]
    },
    {
     "name": "stderr",
     "output_type": "stream",
     "text": [
      "100%|███████████████████████████████████████████| 18/18 [00:00<00:00, 72.28it/s]\n"
     ]
    },
    {
     "name": "stdout",
     "output_type": "stream",
     "text": [
      "lr:  3e-05\n",
      "Epoch 50: \n",
      " Train Loss\t1.1773 \n",
      " Val Loss\t0.6500 \n",
      " Val Acc\t0.6774 \n",
      " Val F1\t\t0.8077 \n",
      " Val AUC\t0.6190 \n",
      " Val GMean\t0.0000 \n",
      " Val MCC\t0.0000\n"
     ]
    },
    {
     "name": "stderr",
     "output_type": "stream",
     "text": [
      "100%|███████████████████████████████████████████| 18/18 [00:00<00:00, 72.03it/s]\n"
     ]
    },
    {
     "name": "stdout",
     "output_type": "stream",
     "text": [
      "lr:  3e-05\n",
      "Epoch 51: \n",
      " Train Loss\t1.1770 \n",
      " Val Loss\t0.6500 \n",
      " Val Acc\t0.6774 \n",
      " Val F1\t\t0.8077 \n",
      " Val AUC\t0.6190 \n",
      " Val GMean\t0.0000 \n",
      " Val MCC\t0.0000\n"
     ]
    },
    {
     "name": "stderr",
     "output_type": "stream",
     "text": [
      "100%|███████████████████████████████████████████| 18/18 [00:00<00:00, 71.63it/s]\n"
     ]
    },
    {
     "name": "stdout",
     "output_type": "stream",
     "text": [
      "lr:  3e-05\n",
      "Epoch 52: \n",
      " Train Loss\t1.1768 \n",
      " Val Loss\t0.6499 \n",
      " Val Acc\t0.6774 \n",
      " Val F1\t\t0.8077 \n",
      " Val AUC\t0.6143 \n",
      " Val GMean\t0.0000 \n",
      " Val MCC\t0.0000\n"
     ]
    },
    {
     "name": "stderr",
     "output_type": "stream",
     "text": [
      "100%|███████████████████████████████████████████| 18/18 [00:00<00:00, 71.89it/s]\n"
     ]
    },
    {
     "name": "stdout",
     "output_type": "stream",
     "text": [
      "lr:  3e-05\n",
      "Epoch 53: \n",
      " Train Loss\t1.1765 \n",
      " Val Loss\t0.6499 \n",
      " Val Acc\t0.6774 \n",
      " Val F1\t\t0.8077 \n",
      " Val AUC\t0.6190 \n",
      " Val GMean\t0.0000 \n",
      " Val MCC\t0.0000\n"
     ]
    },
    {
     "name": "stderr",
     "output_type": "stream",
     "text": [
      "100%|███████████████████████████████████████████| 18/18 [00:00<00:00, 72.40it/s]\n"
     ]
    },
    {
     "name": "stdout",
     "output_type": "stream",
     "text": [
      "lr:  3e-05\n",
      "Epoch 54: \n",
      " Train Loss\t1.1762 \n",
      " Val Loss\t0.6498 \n",
      " Val Acc\t0.6774 \n",
      " Val F1\t\t0.8077 \n",
      " Val AUC\t0.6190 \n",
      " Val GMean\t0.0000 \n",
      " Val MCC\t0.0000\n"
     ]
    },
    {
     "name": "stderr",
     "output_type": "stream",
     "text": [
      "100%|███████████████████████████████████████████| 18/18 [00:00<00:00, 73.55it/s]\n"
     ]
    },
    {
     "name": "stdout",
     "output_type": "stream",
     "text": [
      "lr:  3e-05\n",
      "Epoch 55: \n",
      " Train Loss\t1.1760 \n",
      " Val Loss\t0.6498 \n",
      " Val Acc\t0.6774 \n",
      " Val F1\t\t0.8077 \n",
      " Val AUC\t0.6190 \n",
      " Val GMean\t0.0000 \n",
      " Val MCC\t0.0000\n"
     ]
    },
    {
     "name": "stderr",
     "output_type": "stream",
     "text": [
      "100%|███████████████████████████████████████████| 18/18 [00:00<00:00, 71.93it/s]\n"
     ]
    },
    {
     "name": "stdout",
     "output_type": "stream",
     "text": [
      "lr:  3e-05\n",
      "Epoch 56: \n",
      " Train Loss\t1.1757 \n",
      " Val Loss\t0.6499 \n",
      " Val Acc\t0.6774 \n",
      " Val F1\t\t0.8077 \n",
      " Val AUC\t0.6238 \n",
      " Val GMean\t0.0000 \n",
      " Val MCC\t0.0000\n"
     ]
    },
    {
     "name": "stderr",
     "output_type": "stream",
     "text": [
      "100%|███████████████████████████████████████████| 18/18 [00:00<00:00, 74.42it/s]\n"
     ]
    },
    {
     "name": "stdout",
     "output_type": "stream",
     "text": [
      "lr:  3e-05\n",
      "Epoch 57: \n",
      " Train Loss\t1.1755 \n",
      " Val Loss\t0.6499 \n",
      " Val Acc\t0.6774 \n",
      " Val F1\t\t0.8077 \n",
      " Val AUC\t0.6238 \n",
      " Val GMean\t0.0000 \n",
      " Val MCC\t0.0000\n"
     ]
    },
    {
     "name": "stderr",
     "output_type": "stream",
     "text": [
      "100%|███████████████████████████████████████████| 18/18 [00:00<00:00, 73.07it/s]\n"
     ]
    },
    {
     "name": "stdout",
     "output_type": "stream",
     "text": [
      "lr:  3e-05\n",
      "Epoch 58: \n",
      " Train Loss\t1.1752 \n",
      " Val Loss\t0.6499 \n",
      " Val Acc\t0.6774 \n",
      " Val F1\t\t0.8077 \n",
      " Val AUC\t0.6238 \n",
      " Val GMean\t0.0000 \n",
      " Val MCC\t0.0000\n"
     ]
    },
    {
     "name": "stderr",
     "output_type": "stream",
     "text": [
      "100%|███████████████████████████████████████████| 18/18 [00:00<00:00, 70.12it/s]\n"
     ]
    },
    {
     "name": "stdout",
     "output_type": "stream",
     "text": [
      "lr:  3e-05\n",
      "Epoch 59: \n",
      " Train Loss\t1.1749 \n",
      " Val Loss\t0.6500 \n",
      " Val Acc\t0.6774 \n",
      " Val F1\t\t0.8077 \n",
      " Val AUC\t0.6238 \n",
      " Val GMean\t0.0000 \n",
      " Val MCC\t0.0000\n"
     ]
    },
    {
     "name": "stderr",
     "output_type": "stream",
     "text": [
      "100%|███████████████████████████████████████████| 18/18 [00:00<00:00, 73.52it/s]\n"
     ]
    },
    {
     "name": "stdout",
     "output_type": "stream",
     "text": [
      "lr:  3e-05\n",
      "Epoch 60: \n",
      " Train Loss\t1.1747 \n",
      " Val Loss\t0.6500 \n",
      " Val Acc\t0.6774 \n",
      " Val F1\t\t0.8077 \n",
      " Val AUC\t0.6238 \n",
      " Val GMean\t0.0000 \n",
      " Val MCC\t0.0000\n"
     ]
    },
    {
     "name": "stderr",
     "output_type": "stream",
     "text": [
      "100%|███████████████████████████████████████████| 18/18 [00:00<00:00, 72.69it/s]\n"
     ]
    },
    {
     "name": "stdout",
     "output_type": "stream",
     "text": [
      "lr:  3e-05\n",
      "Epoch 61: \n",
      " Train Loss\t1.1744 \n",
      " Val Loss\t0.6503 \n",
      " Val Acc\t0.6774 \n",
      " Val F1\t\t0.8077 \n",
      " Val AUC\t0.6238 \n",
      " Val GMean\t0.0000 \n",
      " Val MCC\t0.0000\n"
     ]
    },
    {
     "name": "stderr",
     "output_type": "stream",
     "text": [
      "100%|███████████████████████████████████████████| 18/18 [00:00<00:00, 69.31it/s]\n"
     ]
    },
    {
     "name": "stdout",
     "output_type": "stream",
     "text": [
      "lr:  3e-05\n",
      "Epoch 62: \n",
      " Train Loss\t1.1741 \n",
      " Val Loss\t0.6503 \n",
      " Val Acc\t0.6774 \n",
      " Val F1\t\t0.8077 \n",
      " Val AUC\t0.6238 \n",
      " Val GMean\t0.0000 \n",
      " Val MCC\t0.0000\n"
     ]
    },
    {
     "name": "stderr",
     "output_type": "stream",
     "text": [
      "100%|███████████████████████████████████████████| 18/18 [00:00<00:00, 67.33it/s]\n"
     ]
    },
    {
     "name": "stdout",
     "output_type": "stream",
     "text": [
      "lr:  3e-05\n",
      "Epoch 63: \n",
      " Train Loss\t1.1739 \n",
      " Val Loss\t0.6503 \n",
      " Val Acc\t0.6774 \n",
      " Val F1\t\t0.8077 \n",
      " Val AUC\t0.6286 \n",
      " Val GMean\t0.0000 \n",
      " Val MCC\t0.0000\n"
     ]
    },
    {
     "name": "stderr",
     "output_type": "stream",
     "text": [
      "100%|███████████████████████████████████████████| 18/18 [00:00<00:00, 70.88it/s]\n"
     ]
    },
    {
     "name": "stdout",
     "output_type": "stream",
     "text": [
      "lr:  3e-05\n",
      "Epoch 64: \n",
      " Train Loss\t1.1738 \n",
      " Val Loss\t0.6503 \n",
      " Val Acc\t0.6774 \n",
      " Val F1\t\t0.8077 \n",
      " Val AUC\t0.6238 \n",
      " Val GMean\t0.0000 \n",
      " Val MCC\t0.0000\n"
     ]
    },
    {
     "name": "stderr",
     "output_type": "stream",
     "text": [
      "100%|███████████████████████████████████████████| 18/18 [00:00<00:00, 69.57it/s]\n"
     ]
    },
    {
     "name": "stdout",
     "output_type": "stream",
     "text": [
      "lr:  3e-05\n",
      "Epoch 65: \n",
      " Train Loss\t1.1736 \n",
      " Val Loss\t0.6502 \n",
      " Val Acc\t0.6774 \n",
      " Val F1\t\t0.8077 \n",
      " Val AUC\t0.6238 \n",
      " Val GMean\t0.0000 \n",
      " Val MCC\t0.0000\n"
     ]
    },
    {
     "name": "stderr",
     "output_type": "stream",
     "text": [
      "100%|███████████████████████████████████████████| 18/18 [00:00<00:00, 72.37it/s]\n"
     ]
    },
    {
     "name": "stdout",
     "output_type": "stream",
     "text": [
      "lr:  3e-05\n",
      "Epoch 66: \n",
      " Train Loss\t1.1734 \n",
      " Val Loss\t0.6501 \n",
      " Val Acc\t0.6774 \n",
      " Val F1\t\t0.8077 \n",
      " Val AUC\t0.6238 \n",
      " Val GMean\t0.0000 \n",
      " Val MCC\t0.0000\n"
     ]
    },
    {
     "name": "stderr",
     "output_type": "stream",
     "text": [
      "100%|███████████████████████████████████████████| 18/18 [00:00<00:00, 72.43it/s]\n"
     ]
    },
    {
     "name": "stdout",
     "output_type": "stream",
     "text": [
      "lr:  3e-05\n",
      "Epoch 67: \n",
      " Train Loss\t1.1732 \n",
      " Val Loss\t0.6503 \n",
      " Val Acc\t0.6774 \n",
      " Val F1\t\t0.8077 \n",
      " Val AUC\t0.6429 \n",
      " Val GMean\t0.0000 \n",
      " Val MCC\t0.0000\n"
     ]
    },
    {
     "name": "stderr",
     "output_type": "stream",
     "text": [
      "100%|███████████████████████████████████████████| 18/18 [00:00<00:00, 72.74it/s]\n"
     ]
    },
    {
     "name": "stdout",
     "output_type": "stream",
     "text": [
      "lr:  3e-05\n",
      "Epoch 68: \n",
      " Train Loss\t1.1730 \n",
      " Val Loss\t0.6503 \n",
      " Val Acc\t0.6774 \n",
      " Val F1\t\t0.8077 \n",
      " Val AUC\t0.6381 \n",
      " Val GMean\t0.0000 \n",
      " Val MCC\t0.0000\n"
     ]
    },
    {
     "name": "stderr",
     "output_type": "stream",
     "text": [
      "100%|███████████████████████████████████████████| 18/18 [00:00<00:00, 73.67it/s]\n"
     ]
    },
    {
     "name": "stdout",
     "output_type": "stream",
     "text": [
      "lr:  3e-05\n",
      "Epoch 69: \n",
      " Train Loss\t1.1728 \n",
      " Val Loss\t0.6503 \n",
      " Val Acc\t0.6774 \n",
      " Val F1\t\t0.8077 \n",
      " Val AUC\t0.6476 \n",
      " Val GMean\t0.0000 \n",
      " Val MCC\t0.0000\n"
     ]
    },
    {
     "name": "stderr",
     "output_type": "stream",
     "text": [
      "100%|███████████████████████████████████████████| 18/18 [00:00<00:00, 72.75it/s]\n"
     ]
    },
    {
     "name": "stdout",
     "output_type": "stream",
     "text": [
      "lr:  3e-05\n",
      "Epoch 70: \n",
      " Train Loss\t1.1726 \n",
      " Val Loss\t0.6503 \n",
      " Val Acc\t0.6774 \n",
      " Val F1\t\t0.8077 \n",
      " Val AUC\t0.6619 \n",
      " Val GMean\t0.0000 \n",
      " Val MCC\t0.0000\n"
     ]
    },
    {
     "name": "stderr",
     "output_type": "stream",
     "text": [
      "100%|███████████████████████████████████████████| 18/18 [00:00<00:00, 72.73it/s]\n"
     ]
    },
    {
     "name": "stdout",
     "output_type": "stream",
     "text": [
      "lr:  3e-05\n",
      "Epoch 71: \n",
      " Train Loss\t1.1724 \n",
      " Val Loss\t0.6503 \n",
      " Val Acc\t0.6774 \n",
      " Val F1\t\t0.8077 \n",
      " Val AUC\t0.6619 \n",
      " Val GMean\t0.0000 \n",
      " Val MCC\t0.0000\n"
     ]
    },
    {
     "name": "stderr",
     "output_type": "stream",
     "text": [
      "100%|███████████████████████████████████████████| 18/18 [00:00<00:00, 73.44it/s]\n"
     ]
    },
    {
     "name": "stdout",
     "output_type": "stream",
     "text": [
      "lr:  3e-05\n",
      "Epoch 72: \n",
      " Train Loss\t1.1722 \n",
      " Val Loss\t0.6502 \n",
      " Val Acc\t0.6774 \n",
      " Val F1\t\t0.8077 \n",
      " Val AUC\t0.6571 \n",
      " Val GMean\t0.0000 \n",
      " Val MCC\t0.0000\n"
     ]
    },
    {
     "name": "stderr",
     "output_type": "stream",
     "text": [
      "100%|███████████████████████████████████████████| 18/18 [00:00<00:00, 71.95it/s]\n"
     ]
    },
    {
     "name": "stdout",
     "output_type": "stream",
     "text": [
      "lr:  3e-05\n",
      "Epoch 73: \n",
      " Train Loss\t1.1720 \n",
      " Val Loss\t0.6502 \n",
      " Val Acc\t0.6774 \n",
      " Val F1\t\t0.8077 \n",
      " Val AUC\t0.6571 \n",
      " Val GMean\t0.0000 \n",
      " Val MCC\t0.0000\n"
     ]
    },
    {
     "name": "stderr",
     "output_type": "stream",
     "text": [
      "100%|███████████████████████████████████████████| 18/18 [00:00<00:00, 71.29it/s]\n"
     ]
    },
    {
     "name": "stdout",
     "output_type": "stream",
     "text": [
      "lr:  3e-05\n",
      "Epoch 74: \n",
      " Train Loss\t1.1717 \n",
      " Val Loss\t0.6501 \n",
      " Val Acc\t0.6774 \n",
      " Val F1\t\t0.8077 \n",
      " Val AUC\t0.6667 \n",
      " Val GMean\t0.0000 \n",
      " Val MCC\t0.0000\n"
     ]
    },
    {
     "name": "stderr",
     "output_type": "stream",
     "text": [
      "100%|███████████████████████████████████████████| 18/18 [00:00<00:00, 72.04it/s]\n"
     ]
    },
    {
     "name": "stdout",
     "output_type": "stream",
     "text": [
      "lr:  3e-05\n",
      "Epoch 75: \n",
      " Train Loss\t1.1715 \n",
      " Val Loss\t0.6501 \n",
      " Val Acc\t0.6774 \n",
      " Val F1\t\t0.8077 \n",
      " Val AUC\t0.6619 \n",
      " Val GMean\t0.0000 \n",
      " Val MCC\t0.0000\n"
     ]
    },
    {
     "name": "stderr",
     "output_type": "stream",
     "text": [
      "100%|███████████████████████████████████████████| 18/18 [00:00<00:00, 71.92it/s]\n"
     ]
    },
    {
     "name": "stdout",
     "output_type": "stream",
     "text": [
      "lr:  3e-05\n",
      "Epoch 76: \n",
      " Train Loss\t1.1713 \n",
      " Val Loss\t0.6500 \n",
      " Val Acc\t0.6774 \n",
      " Val F1\t\t0.8077 \n",
      " Val AUC\t0.6619 \n",
      " Val GMean\t0.0000 \n",
      " Val MCC\t0.0000\n"
     ]
    },
    {
     "name": "stderr",
     "output_type": "stream",
     "text": [
      "100%|███████████████████████████████████████████| 18/18 [00:00<00:00, 74.10it/s]\n"
     ]
    },
    {
     "name": "stdout",
     "output_type": "stream",
     "text": [
      "lr:  3e-05\n",
      "Epoch 77: \n",
      " Train Loss\t1.1712 \n",
      " Val Loss\t0.6499 \n",
      " Val Acc\t0.6774 \n",
      " Val F1\t\t0.8077 \n",
      " Val AUC\t0.6667 \n",
      " Val GMean\t0.0000 \n",
      " Val MCC\t0.0000\n"
     ]
    },
    {
     "name": "stderr",
     "output_type": "stream",
     "text": [
      "100%|███████████████████████████████████████████| 18/18 [00:00<00:00, 72.65it/s]\n"
     ]
    },
    {
     "name": "stdout",
     "output_type": "stream",
     "text": [
      "lr:  3e-05\n",
      "Epoch 78: \n",
      " Train Loss\t1.1710 \n",
      " Val Loss\t0.6499 \n",
      " Val Acc\t0.6774 \n",
      " Val F1\t\t0.8077 \n",
      " Val AUC\t0.6762 \n",
      " Val GMean\t0.0000 \n",
      " Val MCC\t0.0000\n"
     ]
    },
    {
     "name": "stderr",
     "output_type": "stream",
     "text": [
      "100%|███████████████████████████████████████████| 18/18 [00:00<00:00, 73.10it/s]\n"
     ]
    },
    {
     "name": "stdout",
     "output_type": "stream",
     "text": [
      "lr:  3e-05\n",
      "Epoch 79: \n",
      " Train Loss\t1.1709 \n",
      " Val Loss\t0.6499 \n",
      " Val Acc\t0.6774 \n",
      " Val F1\t\t0.8077 \n",
      " Val AUC\t0.6667 \n",
      " Val GMean\t0.0000 \n",
      " Val MCC\t0.0000\n"
     ]
    },
    {
     "name": "stderr",
     "output_type": "stream",
     "text": [
      "100%|███████████████████████████████████████████| 18/18 [00:00<00:00, 72.92it/s]\n"
     ]
    },
    {
     "name": "stdout",
     "output_type": "stream",
     "text": [
      "lr:  3e-05\n",
      "Epoch 80: \n",
      " Train Loss\t1.1707 \n",
      " Val Loss\t0.6499 \n",
      " Val Acc\t0.6774 \n",
      " Val F1\t\t0.8077 \n",
      " Val AUC\t0.6619 \n",
      " Val GMean\t0.0000 \n",
      " Val MCC\t0.0000\n"
     ]
    },
    {
     "name": "stderr",
     "output_type": "stream",
     "text": [
      "100%|███████████████████████████████████████████| 18/18 [00:00<00:00, 72.16it/s]\n"
     ]
    },
    {
     "name": "stdout",
     "output_type": "stream",
     "text": [
      "lr:  3e-05\n",
      "Epoch 81: \n",
      " Train Loss\t1.1705 \n",
      " Val Loss\t0.6499 \n",
      " Val Acc\t0.6774 \n",
      " Val F1\t\t0.8077 \n",
      " Val AUC\t0.6667 \n",
      " Val GMean\t0.0000 \n",
      " Val MCC\t0.0000\n"
     ]
    },
    {
     "name": "stderr",
     "output_type": "stream",
     "text": [
      "100%|███████████████████████████████████████████| 18/18 [00:00<00:00, 72.40it/s]\n"
     ]
    },
    {
     "name": "stdout",
     "output_type": "stream",
     "text": [
      "lr:  3e-05\n",
      "Epoch 82: \n",
      " Train Loss\t1.1702 \n",
      " Val Loss\t0.6499 \n",
      " Val Acc\t0.6774 \n",
      " Val F1\t\t0.8077 \n",
      " Val AUC\t0.6619 \n",
      " Val GMean\t0.0000 \n",
      " Val MCC\t0.0000\n"
     ]
    },
    {
     "name": "stderr",
     "output_type": "stream",
     "text": [
      "100%|███████████████████████████████████████████| 18/18 [00:00<00:00, 71.94it/s]\n"
     ]
    },
    {
     "name": "stdout",
     "output_type": "stream",
     "text": [
      "lr:  3e-05\n",
      "Epoch 83: \n",
      " Train Loss\t1.1701 \n",
      " Val Loss\t0.6499 \n",
      " Val Acc\t0.6774 \n",
      " Val F1\t\t0.8077 \n",
      " Val AUC\t0.6619 \n",
      " Val GMean\t0.0000 \n",
      " Val MCC\t0.0000\n"
     ]
    },
    {
     "name": "stderr",
     "output_type": "stream",
     "text": [
      "100%|███████████████████████████████████████████| 18/18 [00:00<00:00, 73.70it/s]\n"
     ]
    },
    {
     "name": "stdout",
     "output_type": "stream",
     "text": [
      "lr:  3e-05\n",
      "Epoch 84: \n",
      " Train Loss\t1.1699 \n",
      " Val Loss\t0.6498 \n",
      " Val Acc\t0.6774 \n",
      " Val F1\t\t0.8077 \n",
      " Val AUC\t0.6619 \n",
      " Val GMean\t0.0000 \n",
      " Val MCC\t0.0000\n"
     ]
    },
    {
     "name": "stderr",
     "output_type": "stream",
     "text": [
      "100%|███████████████████████████████████████████| 18/18 [00:00<00:00, 72.83it/s]\n"
     ]
    },
    {
     "name": "stdout",
     "output_type": "stream",
     "text": [
      "lr:  3e-05\n",
      "Epoch 85: \n",
      " Train Loss\t1.1696 \n",
      " Val Loss\t0.6499 \n",
      " Val Acc\t0.6774 \n",
      " Val F1\t\t0.8077 \n",
      " Val AUC\t0.6714 \n",
      " Val GMean\t0.0000 \n",
      " Val MCC\t0.0000\n"
     ]
    },
    {
     "name": "stderr",
     "output_type": "stream",
     "text": [
      "100%|███████████████████████████████████████████| 18/18 [00:00<00:00, 71.38it/s]\n"
     ]
    },
    {
     "name": "stdout",
     "output_type": "stream",
     "text": [
      "lr:  3e-05\n",
      "Epoch 86: \n",
      " Train Loss\t1.1693 \n",
      " Val Loss\t0.6498 \n",
      " Val Acc\t0.6774 \n",
      " Val F1\t\t0.8077 \n",
      " Val AUC\t0.6667 \n",
      " Val GMean\t0.0000 \n",
      " Val MCC\t0.0000\n"
     ]
    },
    {
     "name": "stderr",
     "output_type": "stream",
     "text": [
      "100%|███████████████████████████████████████████| 18/18 [00:00<00:00, 73.01it/s]\n"
     ]
    },
    {
     "name": "stdout",
     "output_type": "stream",
     "text": [
      "lr:  3e-05\n",
      "Epoch 87: \n",
      " Train Loss\t1.1692 \n",
      " Val Loss\t0.6499 \n",
      " Val Acc\t0.6774 \n",
      " Val F1\t\t0.8077 \n",
      " Val AUC\t0.6714 \n",
      " Val GMean\t0.0000 \n",
      " Val MCC\t0.0000\n"
     ]
    },
    {
     "name": "stderr",
     "output_type": "stream",
     "text": [
      "100%|███████████████████████████████████████████| 18/18 [00:00<00:00, 72.63it/s]\n"
     ]
    },
    {
     "name": "stdout",
     "output_type": "stream",
     "text": [
      "lr:  3e-05\n",
      "Epoch 88: \n",
      " Train Loss\t1.1690 \n",
      " Val Loss\t0.6499 \n",
      " Val Acc\t0.6774 \n",
      " Val F1\t\t0.8077 \n",
      " Val AUC\t0.6762 \n",
      " Val GMean\t0.0000 \n",
      " Val MCC\t0.0000\n"
     ]
    },
    {
     "name": "stderr",
     "output_type": "stream",
     "text": [
      "100%|███████████████████████████████████████████| 18/18 [00:00<00:00, 73.50it/s]\n"
     ]
    },
    {
     "name": "stdout",
     "output_type": "stream",
     "text": [
      "lr:  3e-05\n",
      "Epoch 89: \n",
      " Train Loss\t1.1689 \n",
      " Val Loss\t0.6498 \n",
      " Val Acc\t0.6774 \n",
      " Val F1\t\t0.8077 \n",
      " Val AUC\t0.6714 \n",
      " Val GMean\t0.0000 \n",
      " Val MCC\t0.0000\n"
     ]
    },
    {
     "name": "stderr",
     "output_type": "stream",
     "text": [
      "100%|███████████████████████████████████████████| 18/18 [00:00<00:00, 72.20it/s]\n"
     ]
    },
    {
     "name": "stdout",
     "output_type": "stream",
     "text": [
      "lr:  3e-05\n",
      "Epoch 90: \n",
      " Train Loss\t1.1688 \n",
      " Val Loss\t0.6498 \n",
      " Val Acc\t0.6774 \n",
      " Val F1\t\t0.8077 \n",
      " Val AUC\t0.6714 \n",
      " Val GMean\t0.0000 \n",
      " Val MCC\t0.0000\n"
     ]
    },
    {
     "name": "stderr",
     "output_type": "stream",
     "text": [
      "100%|███████████████████████████████████████████| 18/18 [00:00<00:00, 73.39it/s]\n"
     ]
    },
    {
     "name": "stdout",
     "output_type": "stream",
     "text": [
      "lr:  3e-05\n",
      "Epoch 91: \n",
      " Train Loss\t1.1686 \n",
      " Val Loss\t0.6499 \n",
      " Val Acc\t0.6774 \n",
      " Val F1\t\t0.8077 \n",
      " Val AUC\t0.6667 \n",
      " Val GMean\t0.0000 \n",
      " Val MCC\t0.0000\n"
     ]
    },
    {
     "name": "stderr",
     "output_type": "stream",
     "text": [
      "100%|███████████████████████████████████████████| 18/18 [00:00<00:00, 72.59it/s]\n"
     ]
    },
    {
     "name": "stdout",
     "output_type": "stream",
     "text": [
      "lr:  3e-05\n",
      "Epoch 92: \n",
      " Train Loss\t1.1684 \n",
      " Val Loss\t0.6499 \n",
      " Val Acc\t0.6774 \n",
      " Val F1\t\t0.8077 \n",
      " Val AUC\t0.6714 \n",
      " Val GMean\t0.0000 \n",
      " Val MCC\t0.0000\n"
     ]
    },
    {
     "name": "stderr",
     "output_type": "stream",
     "text": [
      "100%|███████████████████████████████████████████| 18/18 [00:00<00:00, 72.82it/s]\n"
     ]
    },
    {
     "name": "stdout",
     "output_type": "stream",
     "text": [
      "lr:  3e-05\n",
      "Epoch 93: \n",
      " Train Loss\t1.1682 \n",
      " Val Loss\t0.6498 \n",
      " Val Acc\t0.6774 \n",
      " Val F1\t\t0.8077 \n",
      " Val AUC\t0.6714 \n",
      " Val GMean\t0.0000 \n",
      " Val MCC\t0.0000\n"
     ]
    },
    {
     "name": "stderr",
     "output_type": "stream",
     "text": [
      "100%|███████████████████████████████████████████| 18/18 [00:00<00:00, 73.64it/s]\n"
     ]
    },
    {
     "name": "stdout",
     "output_type": "stream",
     "text": [
      "lr:  3e-05\n",
      "Epoch 94: \n",
      " Train Loss\t1.1681 \n",
      " Val Loss\t0.6499 \n",
      " Val Acc\t0.6774 \n",
      " Val F1\t\t0.8077 \n",
      " Val AUC\t0.6714 \n",
      " Val GMean\t0.0000 \n",
      " Val MCC\t0.0000\n"
     ]
    },
    {
     "name": "stderr",
     "output_type": "stream",
     "text": [
      "100%|███████████████████████████████████████████| 18/18 [00:00<00:00, 74.55it/s]\n"
     ]
    },
    {
     "name": "stdout",
     "output_type": "stream",
     "text": [
      "lr:  3e-05\n",
      "Epoch 95: \n",
      " Train Loss\t1.1679 \n",
      " Val Loss\t0.6499 \n",
      " Val Acc\t0.6774 \n",
      " Val F1\t\t0.8077 \n",
      " Val AUC\t0.6714 \n",
      " Val GMean\t0.0000 \n",
      " Val MCC\t0.0000\n"
     ]
    },
    {
     "name": "stderr",
     "output_type": "stream",
     "text": [
      "100%|███████████████████████████████████████████| 18/18 [00:00<00:00, 72.93it/s]\n"
     ]
    },
    {
     "name": "stdout",
     "output_type": "stream",
     "text": [
      "lr:  3e-05\n",
      "Epoch 96: \n",
      " Train Loss\t1.1677 \n",
      " Val Loss\t0.6500 \n",
      " Val Acc\t0.6774 \n",
      " Val F1\t\t0.8077 \n",
      " Val AUC\t0.6667 \n",
      " Val GMean\t0.0000 \n",
      " Val MCC\t0.0000\n"
     ]
    },
    {
     "name": "stderr",
     "output_type": "stream",
     "text": [
      "100%|███████████████████████████████████████████| 18/18 [00:00<00:00, 73.79it/s]\n"
     ]
    },
    {
     "name": "stdout",
     "output_type": "stream",
     "text": [
      "lr:  3e-05\n",
      "Epoch 97: \n",
      " Train Loss\t1.1675 \n",
      " Val Loss\t0.6501 \n",
      " Val Acc\t0.6774 \n",
      " Val F1\t\t0.8077 \n",
      " Val AUC\t0.6571 \n",
      " Val GMean\t0.0000 \n",
      " Val MCC\t0.0000\n"
     ]
    },
    {
     "name": "stderr",
     "output_type": "stream",
     "text": [
      "100%|███████████████████████████████████████████| 18/18 [00:00<00:00, 73.70it/s]\n"
     ]
    },
    {
     "name": "stdout",
     "output_type": "stream",
     "text": [
      "lr:  3e-05\n",
      "Epoch 98: \n",
      " Train Loss\t1.1674 \n",
      " Val Loss\t0.6501 \n",
      " Val Acc\t0.6774 \n",
      " Val F1\t\t0.8077 \n",
      " Val AUC\t0.6571 \n",
      " Val GMean\t0.0000 \n",
      " Val MCC\t0.0000\n"
     ]
    },
    {
     "name": "stderr",
     "output_type": "stream",
     "text": [
      "100%|███████████████████████████████████████████| 18/18 [00:00<00:00, 69.76it/s]\n"
     ]
    },
    {
     "name": "stdout",
     "output_type": "stream",
     "text": [
      "lr:  3e-05\n",
      "Epoch 99: \n",
      " Train Loss\t1.1672 \n",
      " Val Loss\t0.6502 \n",
      " Val Acc\t0.6774 \n",
      " Val F1\t\t0.8077 \n",
      " Val AUC\t0.6619 \n",
      " Val GMean\t0.0000 \n",
      " Val MCC\t0.0000\n"
     ]
    },
    {
     "name": "stderr",
     "output_type": "stream",
     "text": [
      "100%|███████████████████████████████████████████| 18/18 [00:00<00:00, 73.02it/s]\n"
     ]
    },
    {
     "name": "stdout",
     "output_type": "stream",
     "text": [
      "lr:  3e-05\n",
      "Epoch 100: \n",
      " Train Loss\t1.1671 \n",
      " Val Loss\t0.6502 \n",
      " Val Acc\t0.6774 \n",
      " Val F1\t\t0.8077 \n",
      " Val AUC\t0.6571 \n",
      " Val GMean\t0.0000 \n",
      " Val MCC\t0.0000\n"
     ]
    },
    {
     "name": "stderr",
     "output_type": "stream",
     "text": [
      "100%|███████████████████████████████████████████| 18/18 [00:00<00:00, 72.23it/s]\n"
     ]
    },
    {
     "name": "stdout",
     "output_type": "stream",
     "text": [
      "lr:  3e-05\n",
      "Epoch 101: \n",
      " Train Loss\t1.1670 \n",
      " Val Loss\t0.6503 \n",
      " Val Acc\t0.6774 \n",
      " Val F1\t\t0.8077 \n",
      " Val AUC\t0.6619 \n",
      " Val GMean\t0.0000 \n",
      " Val MCC\t0.0000\n"
     ]
    },
    {
     "name": "stderr",
     "output_type": "stream",
     "text": [
      "100%|███████████████████████████████████████████| 18/18 [00:00<00:00, 73.02it/s]\n"
     ]
    },
    {
     "name": "stdout",
     "output_type": "stream",
     "text": [
      "lr:  3e-05\n",
      "Epoch 102: \n",
      " Train Loss\t1.1667 \n",
      " Val Loss\t0.6504 \n",
      " Val Acc\t0.6774 \n",
      " Val F1\t\t0.8077 \n",
      " Val AUC\t0.6619 \n",
      " Val GMean\t0.0000 \n",
      " Val MCC\t0.0000\n"
     ]
    },
    {
     "name": "stderr",
     "output_type": "stream",
     "text": [
      "100%|███████████████████████████████████████████| 18/18 [00:00<00:00, 72.96it/s]\n"
     ]
    },
    {
     "name": "stdout",
     "output_type": "stream",
     "text": [
      "lr:  3e-05\n",
      "Epoch 103: \n",
      " Train Loss\t1.1665 \n",
      " Val Loss\t0.6505 \n",
      " Val Acc\t0.6774 \n",
      " Val F1\t\t0.8077 \n",
      " Val AUC\t0.6619 \n",
      " Val GMean\t0.0000 \n",
      " Val MCC\t0.0000\n"
     ]
    },
    {
     "name": "stderr",
     "output_type": "stream",
     "text": [
      "100%|███████████████████████████████████████████| 18/18 [00:00<00:00, 73.94it/s]\n"
     ]
    },
    {
     "name": "stdout",
     "output_type": "stream",
     "text": [
      "lr:  3e-05\n",
      "Epoch 104: \n",
      " Train Loss\t1.1665 \n",
      " Val Loss\t0.6505 \n",
      " Val Acc\t0.6774 \n",
      " Val F1\t\t0.8077 \n",
      " Val AUC\t0.6619 \n",
      " Val GMean\t0.0000 \n",
      " Val MCC\t0.0000\n"
     ]
    },
    {
     "name": "stderr",
     "output_type": "stream",
     "text": [
      "100%|███████████████████████████████████████████| 18/18 [00:00<00:00, 74.44it/s]\n"
     ]
    },
    {
     "name": "stdout",
     "output_type": "stream",
     "text": [
      "lr:  3e-05\n",
      "Epoch 105: \n",
      " Train Loss\t1.1663 \n",
      " Val Loss\t0.6506 \n",
      " Val Acc\t0.6774 \n",
      " Val F1\t\t0.8077 \n",
      " Val AUC\t0.6619 \n",
      " Val GMean\t0.0000 \n",
      " Val MCC\t0.0000\n"
     ]
    },
    {
     "name": "stderr",
     "output_type": "stream",
     "text": [
      "100%|███████████████████████████████████████████| 18/18 [00:00<00:00, 73.59it/s]\n"
     ]
    },
    {
     "name": "stdout",
     "output_type": "stream",
     "text": [
      "lr:  3e-05\n",
      "Epoch 106: \n",
      " Train Loss\t1.1662 \n",
      " Val Loss\t0.6507 \n",
      " Val Acc\t0.6774 \n",
      " Val F1\t\t0.8077 \n",
      " Val AUC\t0.6619 \n",
      " Val GMean\t0.0000 \n",
      " Val MCC\t0.0000\n"
     ]
    },
    {
     "name": "stderr",
     "output_type": "stream",
     "text": [
      "100%|███████████████████████████████████████████| 18/18 [00:00<00:00, 74.43it/s]\n"
     ]
    },
    {
     "name": "stdout",
     "output_type": "stream",
     "text": [
      "lr:  3e-05\n",
      "Epoch 107: \n",
      " Train Loss\t1.1660 \n",
      " Val Loss\t0.6508 \n",
      " Val Acc\t0.6774 \n",
      " Val F1\t\t0.8077 \n",
      " Val AUC\t0.6619 \n",
      " Val GMean\t0.0000 \n",
      " Val MCC\t0.0000\n"
     ]
    },
    {
     "name": "stderr",
     "output_type": "stream",
     "text": [
      "100%|███████████████████████████████████████████| 18/18 [00:00<00:00, 73.47it/s]\n"
     ]
    },
    {
     "name": "stdout",
     "output_type": "stream",
     "text": [
      "lr:  3e-05\n",
      "Epoch 108: \n",
      " Train Loss\t1.1659 \n",
      " Val Loss\t0.6508 \n",
      " Val Acc\t0.6774 \n",
      " Val F1\t\t0.8077 \n",
      " Val AUC\t0.6619 \n",
      " Val GMean\t0.0000 \n",
      " Val MCC\t0.0000\n"
     ]
    },
    {
     "name": "stderr",
     "output_type": "stream",
     "text": [
      "100%|███████████████████████████████████████████| 18/18 [00:00<00:00, 73.96it/s]\n"
     ]
    },
    {
     "name": "stdout",
     "output_type": "stream",
     "text": [
      "lr:  3e-05\n",
      "Epoch 109: \n",
      " Train Loss\t1.1658 \n",
      " Val Loss\t0.6508 \n",
      " Val Acc\t0.6774 \n",
      " Val F1\t\t0.8077 \n",
      " Val AUC\t0.6667 \n",
      " Val GMean\t0.0000 \n",
      " Val MCC\t0.0000\n"
     ]
    },
    {
     "name": "stderr",
     "output_type": "stream",
     "text": [
      "100%|███████████████████████████████████████████| 18/18 [00:00<00:00, 73.71it/s]\n"
     ]
    },
    {
     "name": "stdout",
     "output_type": "stream",
     "text": [
      "lr:  3e-05\n",
      "Epoch 110: \n",
      " Train Loss\t1.1656 \n",
      " Val Loss\t0.6509 \n",
      " Val Acc\t0.6774 \n",
      " Val F1\t\t0.8077 \n",
      " Val AUC\t0.6619 \n",
      " Val GMean\t0.0000 \n",
      " Val MCC\t0.0000\n"
     ]
    },
    {
     "name": "stderr",
     "output_type": "stream",
     "text": [
      "100%|███████████████████████████████████████████| 18/18 [00:00<00:00, 72.68it/s]\n"
     ]
    },
    {
     "name": "stdout",
     "output_type": "stream",
     "text": [
      "lr:  3e-05\n",
      "Epoch 111: \n",
      " Train Loss\t1.1655 \n",
      " Val Loss\t0.6510 \n",
      " Val Acc\t0.6774 \n",
      " Val F1\t\t0.8077 \n",
      " Val AUC\t0.6619 \n",
      " Val GMean\t0.0000 \n",
      " Val MCC\t0.0000\n"
     ]
    },
    {
     "name": "stderr",
     "output_type": "stream",
     "text": [
      "100%|███████████████████████████████████████████| 18/18 [00:00<00:00, 63.59it/s]\n"
     ]
    },
    {
     "name": "stdout",
     "output_type": "stream",
     "text": [
      "lr:  3e-05\n",
      "Epoch 112: \n",
      " Train Loss\t1.1653 \n",
      " Val Loss\t0.6511 \n",
      " Val Acc\t0.6774 \n",
      " Val F1\t\t0.8077 \n",
      " Val AUC\t0.6619 \n",
      " Val GMean\t0.0000 \n",
      " Val MCC\t0.0000\n"
     ]
    },
    {
     "name": "stderr",
     "output_type": "stream",
     "text": [
      "100%|███████████████████████████████████████████| 18/18 [00:00<00:00, 72.25it/s]\n"
     ]
    },
    {
     "name": "stdout",
     "output_type": "stream",
     "text": [
      "lr:  3e-05\n",
      "Epoch 113: \n",
      " Train Loss\t1.1652 \n",
      " Val Loss\t0.6513 \n",
      " Val Acc\t0.6774 \n",
      " Val F1\t\t0.8077 \n",
      " Val AUC\t0.6619 \n",
      " Val GMean\t0.0000 \n",
      " Val MCC\t0.0000\n"
     ]
    },
    {
     "name": "stderr",
     "output_type": "stream",
     "text": [
      "100%|███████████████████████████████████████████| 18/18 [00:00<00:00, 71.57it/s]\n"
     ]
    },
    {
     "name": "stdout",
     "output_type": "stream",
     "text": [
      "lr:  3e-05\n",
      "Epoch 114: \n",
      " Train Loss\t1.1650 \n",
      " Val Loss\t0.6512 \n",
      " Val Acc\t0.6774 \n",
      " Val F1\t\t0.8077 \n",
      " Val AUC\t0.6667 \n",
      " Val GMean\t0.0000 \n",
      " Val MCC\t0.0000\n"
     ]
    },
    {
     "name": "stderr",
     "output_type": "stream",
     "text": [
      "100%|███████████████████████████████████████████| 18/18 [00:00<00:00, 72.63it/s]\n"
     ]
    },
    {
     "name": "stdout",
     "output_type": "stream",
     "text": [
      "lr:  3e-05\n",
      "Epoch 115: \n",
      " Train Loss\t1.1649 \n",
      " Val Loss\t0.6515 \n",
      " Val Acc\t0.6774 \n",
      " Val F1\t\t0.8077 \n",
      " Val AUC\t0.6571 \n",
      " Val GMean\t0.0000 \n",
      " Val MCC\t0.0000\n"
     ]
    },
    {
     "name": "stderr",
     "output_type": "stream",
     "text": [
      "100%|███████████████████████████████████████████| 18/18 [00:00<00:00, 73.48it/s]\n"
     ]
    },
    {
     "name": "stdout",
     "output_type": "stream",
     "text": [
      "lr:  3e-05\n",
      "Epoch 116: \n",
      " Train Loss\t1.1647 \n",
      " Val Loss\t0.6516 \n",
      " Val Acc\t0.6774 \n",
      " Val F1\t\t0.8077 \n",
      " Val AUC\t0.6619 \n",
      " Val GMean\t0.0000 \n",
      " Val MCC\t0.0000\n"
     ]
    },
    {
     "name": "stderr",
     "output_type": "stream",
     "text": [
      "100%|███████████████████████████████████████████| 18/18 [00:00<00:00, 72.36it/s]\n"
     ]
    },
    {
     "name": "stdout",
     "output_type": "stream",
     "text": [
      "lr:  3e-05\n",
      "Epoch 117: \n",
      " Train Loss\t1.1646 \n",
      " Val Loss\t0.6518 \n",
      " Val Acc\t0.6774 \n",
      " Val F1\t\t0.8077 \n",
      " Val AUC\t0.6571 \n",
      " Val GMean\t0.0000 \n",
      " Val MCC\t0.0000\n"
     ]
    },
    {
     "name": "stderr",
     "output_type": "stream",
     "text": [
      "100%|███████████████████████████████████████████| 18/18 [00:00<00:00, 72.71it/s]\n"
     ]
    },
    {
     "name": "stdout",
     "output_type": "stream",
     "text": [
      "lr:  3e-05\n",
      "Epoch 118: \n",
      " Train Loss\t1.1645 \n",
      " Val Loss\t0.6518 \n",
      " Val Acc\t0.6774 \n",
      " Val F1\t\t0.8077 \n",
      " Val AUC\t0.6667 \n",
      " Val GMean\t0.0000 \n",
      " Val MCC\t0.0000\n"
     ]
    },
    {
     "name": "stderr",
     "output_type": "stream",
     "text": [
      "100%|███████████████████████████████████████████| 18/18 [00:00<00:00, 73.98it/s]\n"
     ]
    },
    {
     "name": "stdout",
     "output_type": "stream",
     "text": [
      "lr:  3e-05\n",
      "Epoch 119: \n",
      " Train Loss\t1.1643 \n",
      " Val Loss\t0.6520 \n",
      " Val Acc\t0.6774 \n",
      " Val F1\t\t0.8077 \n",
      " Val AUC\t0.6714 \n",
      " Val GMean\t0.0000 \n",
      " Val MCC\t0.0000\n"
     ]
    },
    {
     "name": "stderr",
     "output_type": "stream",
     "text": [
      "100%|███████████████████████████████████████████| 18/18 [00:00<00:00, 73.61it/s]\n"
     ]
    },
    {
     "name": "stdout",
     "output_type": "stream",
     "text": [
      "lr:  3e-05\n",
      "Epoch 120: \n",
      " Train Loss\t1.1641 \n",
      " Val Loss\t0.6521 \n",
      " Val Acc\t0.6774 \n",
      " Val F1\t\t0.8077 \n",
      " Val AUC\t0.6667 \n",
      " Val GMean\t0.0000 \n",
      " Val MCC\t0.0000\n"
     ]
    },
    {
     "name": "stderr",
     "output_type": "stream",
     "text": [
      "100%|███████████████████████████████████████████| 18/18 [00:00<00:00, 72.58it/s]\n"
     ]
    },
    {
     "name": "stdout",
     "output_type": "stream",
     "text": [
      "lr:  3e-05\n",
      "Epoch 121: \n",
      " Train Loss\t1.1640 \n",
      " Val Loss\t0.6521 \n",
      " Val Acc\t0.6774 \n",
      " Val F1\t\t0.8077 \n",
      " Val AUC\t0.6714 \n",
      " Val GMean\t0.0000 \n",
      " Val MCC\t0.0000\n"
     ]
    },
    {
     "name": "stderr",
     "output_type": "stream",
     "text": [
      "100%|███████████████████████████████████████████| 18/18 [00:00<00:00, 73.20it/s]\n"
     ]
    },
    {
     "name": "stdout",
     "output_type": "stream",
     "text": [
      "lr:  3e-05\n",
      "Epoch 122: \n",
      " Train Loss\t1.1638 \n",
      " Val Loss\t0.6522 \n",
      " Val Acc\t0.6774 \n",
      " Val F1\t\t0.8077 \n",
      " Val AUC\t0.6714 \n",
      " Val GMean\t0.0000 \n",
      " Val MCC\t0.0000\n"
     ]
    },
    {
     "name": "stderr",
     "output_type": "stream",
     "text": [
      "100%|███████████████████████████████████████████| 18/18 [00:00<00:00, 73.70it/s]\n"
     ]
    },
    {
     "name": "stdout",
     "output_type": "stream",
     "text": [
      "lr:  3e-05\n",
      "Epoch 123: \n",
      " Train Loss\t1.1637 \n",
      " Val Loss\t0.6523 \n",
      " Val Acc\t0.6774 \n",
      " Val F1\t\t0.8077 \n",
      " Val AUC\t0.6810 \n",
      " Val GMean\t0.0000 \n",
      " Val MCC\t0.0000\n"
     ]
    },
    {
     "name": "stderr",
     "output_type": "stream",
     "text": [
      "100%|███████████████████████████████████████████| 18/18 [00:00<00:00, 72.64it/s]\n"
     ]
    },
    {
     "name": "stdout",
     "output_type": "stream",
     "text": [
      "lr:  3e-05\n",
      "Epoch 124: \n",
      " Train Loss\t1.1636 \n",
      " Val Loss\t0.6524 \n",
      " Val Acc\t0.6774 \n",
      " Val F1\t\t0.8077 \n",
      " Val AUC\t0.6762 \n",
      " Val GMean\t0.0000 \n",
      " Val MCC\t0.0000\n"
     ]
    },
    {
     "name": "stderr",
     "output_type": "stream",
     "text": [
      "100%|███████████████████████████████████████████| 18/18 [00:00<00:00, 72.68it/s]\n"
     ]
    },
    {
     "name": "stdout",
     "output_type": "stream",
     "text": [
      "lr:  3e-05\n",
      "Epoch 125: \n",
      " Train Loss\t1.1634 \n",
      " Val Loss\t0.6524 \n",
      " Val Acc\t0.6774 \n",
      " Val F1\t\t0.8077 \n",
      " Val AUC\t0.6762 \n",
      " Val GMean\t0.0000 \n",
      " Val MCC\t0.0000\n"
     ]
    },
    {
     "name": "stderr",
     "output_type": "stream",
     "text": [
      "100%|███████████████████████████████████████████| 18/18 [00:00<00:00, 72.99it/s]\n"
     ]
    },
    {
     "name": "stdout",
     "output_type": "stream",
     "text": [
      "lr:  3e-05\n",
      "Epoch 126: \n",
      " Train Loss\t1.1633 \n",
      " Val Loss\t0.6526 \n",
      " Val Acc\t0.6774 \n",
      " Val F1\t\t0.8077 \n",
      " Val AUC\t0.6714 \n",
      " Val GMean\t0.0000 \n",
      " Val MCC\t0.0000\n"
     ]
    },
    {
     "name": "stderr",
     "output_type": "stream",
     "text": [
      "100%|███████████████████████████████████████████| 18/18 [00:00<00:00, 71.94it/s]\n"
     ]
    },
    {
     "name": "stdout",
     "output_type": "stream",
     "text": [
      "lr:  3e-05\n",
      "Epoch 127: \n",
      " Train Loss\t1.1632 \n",
      " Val Loss\t0.6527 \n",
      " Val Acc\t0.6774 \n",
      " Val F1\t\t0.8077 \n",
      " Val AUC\t0.6714 \n",
      " Val GMean\t0.0000 \n",
      " Val MCC\t0.0000\n"
     ]
    },
    {
     "name": "stderr",
     "output_type": "stream",
     "text": [
      "100%|███████████████████████████████████████████| 18/18 [00:00<00:00, 71.64it/s]\n"
     ]
    },
    {
     "name": "stdout",
     "output_type": "stream",
     "text": [
      "lr:  3e-05\n",
      "Epoch 128: \n",
      " Train Loss\t1.1631 \n",
      " Val Loss\t0.6528 \n",
      " Val Acc\t0.6774 \n",
      " Val F1\t\t0.8077 \n",
      " Val AUC\t0.6762 \n",
      " Val GMean\t0.0000 \n",
      " Val MCC\t0.0000\n"
     ]
    },
    {
     "name": "stderr",
     "output_type": "stream",
     "text": [
      "100%|███████████████████████████████████████████| 18/18 [00:00<00:00, 66.04it/s]\n"
     ]
    },
    {
     "name": "stdout",
     "output_type": "stream",
     "text": [
      "lr:  3e-05\n",
      "Epoch 129: \n",
      " Train Loss\t1.1630 \n",
      " Val Loss\t0.6531 \n",
      " Val Acc\t0.6774 \n",
      " Val F1\t\t0.8077 \n",
      " Val AUC\t0.6619 \n",
      " Val GMean\t0.0000 \n",
      " Val MCC\t0.0000\n"
     ]
    },
    {
     "name": "stderr",
     "output_type": "stream",
     "text": [
      "100%|███████████████████████████████████████████| 18/18 [00:00<00:00, 72.19it/s]\n"
     ]
    },
    {
     "name": "stdout",
     "output_type": "stream",
     "text": [
      "lr:  3e-05\n",
      "Epoch 130: \n",
      " Train Loss\t1.1628 \n",
      " Val Loss\t0.6531 \n",
      " Val Acc\t0.6774 \n",
      " Val F1\t\t0.8077 \n",
      " Val AUC\t0.6667 \n",
      " Val GMean\t0.0000 \n",
      " Val MCC\t0.0000\n"
     ]
    },
    {
     "name": "stderr",
     "output_type": "stream",
     "text": [
      "100%|███████████████████████████████████████████| 18/18 [00:00<00:00, 72.63it/s]\n"
     ]
    },
    {
     "name": "stdout",
     "output_type": "stream",
     "text": [
      "lr:  3e-05\n",
      "Epoch 131: \n",
      " Train Loss\t1.1628 \n",
      " Val Loss\t0.6533 \n",
      " Val Acc\t0.6774 \n",
      " Val F1\t\t0.8077 \n",
      " Val AUC\t0.6714 \n",
      " Val GMean\t0.0000 \n",
      " Val MCC\t0.0000\n"
     ]
    },
    {
     "name": "stderr",
     "output_type": "stream",
     "text": [
      "100%|███████████████████████████████████████████| 18/18 [00:00<00:00, 71.45it/s]\n"
     ]
    },
    {
     "name": "stdout",
     "output_type": "stream",
     "text": [
      "lr:  3e-05\n",
      "Epoch 132: \n",
      " Train Loss\t1.1626 \n",
      " Val Loss\t0.6534 \n",
      " Val Acc\t0.6774 \n",
      " Val F1\t\t0.8077 \n",
      " Val AUC\t0.6714 \n",
      " Val GMean\t0.0000 \n",
      " Val MCC\t0.0000\n"
     ]
    },
    {
     "name": "stderr",
     "output_type": "stream",
     "text": [
      "100%|███████████████████████████████████████████| 18/18 [00:00<00:00, 72.66it/s]\n"
     ]
    },
    {
     "name": "stdout",
     "output_type": "stream",
     "text": [
      "lr:  3e-05\n",
      "Epoch 133: \n",
      " Train Loss\t1.1625 \n",
      " Val Loss\t0.6536 \n",
      " Val Acc\t0.6774 \n",
      " Val F1\t\t0.8077 \n",
      " Val AUC\t0.6667 \n",
      " Val GMean\t0.0000 \n",
      " Val MCC\t0.0000\n"
     ]
    },
    {
     "name": "stderr",
     "output_type": "stream",
     "text": [
      "100%|███████████████████████████████████████████| 18/18 [00:00<00:00, 73.57it/s]\n"
     ]
    },
    {
     "name": "stdout",
     "output_type": "stream",
     "text": [
      "lr:  3e-05\n",
      "Epoch 134: \n",
      " Train Loss\t1.1623 \n",
      " Val Loss\t0.6538 \n",
      " Val Acc\t0.6774 \n",
      " Val F1\t\t0.8077 \n",
      " Val AUC\t0.6619 \n",
      " Val GMean\t0.0000 \n",
      " Val MCC\t0.0000\n"
     ]
    },
    {
     "name": "stderr",
     "output_type": "stream",
     "text": [
      "100%|███████████████████████████████████████████| 18/18 [00:00<00:00, 73.73it/s]\n"
     ]
    },
    {
     "name": "stdout",
     "output_type": "stream",
     "text": [
      "lr:  3e-05\n",
      "Epoch 135: \n",
      " Train Loss\t1.1621 \n",
      " Val Loss\t0.6541 \n",
      " Val Acc\t0.6774 \n",
      " Val F1\t\t0.8077 \n",
      " Val AUC\t0.6714 \n",
      " Val GMean\t0.0000 \n",
      " Val MCC\t0.0000\n"
     ]
    },
    {
     "name": "stderr",
     "output_type": "stream",
     "text": [
      "100%|███████████████████████████████████████████| 18/18 [00:00<00:00, 73.44it/s]\n"
     ]
    },
    {
     "name": "stdout",
     "output_type": "stream",
     "text": [
      "lr:  3e-05\n",
      "Epoch 136: \n",
      " Train Loss\t1.1620 \n",
      " Val Loss\t0.6541 \n",
      " Val Acc\t0.6774 \n",
      " Val F1\t\t0.8077 \n",
      " Val AUC\t0.6762 \n",
      " Val GMean\t0.0000 \n",
      " Val MCC\t0.0000\n"
     ]
    },
    {
     "name": "stderr",
     "output_type": "stream",
     "text": [
      "100%|███████████████████████████████████████████| 18/18 [00:00<00:00, 73.17it/s]\n"
     ]
    },
    {
     "name": "stdout",
     "output_type": "stream",
     "text": [
      "lr:  3e-05\n",
      "Epoch 137: \n",
      " Train Loss\t1.1618 \n",
      " Val Loss\t0.6545 \n",
      " Val Acc\t0.6774 \n",
      " Val F1\t\t0.8077 \n",
      " Val AUC\t0.6714 \n",
      " Val GMean\t0.0000 \n",
      " Val MCC\t0.0000\n"
     ]
    },
    {
     "name": "stderr",
     "output_type": "stream",
     "text": [
      "100%|███████████████████████████████████████████| 18/18 [00:00<00:00, 74.38it/s]\n"
     ]
    },
    {
     "name": "stdout",
     "output_type": "stream",
     "text": [
      "lr:  3e-05\n",
      "Epoch 138: \n",
      " Train Loss\t1.1617 \n",
      " Val Loss\t0.6546 \n",
      " Val Acc\t0.6774 \n",
      " Val F1\t\t0.8077 \n",
      " Val AUC\t0.6619 \n",
      " Val GMean\t0.0000 \n",
      " Val MCC\t0.0000\n"
     ]
    },
    {
     "name": "stderr",
     "output_type": "stream",
     "text": [
      "100%|███████████████████████████████████████████| 18/18 [00:00<00:00, 74.70it/s]\n"
     ]
    },
    {
     "name": "stdout",
     "output_type": "stream",
     "text": [
      "lr:  3e-05\n",
      "Epoch 139: \n",
      " Train Loss\t1.1615 \n",
      " Val Loss\t0.6548 \n",
      " Val Acc\t0.6774 \n",
      " Val F1\t\t0.8077 \n",
      " Val AUC\t0.6667 \n",
      " Val GMean\t0.0000 \n",
      " Val MCC\t0.0000\n"
     ]
    },
    {
     "name": "stderr",
     "output_type": "stream",
     "text": [
      "100%|███████████████████████████████████████████| 18/18 [00:00<00:00, 74.36it/s]\n"
     ]
    },
    {
     "name": "stdout",
     "output_type": "stream",
     "text": [
      "lr:  3e-05\n",
      "Epoch 140: \n",
      " Train Loss\t1.1614 \n",
      " Val Loss\t0.6550 \n",
      " Val Acc\t0.6774 \n",
      " Val F1\t\t0.8077 \n",
      " Val AUC\t0.6667 \n",
      " Val GMean\t0.0000 \n",
      " Val MCC\t0.0000\n"
     ]
    },
    {
     "name": "stderr",
     "output_type": "stream",
     "text": [
      "100%|███████████████████████████████████████████| 18/18 [00:00<00:00, 71.34it/s]\n"
     ]
    },
    {
     "name": "stdout",
     "output_type": "stream",
     "text": [
      "lr:  3e-05\n",
      "Epoch 141: \n",
      " Train Loss\t1.1613 \n",
      " Val Loss\t0.6553 \n",
      " Val Acc\t0.6774 \n",
      " Val F1\t\t0.8077 \n",
      " Val AUC\t0.6714 \n",
      " Val GMean\t0.0000 \n",
      " Val MCC\t0.0000\n"
     ]
    },
    {
     "name": "stderr",
     "output_type": "stream",
     "text": [
      "100%|███████████████████████████████████████████| 18/18 [00:00<00:00, 73.33it/s]\n"
     ]
    },
    {
     "name": "stdout",
     "output_type": "stream",
     "text": [
      "lr:  3e-05\n",
      "Epoch 142: \n",
      " Train Loss\t1.1612 \n",
      " Val Loss\t0.6555 \n",
      " Val Acc\t0.6774 \n",
      " Val F1\t\t0.8077 \n",
      " Val AUC\t0.6762 \n",
      " Val GMean\t0.0000 \n",
      " Val MCC\t0.0000\n"
     ]
    },
    {
     "name": "stderr",
     "output_type": "stream",
     "text": [
      "100%|███████████████████████████████████████████| 18/18 [00:00<00:00, 73.96it/s]\n"
     ]
    },
    {
     "name": "stdout",
     "output_type": "stream",
     "text": [
      "lr:  3e-05\n",
      "Epoch 143: \n",
      " Train Loss\t1.1611 \n",
      " Val Loss\t0.6556 \n",
      " Val Acc\t0.6774 \n",
      " Val F1\t\t0.8077 \n",
      " Val AUC\t0.6714 \n",
      " Val GMean\t0.0000 \n",
      " Val MCC\t0.0000\n"
     ]
    },
    {
     "name": "stderr",
     "output_type": "stream",
     "text": [
      "100%|███████████████████████████████████████████| 18/18 [00:00<00:00, 74.14it/s]\n"
     ]
    },
    {
     "name": "stdout",
     "output_type": "stream",
     "text": [
      "lr:  3e-05\n",
      "Epoch 144: \n",
      " Train Loss\t1.1610 \n",
      " Val Loss\t0.6560 \n",
      " Val Acc\t0.6774 \n",
      " Val F1\t\t0.8077 \n",
      " Val AUC\t0.6667 \n",
      " Val GMean\t0.0000 \n",
      " Val MCC\t0.0000\n"
     ]
    },
    {
     "name": "stderr",
     "output_type": "stream",
     "text": [
      "100%|███████████████████████████████████████████| 18/18 [00:00<00:00, 70.05it/s]\n"
     ]
    },
    {
     "name": "stdout",
     "output_type": "stream",
     "text": [
      "lr:  3e-05\n",
      "Epoch 145: \n",
      " Train Loss\t1.1609 \n",
      " Val Loss\t0.6562 \n",
      " Val Acc\t0.6774 \n",
      " Val F1\t\t0.8077 \n",
      " Val AUC\t0.6667 \n",
      " Val GMean\t0.0000 \n",
      " Val MCC\t0.0000\n"
     ]
    },
    {
     "name": "stderr",
     "output_type": "stream",
     "text": [
      "100%|███████████████████████████████████████████| 18/18 [00:00<00:00, 73.79it/s]\n"
     ]
    },
    {
     "name": "stdout",
     "output_type": "stream",
     "text": [
      "lr:  3e-05\n",
      "Epoch 146: \n",
      " Train Loss\t1.1608 \n",
      " Val Loss\t0.6565 \n",
      " Val Acc\t0.6774 \n",
      " Val F1\t\t0.8077 \n",
      " Val AUC\t0.6714 \n",
      " Val GMean\t0.0000 \n",
      " Val MCC\t0.0000\n"
     ]
    },
    {
     "name": "stderr",
     "output_type": "stream",
     "text": [
      "100%|███████████████████████████████████████████| 18/18 [00:00<00:00, 73.96it/s]\n"
     ]
    },
    {
     "name": "stdout",
     "output_type": "stream",
     "text": [
      "lr:  3e-05\n",
      "Epoch 147: \n",
      " Train Loss\t1.1607 \n",
      " Val Loss\t0.6566 \n",
      " Val Acc\t0.6774 \n",
      " Val F1\t\t0.8077 \n",
      " Val AUC\t0.6762 \n",
      " Val GMean\t0.0000 \n",
      " Val MCC\t0.0000\n"
     ]
    },
    {
     "name": "stderr",
     "output_type": "stream",
     "text": [
      "100%|███████████████████████████████████████████| 18/18 [00:00<00:00, 72.64it/s]\n"
     ]
    },
    {
     "name": "stdout",
     "output_type": "stream",
     "text": [
      "lr:  3e-05\n",
      "Epoch 148: \n",
      " Train Loss\t1.1605 \n",
      " Val Loss\t0.6570 \n",
      " Val Acc\t0.6774 \n",
      " Val F1\t\t0.8077 \n",
      " Val AUC\t0.6667 \n",
      " Val GMean\t0.0000 \n",
      " Val MCC\t0.0000\n"
     ]
    },
    {
     "name": "stderr",
     "output_type": "stream",
     "text": [
      "100%|███████████████████████████████████████████| 18/18 [00:00<00:00, 73.03it/s]\n"
     ]
    },
    {
     "name": "stdout",
     "output_type": "stream",
     "text": [
      "lr:  3e-05\n",
      "Epoch 149: \n",
      " Train Loss\t1.1604 \n",
      " Val Loss\t0.6570 \n",
      " Val Acc\t0.6774 \n",
      " Val F1\t\t0.8077 \n",
      " Val AUC\t0.6619 \n",
      " Val GMean\t0.0000 \n",
      " Val MCC\t0.0000\n"
     ]
    },
    {
     "name": "stderr",
     "output_type": "stream",
     "text": [
      "100%|███████████████████████████████████████████| 18/18 [00:00<00:00, 73.66it/s]\n"
     ]
    },
    {
     "name": "stdout",
     "output_type": "stream",
     "text": [
      "lr:  3e-05\n",
      "Epoch 150: \n",
      " Train Loss\t1.1603 \n",
      " Val Loss\t0.6572 \n",
      " Val Acc\t0.6774 \n",
      " Val F1\t\t0.8077 \n",
      " Val AUC\t0.6762 \n",
      " Val GMean\t0.0000 \n",
      " Val MCC\t0.0000\n"
     ]
    },
    {
     "name": "stderr",
     "output_type": "stream",
     "text": [
      "100%|███████████████████████████████████████████| 18/18 [00:00<00:00, 72.68it/s]\n"
     ]
    },
    {
     "name": "stdout",
     "output_type": "stream",
     "text": [
      "lr:  3e-05\n",
      "Epoch 151: \n",
      " Train Loss\t1.1602 \n",
      " Val Loss\t0.6575 \n",
      " Val Acc\t0.6774 \n",
      " Val F1\t\t0.8077 \n",
      " Val AUC\t0.6619 \n",
      " Val GMean\t0.0000 \n",
      " Val MCC\t0.0000\n"
     ]
    },
    {
     "name": "stderr",
     "output_type": "stream",
     "text": [
      "100%|███████████████████████████████████████████| 18/18 [00:00<00:00, 72.82it/s]\n"
     ]
    },
    {
     "name": "stdout",
     "output_type": "stream",
     "text": [
      "lr:  3e-05\n",
      "Epoch 152: \n",
      " Train Loss\t1.1601 \n",
      " Val Loss\t0.6576 \n",
      " Val Acc\t0.6774 \n",
      " Val F1\t\t0.8077 \n",
      " Val AUC\t0.6762 \n",
      " Val GMean\t0.0000 \n",
      " Val MCC\t0.0000\n"
     ]
    },
    {
     "name": "stderr",
     "output_type": "stream",
     "text": [
      "100%|███████████████████████████████████████████| 18/18 [00:00<00:00, 73.60it/s]\n"
     ]
    },
    {
     "name": "stdout",
     "output_type": "stream",
     "text": [
      "lr:  3e-05\n",
      "Epoch 153: \n",
      " Train Loss\t1.1600 \n",
      " Val Loss\t0.6578 \n",
      " Val Acc\t0.6774 \n",
      " Val F1\t\t0.8077 \n",
      " Val AUC\t0.6857 \n",
      " Val GMean\t0.0000 \n",
      " Val MCC\t0.0000\n"
     ]
    },
    {
     "name": "stderr",
     "output_type": "stream",
     "text": [
      "100%|███████████████████████████████████████████| 18/18 [00:00<00:00, 73.16it/s]\n"
     ]
    },
    {
     "name": "stdout",
     "output_type": "stream",
     "text": [
      "lr:  3e-05\n",
      "Epoch 154: \n",
      " Train Loss\t1.1599 \n",
      " Val Loss\t0.6580 \n",
      " Val Acc\t0.6774 \n",
      " Val F1\t\t0.8077 \n",
      " Val AUC\t0.6762 \n",
      " Val GMean\t0.0000 \n",
      " Val MCC\t0.0000\n"
     ]
    },
    {
     "name": "stderr",
     "output_type": "stream",
     "text": [
      "100%|███████████████████████████████████████████| 18/18 [00:00<00:00, 72.31it/s]\n"
     ]
    },
    {
     "name": "stdout",
     "output_type": "stream",
     "text": [
      "lr:  3e-05\n",
      "Epoch 155: \n",
      " Train Loss\t1.1598 \n",
      " Val Loss\t0.6582 \n",
      " Val Acc\t0.6774 \n",
      " Val F1\t\t0.8077 \n",
      " Val AUC\t0.6762 \n",
      " Val GMean\t0.0000 \n",
      " Val MCC\t0.0000\n"
     ]
    },
    {
     "name": "stderr",
     "output_type": "stream",
     "text": [
      "100%|███████████████████████████████████████████| 18/18 [00:00<00:00, 72.54it/s]\n"
     ]
    },
    {
     "name": "stdout",
     "output_type": "stream",
     "text": [
      "lr:  3e-05\n",
      "Epoch 156: \n",
      " Train Loss\t1.1596 \n",
      " Val Loss\t0.6585 \n",
      " Val Acc\t0.6774 \n",
      " Val F1\t\t0.8077 \n",
      " Val AUC\t0.6714 \n",
      " Val GMean\t0.0000 \n",
      " Val MCC\t0.0000\n"
     ]
    },
    {
     "name": "stderr",
     "output_type": "stream",
     "text": [
      "100%|███████████████████████████████████████████| 18/18 [00:00<00:00, 71.19it/s]\n"
     ]
    },
    {
     "name": "stdout",
     "output_type": "stream",
     "text": [
      "lr:  3e-05\n",
      "Epoch 157: \n",
      " Train Loss\t1.1595 \n",
      " Val Loss\t0.6588 \n",
      " Val Acc\t0.6774 \n",
      " Val F1\t\t0.8077 \n",
      " Val AUC\t0.6714 \n",
      " Val GMean\t0.0000 \n",
      " Val MCC\t0.0000\n"
     ]
    },
    {
     "name": "stderr",
     "output_type": "stream",
     "text": [
      "100%|███████████████████████████████████████████| 18/18 [00:00<00:00, 72.17it/s]\n"
     ]
    },
    {
     "name": "stdout",
     "output_type": "stream",
     "text": [
      "lr:  3e-05\n",
      "Epoch 158: \n",
      " Train Loss\t1.1594 \n",
      " Val Loss\t0.6589 \n",
      " Val Acc\t0.6774 \n",
      " Val F1\t\t0.8077 \n",
      " Val AUC\t0.6714 \n",
      " Val GMean\t0.0000 \n",
      " Val MCC\t0.0000\n"
     ]
    },
    {
     "name": "stderr",
     "output_type": "stream",
     "text": [
      "100%|███████████████████████████████████████████| 18/18 [00:00<00:00, 73.77it/s]\n"
     ]
    },
    {
     "name": "stdout",
     "output_type": "stream",
     "text": [
      "lr:  3e-05\n",
      "Epoch 159: \n",
      " Train Loss\t1.1593 \n",
      " Val Loss\t0.6591 \n",
      " Val Acc\t0.6774 \n",
      " Val F1\t\t0.8077 \n",
      " Val AUC\t0.6857 \n",
      " Val GMean\t0.0000 \n",
      " Val MCC\t0.0000\n"
     ]
    },
    {
     "name": "stderr",
     "output_type": "stream",
     "text": [
      "100%|███████████████████████████████████████████| 18/18 [00:00<00:00, 72.84it/s]\n"
     ]
    },
    {
     "name": "stdout",
     "output_type": "stream",
     "text": [
      "lr:  3e-05\n",
      "Epoch 160: \n",
      " Train Loss\t1.1591 \n",
      " Val Loss\t0.6593 \n",
      " Val Acc\t0.6774 \n",
      " Val F1\t\t0.8077 \n",
      " Val AUC\t0.6762 \n",
      " Val GMean\t0.0000 \n",
      " Val MCC\t0.0000\n"
     ]
    },
    {
     "name": "stderr",
     "output_type": "stream",
     "text": [
      "100%|███████████████████████████████████████████| 18/18 [00:00<00:00, 74.09it/s]\n"
     ]
    },
    {
     "name": "stdout",
     "output_type": "stream",
     "text": [
      "lr:  3e-05\n",
      "Epoch 161: \n",
      " Train Loss\t1.1591 \n",
      " Val Loss\t0.6596 \n",
      " Val Acc\t0.6774 \n",
      " Val F1\t\t0.8077 \n",
      " Val AUC\t0.6619 \n",
      " Val GMean\t0.0000 \n",
      " Val MCC\t0.0000\n"
     ]
    },
    {
     "name": "stderr",
     "output_type": "stream",
     "text": [
      "100%|███████████████████████████████████████████| 18/18 [00:00<00:00, 73.69it/s]\n"
     ]
    },
    {
     "name": "stdout",
     "output_type": "stream",
     "text": [
      "lr:  3e-05\n",
      "Epoch 162: \n",
      " Train Loss\t1.1589 \n",
      " Val Loss\t0.6598 \n",
      " Val Acc\t0.6774 \n",
      " Val F1\t\t0.8077 \n",
      " Val AUC\t0.6810 \n",
      " Val GMean\t0.0000 \n",
      " Val MCC\t0.0000\n"
     ]
    },
    {
     "name": "stderr",
     "output_type": "stream",
     "text": [
      "100%|███████████████████████████████████████████| 18/18 [00:00<00:00, 73.56it/s]\n"
     ]
    },
    {
     "name": "stdout",
     "output_type": "stream",
     "text": [
      "lr:  3e-05\n",
      "Epoch 163: \n",
      " Train Loss\t1.1588 \n",
      " Val Loss\t0.6601 \n",
      " Val Acc\t0.6774 \n",
      " Val F1\t\t0.8077 \n",
      " Val AUC\t0.6810 \n",
      " Val GMean\t0.0000 \n",
      " Val MCC\t0.0000\n"
     ]
    },
    {
     "name": "stderr",
     "output_type": "stream",
     "text": [
      "100%|███████████████████████████████████████████| 18/18 [00:00<00:00, 74.26it/s]\n"
     ]
    },
    {
     "name": "stdout",
     "output_type": "stream",
     "text": [
      "lr:  3e-05\n",
      "Epoch 164: \n",
      " Train Loss\t1.1587 \n",
      " Val Loss\t0.6603 \n",
      " Val Acc\t0.6774 \n",
      " Val F1\t\t0.8077 \n",
      " Val AUC\t0.6857 \n",
      " Val GMean\t0.0000 \n",
      " Val MCC\t0.0000\n"
     ]
    },
    {
     "name": "stderr",
     "output_type": "stream",
     "text": [
      "100%|███████████████████████████████████████████| 18/18 [00:00<00:00, 71.02it/s]\n"
     ]
    },
    {
     "name": "stdout",
     "output_type": "stream",
     "text": [
      "lr:  3e-05\n",
      "Epoch 165: \n",
      " Train Loss\t1.1585 \n",
      " Val Loss\t0.6606 \n",
      " Val Acc\t0.6774 \n",
      " Val F1\t\t0.8077 \n",
      " Val AUC\t0.6619 \n",
      " Val GMean\t0.0000 \n",
      " Val MCC\t0.0000\n"
     ]
    },
    {
     "name": "stderr",
     "output_type": "stream",
     "text": [
      "100%|███████████████████████████████████████████| 18/18 [00:00<00:00, 73.65it/s]\n"
     ]
    },
    {
     "name": "stdout",
     "output_type": "stream",
     "text": [
      "lr:  3e-05\n",
      "Epoch 166: \n",
      " Train Loss\t1.1584 \n",
      " Val Loss\t0.6608 \n",
      " Val Acc\t0.6774 \n",
      " Val F1\t\t0.8077 \n",
      " Val AUC\t0.6762 \n",
      " Val GMean\t0.0000 \n",
      " Val MCC\t0.0000\n"
     ]
    },
    {
     "name": "stderr",
     "output_type": "stream",
     "text": [
      "100%|███████████████████████████████████████████| 18/18 [00:00<00:00, 73.82it/s]\n"
     ]
    },
    {
     "name": "stdout",
     "output_type": "stream",
     "text": [
      "lr:  3e-05\n",
      "Epoch 167: \n",
      " Train Loss\t1.1583 \n",
      " Val Loss\t0.6610 \n",
      " Val Acc\t0.6774 \n",
      " Val F1\t\t0.8077 \n",
      " Val AUC\t0.6762 \n",
      " Val GMean\t0.0000 \n",
      " Val MCC\t0.0000\n"
     ]
    },
    {
     "name": "stderr",
     "output_type": "stream",
     "text": [
      "100%|███████████████████████████████████████████| 18/18 [00:00<00:00, 74.17it/s]\n"
     ]
    },
    {
     "name": "stdout",
     "output_type": "stream",
     "text": [
      "lr:  3e-05\n",
      "Epoch 168: \n",
      " Train Loss\t1.1582 \n",
      " Val Loss\t0.6612 \n",
      " Val Acc\t0.6774 \n",
      " Val F1\t\t0.8077 \n",
      " Val AUC\t0.6762 \n",
      " Val GMean\t0.0000 \n",
      " Val MCC\t0.0000\n"
     ]
    },
    {
     "name": "stderr",
     "output_type": "stream",
     "text": [
      "100%|███████████████████████████████████████████| 18/18 [00:00<00:00, 71.41it/s]\n"
     ]
    },
    {
     "name": "stdout",
     "output_type": "stream",
     "text": [
      "lr:  3e-05\n",
      "Epoch 169: \n",
      " Train Loss\t1.1581 \n",
      " Val Loss\t0.6615 \n",
      " Val Acc\t0.6774 \n",
      " Val F1\t\t0.8077 \n",
      " Val AUC\t0.6810 \n",
      " Val GMean\t0.0000 \n",
      " Val MCC\t0.0000\n"
     ]
    },
    {
     "name": "stderr",
     "output_type": "stream",
     "text": [
      "100%|███████████████████████████████████████████| 18/18 [00:00<00:00, 73.22it/s]\n"
     ]
    },
    {
     "name": "stdout",
     "output_type": "stream",
     "text": [
      "lr:  3e-05\n",
      "Epoch 170: \n",
      " Train Loss\t1.1580 \n",
      " Val Loss\t0.6618 \n",
      " Val Acc\t0.6774 \n",
      " Val F1\t\t0.8077 \n",
      " Val AUC\t0.6810 \n",
      " Val GMean\t0.0000 \n",
      " Val MCC\t0.0000\n"
     ]
    },
    {
     "name": "stderr",
     "output_type": "stream",
     "text": [
      "100%|███████████████████████████████████████████| 18/18 [00:00<00:00, 73.75it/s]\n"
     ]
    },
    {
     "name": "stdout",
     "output_type": "stream",
     "text": [
      "lr:  3e-05\n",
      "Epoch 171: \n",
      " Train Loss\t1.1578 \n",
      " Val Loss\t0.6619 \n",
      " Val Acc\t0.6774 \n",
      " Val F1\t\t0.8077 \n",
      " Val AUC\t0.6857 \n",
      " Val GMean\t0.0000 \n",
      " Val MCC\t0.0000\n"
     ]
    },
    {
     "name": "stderr",
     "output_type": "stream",
     "text": [
      "100%|███████████████████████████████████████████| 18/18 [00:00<00:00, 73.22it/s]\n"
     ]
    },
    {
     "name": "stdout",
     "output_type": "stream",
     "text": [
      "lr:  3e-05\n",
      "Epoch 172: \n",
      " Train Loss\t1.1577 \n",
      " Val Loss\t0.6624 \n",
      " Val Acc\t0.6774 \n",
      " Val F1\t\t0.8077 \n",
      " Val AUC\t0.6857 \n",
      " Val GMean\t0.0000 \n",
      " Val MCC\t0.0000\n"
     ]
    },
    {
     "name": "stderr",
     "output_type": "stream",
     "text": [
      "100%|███████████████████████████████████████████| 18/18 [00:00<00:00, 73.46it/s]\n"
     ]
    },
    {
     "name": "stdout",
     "output_type": "stream",
     "text": [
      "lr:  3e-05\n",
      "Epoch 173: \n",
      " Train Loss\t1.1576 \n",
      " Val Loss\t0.6626 \n",
      " Val Acc\t0.6774 \n",
      " Val F1\t\t0.8077 \n",
      " Val AUC\t0.6810 \n",
      " Val GMean\t0.0000 \n",
      " Val MCC\t0.0000\n"
     ]
    },
    {
     "name": "stderr",
     "output_type": "stream",
     "text": [
      "100%|███████████████████████████████████████████| 18/18 [00:00<00:00, 73.25it/s]\n"
     ]
    },
    {
     "name": "stdout",
     "output_type": "stream",
     "text": [
      "lr:  3e-05\n",
      "Epoch 174: \n",
      " Train Loss\t1.1575 \n",
      " Val Loss\t0.6630 \n",
      " Val Acc\t0.6774 \n",
      " Val F1\t\t0.8077 \n",
      " Val AUC\t0.6714 \n",
      " Val GMean\t0.0000 \n",
      " Val MCC\t0.0000\n"
     ]
    },
    {
     "name": "stderr",
     "output_type": "stream",
     "text": [
      "100%|███████████████████████████████████████████| 18/18 [00:00<00:00, 72.58it/s]\n"
     ]
    },
    {
     "name": "stdout",
     "output_type": "stream",
     "text": [
      "lr:  3e-05\n",
      "Epoch 175: \n",
      " Train Loss\t1.1574 \n",
      " Val Loss\t0.6631 \n",
      " Val Acc\t0.6774 \n",
      " Val F1\t\t0.8077 \n",
      " Val AUC\t0.6810 \n",
      " Val GMean\t0.0000 \n",
      " Val MCC\t0.0000\n"
     ]
    },
    {
     "name": "stderr",
     "output_type": "stream",
     "text": [
      "100%|███████████████████████████████████████████| 18/18 [00:00<00:00, 74.41it/s]\n"
     ]
    },
    {
     "name": "stdout",
     "output_type": "stream",
     "text": [
      "lr:  3e-05\n",
      "Epoch 176: \n",
      " Train Loss\t1.1573 \n",
      " Val Loss\t0.6634 \n",
      " Val Acc\t0.6774 \n",
      " Val F1\t\t0.8077 \n",
      " Val AUC\t0.6667 \n",
      " Val GMean\t0.0000 \n",
      " Val MCC\t0.0000\n"
     ]
    },
    {
     "name": "stderr",
     "output_type": "stream",
     "text": [
      "100%|███████████████████████████████████████████| 18/18 [00:00<00:00, 73.18it/s]\n"
     ]
    },
    {
     "name": "stdout",
     "output_type": "stream",
     "text": [
      "lr:  3e-05\n",
      "Epoch 177: \n",
      " Train Loss\t1.1572 \n",
      " Val Loss\t0.6637 \n",
      " Val Acc\t0.6774 \n",
      " Val F1\t\t0.8077 \n",
      " Val AUC\t0.6762 \n",
      " Val GMean\t0.0000 \n",
      " Val MCC\t0.0000\n"
     ]
    },
    {
     "name": "stderr",
     "output_type": "stream",
     "text": [
      "100%|███████████████████████████████████████████| 18/18 [00:00<00:00, 73.74it/s]\n"
     ]
    },
    {
     "name": "stdout",
     "output_type": "stream",
     "text": [
      "lr:  3e-05\n",
      "Epoch 178: \n",
      " Train Loss\t1.1571 \n",
      " Val Loss\t0.6639 \n",
      " Val Acc\t0.6774 \n",
      " Val F1\t\t0.8077 \n",
      " Val AUC\t0.6762 \n",
      " Val GMean\t0.0000 \n",
      " Val MCC\t0.0000\n"
     ]
    },
    {
     "name": "stderr",
     "output_type": "stream",
     "text": [
      "100%|███████████████████████████████████████████| 18/18 [00:00<00:00, 73.49it/s]\n"
     ]
    },
    {
     "name": "stdout",
     "output_type": "stream",
     "text": [
      "lr:  3e-05\n",
      "Epoch 179: \n",
      " Train Loss\t1.1570 \n",
      " Val Loss\t0.6642 \n",
      " Val Acc\t0.6774 \n",
      " Val F1\t\t0.8077 \n",
      " Val AUC\t0.6762 \n",
      " Val GMean\t0.0000 \n",
      " Val MCC\t0.0000\n"
     ]
    },
    {
     "name": "stderr",
     "output_type": "stream",
     "text": [
      "100%|███████████████████████████████████████████| 18/18 [00:00<00:00, 72.75it/s]\n"
     ]
    },
    {
     "name": "stdout",
     "output_type": "stream",
     "text": [
      "lr:  3e-05\n",
      "Epoch 180: \n",
      " Train Loss\t1.1569 \n",
      " Val Loss\t0.6644 \n",
      " Val Acc\t0.6774 \n",
      " Val F1\t\t0.8077 \n",
      " Val AUC\t0.6667 \n",
      " Val GMean\t0.0000 \n",
      " Val MCC\t0.0000\n"
     ]
    },
    {
     "name": "stderr",
     "output_type": "stream",
     "text": [
      "100%|███████████████████████████████████████████| 18/18 [00:00<00:00, 74.31it/s]\n"
     ]
    },
    {
     "name": "stdout",
     "output_type": "stream",
     "text": [
      "lr:  3e-05\n",
      "Epoch 181: \n",
      " Train Loss\t1.1568 \n",
      " Val Loss\t0.6648 \n",
      " Val Acc\t0.6774 \n",
      " Val F1\t\t0.8077 \n",
      " Val AUC\t0.6571 \n",
      " Val GMean\t0.0000 \n",
      " Val MCC\t0.0000\n"
     ]
    },
    {
     "name": "stderr",
     "output_type": "stream",
     "text": [
      "100%|███████████████████████████████████████████| 18/18 [00:00<00:00, 71.02it/s]\n"
     ]
    },
    {
     "name": "stdout",
     "output_type": "stream",
     "text": [
      "lr:  3e-05\n",
      "Epoch 182: \n",
      " Train Loss\t1.1567 \n",
      " Val Loss\t0.6651 \n",
      " Val Acc\t0.6774 \n",
      " Val F1\t\t0.8077 \n",
      " Val AUC\t0.6714 \n",
      " Val GMean\t0.0000 \n",
      " Val MCC\t0.0000\n"
     ]
    },
    {
     "name": "stderr",
     "output_type": "stream",
     "text": [
      "100%|███████████████████████████████████████████| 18/18 [00:00<00:00, 73.41it/s]\n"
     ]
    },
    {
     "name": "stdout",
     "output_type": "stream",
     "text": [
      "lr:  3e-05\n",
      "Epoch 183: \n",
      " Train Loss\t1.1566 \n",
      " Val Loss\t0.6653 \n",
      " Val Acc\t0.6774 \n",
      " Val F1\t\t0.8077 \n",
      " Val AUC\t0.6810 \n",
      " Val GMean\t0.0000 \n",
      " Val MCC\t0.0000\n"
     ]
    },
    {
     "name": "stderr",
     "output_type": "stream",
     "text": [
      "100%|███████████████████████████████████████████| 18/18 [00:00<00:00, 73.17it/s]\n"
     ]
    },
    {
     "name": "stdout",
     "output_type": "stream",
     "text": [
      "lr:  3e-05\n",
      "Epoch 184: \n",
      " Train Loss\t1.1564 \n",
      " Val Loss\t0.6657 \n",
      " Val Acc\t0.6774 \n",
      " Val F1\t\t0.8077 \n",
      " Val AUC\t0.6762 \n",
      " Val GMean\t0.0000 \n",
      " Val MCC\t0.0000\n"
     ]
    },
    {
     "name": "stderr",
     "output_type": "stream",
     "text": [
      "100%|███████████████████████████████████████████| 18/18 [00:00<00:00, 67.70it/s]\n"
     ]
    },
    {
     "name": "stdout",
     "output_type": "stream",
     "text": [
      "lr:  3e-05\n",
      "Epoch 185: \n",
      " Train Loss\t1.1563 \n",
      " Val Loss\t0.6660 \n",
      " Val Acc\t0.6774 \n",
      " Val F1\t\t0.8077 \n",
      " Val AUC\t0.6762 \n",
      " Val GMean\t0.0000 \n",
      " Val MCC\t0.0000\n"
     ]
    },
    {
     "name": "stderr",
     "output_type": "stream",
     "text": [
      "100%|███████████████████████████████████████████| 18/18 [00:00<00:00, 72.67it/s]\n"
     ]
    },
    {
     "name": "stdout",
     "output_type": "stream",
     "text": [
      "lr:  3e-05\n",
      "Epoch 186: \n",
      " Train Loss\t1.1562 \n",
      " Val Loss\t0.6664 \n",
      " Val Acc\t0.6774 \n",
      " Val F1\t\t0.8077 \n",
      " Val AUC\t0.6571 \n",
      " Val GMean\t0.0000 \n",
      " Val MCC\t0.0000\n"
     ]
    },
    {
     "name": "stderr",
     "output_type": "stream",
     "text": [
      "100%|███████████████████████████████████████████| 18/18 [00:00<00:00, 73.38it/s]\n"
     ]
    },
    {
     "name": "stdout",
     "output_type": "stream",
     "text": [
      "lr:  3e-05\n",
      "Epoch 187: \n",
      " Train Loss\t1.1561 \n",
      " Val Loss\t0.6666 \n",
      " Val Acc\t0.6774 \n",
      " Val F1\t\t0.8077 \n",
      " Val AUC\t0.6571 \n",
      " Val GMean\t0.0000 \n",
      " Val MCC\t0.0000\n"
     ]
    },
    {
     "name": "stderr",
     "output_type": "stream",
     "text": [
      "100%|███████████████████████████████████████████| 18/18 [00:00<00:00, 73.58it/s]\n"
     ]
    },
    {
     "name": "stdout",
     "output_type": "stream",
     "text": [
      "lr:  3e-05\n",
      "Epoch 188: \n",
      " Train Loss\t1.1560 \n",
      " Val Loss\t0.6668 \n",
      " Val Acc\t0.6774 \n",
      " Val F1\t\t0.8077 \n",
      " Val AUC\t0.6714 \n",
      " Val GMean\t0.0000 \n",
      " Val MCC\t0.0000\n"
     ]
    },
    {
     "name": "stderr",
     "output_type": "stream",
     "text": [
      "100%|███████████████████████████████████████████| 18/18 [00:00<00:00, 71.73it/s]\n"
     ]
    },
    {
     "name": "stdout",
     "output_type": "stream",
     "text": [
      "lr:  3e-05\n",
      "Epoch 189: \n",
      " Train Loss\t1.1559 \n",
      " Val Loss\t0.6672 \n",
      " Val Acc\t0.6774 \n",
      " Val F1\t\t0.8077 \n",
      " Val AUC\t0.6571 \n",
      " Val GMean\t0.0000 \n",
      " Val MCC\t0.0000\n"
     ]
    },
    {
     "name": "stderr",
     "output_type": "stream",
     "text": [
      "100%|███████████████████████████████████████████| 18/18 [00:00<00:00, 71.85it/s]\n"
     ]
    },
    {
     "name": "stdout",
     "output_type": "stream",
     "text": [
      "lr:  3e-05\n",
      "Epoch 190: \n",
      " Train Loss\t1.1558 \n",
      " Val Loss\t0.6675 \n",
      " Val Acc\t0.6774 \n",
      " Val F1\t\t0.8077 \n",
      " Val AUC\t0.6714 \n",
      " Val GMean\t0.0000 \n",
      " Val MCC\t0.0000\n"
     ]
    },
    {
     "name": "stderr",
     "output_type": "stream",
     "text": [
      "100%|███████████████████████████████████████████| 18/18 [00:00<00:00, 64.51it/s]\n"
     ]
    },
    {
     "name": "stdout",
     "output_type": "stream",
     "text": [
      "lr:  3e-05\n",
      "Epoch 191: \n",
      " Train Loss\t1.1557 \n",
      " Val Loss\t0.6677 \n",
      " Val Acc\t0.6774 \n",
      " Val F1\t\t0.8077 \n",
      " Val AUC\t0.6762 \n",
      " Val GMean\t0.0000 \n",
      " Val MCC\t0.0000\n"
     ]
    },
    {
     "name": "stderr",
     "output_type": "stream",
     "text": [
      "100%|███████████████████████████████████████████| 18/18 [00:00<00:00, 71.13it/s]\n"
     ]
    },
    {
     "name": "stdout",
     "output_type": "stream",
     "text": [
      "lr:  3e-05\n",
      "Epoch 192: \n",
      " Train Loss\t1.1556 \n",
      " Val Loss\t0.6681 \n",
      " Val Acc\t0.6774 \n",
      " Val F1\t\t0.8077 \n",
      " Val AUC\t0.6714 \n",
      " Val GMean\t0.0000 \n",
      " Val MCC\t0.0000\n"
     ]
    },
    {
     "name": "stderr",
     "output_type": "stream",
     "text": [
      "100%|███████████████████████████████████████████| 18/18 [00:00<00:00, 71.26it/s]\n"
     ]
    },
    {
     "name": "stdout",
     "output_type": "stream",
     "text": [
      "lr:  3e-05\n",
      "Epoch 193: \n",
      " Train Loss\t1.1554 \n",
      " Val Loss\t0.6685 \n",
      " Val Acc\t0.6774 \n",
      " Val F1\t\t0.8077 \n",
      " Val AUC\t0.6667 \n",
      " Val GMean\t0.0000 \n",
      " Val MCC\t0.0000\n"
     ]
    },
    {
     "name": "stderr",
     "output_type": "stream",
     "text": [
      "100%|███████████████████████████████████████████| 18/18 [00:00<00:00, 72.46it/s]\n"
     ]
    },
    {
     "name": "stdout",
     "output_type": "stream",
     "text": [
      "lr:  3e-05\n",
      "Epoch 194: \n",
      " Train Loss\t1.1554 \n",
      " Val Loss\t0.6688 \n",
      " Val Acc\t0.6774 \n",
      " Val F1\t\t0.8077 \n",
      " Val AUC\t0.6714 \n",
      " Val GMean\t0.0000 \n",
      " Val MCC\t0.0000\n"
     ]
    },
    {
     "name": "stderr",
     "output_type": "stream",
     "text": [
      "100%|███████████████████████████████████████████| 18/18 [00:00<00:00, 71.50it/s]\n"
     ]
    },
    {
     "name": "stdout",
     "output_type": "stream",
     "text": [
      "lr:  3e-05\n",
      "Epoch 195: \n",
      " Train Loss\t1.1553 \n",
      " Val Loss\t0.6692 \n",
      " Val Acc\t0.6774 \n",
      " Val F1\t\t0.8077 \n",
      " Val AUC\t0.6667 \n",
      " Val GMean\t0.0000 \n",
      " Val MCC\t0.0000\n"
     ]
    },
    {
     "name": "stderr",
     "output_type": "stream",
     "text": [
      "100%|███████████████████████████████████████████| 18/18 [00:00<00:00, 73.01it/s]\n"
     ]
    },
    {
     "name": "stdout",
     "output_type": "stream",
     "text": [
      "lr:  3e-05\n",
      "Epoch 196: \n",
      " Train Loss\t1.1552 \n",
      " Val Loss\t0.6696 \n",
      " Val Acc\t0.6774 \n",
      " Val F1\t\t0.8077 \n",
      " Val AUC\t0.6714 \n",
      " Val GMean\t0.0000 \n",
      " Val MCC\t0.0000\n"
     ]
    },
    {
     "name": "stderr",
     "output_type": "stream",
     "text": [
      "100%|███████████████████████████████████████████| 18/18 [00:00<00:00, 73.77it/s]\n"
     ]
    },
    {
     "name": "stdout",
     "output_type": "stream",
     "text": [
      "lr:  3e-05\n",
      "Epoch 197: \n",
      " Train Loss\t1.1551 \n",
      " Val Loss\t0.6700 \n",
      " Val Acc\t0.6774 \n",
      " Val F1\t\t0.8077 \n",
      " Val AUC\t0.6619 \n",
      " Val GMean\t0.0000 \n",
      " Val MCC\t0.0000\n"
     ]
    },
    {
     "name": "stderr",
     "output_type": "stream",
     "text": [
      "100%|███████████████████████████████████████████| 18/18 [00:00<00:00, 73.57it/s]\n"
     ]
    },
    {
     "name": "stdout",
     "output_type": "stream",
     "text": [
      "lr:  3e-05\n",
      "Epoch 198: \n",
      " Train Loss\t1.1550 \n",
      " Val Loss\t0.6704 \n",
      " Val Acc\t0.6774 \n",
      " Val F1\t\t0.8077 \n",
      " Val AUC\t0.6762 \n",
      " Val GMean\t0.0000 \n",
      " Val MCC\t0.0000\n"
     ]
    },
    {
     "name": "stderr",
     "output_type": "stream",
     "text": [
      "100%|███████████████████████████████████████████| 18/18 [00:00<00:00, 70.04it/s]\n"
     ]
    },
    {
     "name": "stdout",
     "output_type": "stream",
     "text": [
      "lr:  3e-05\n",
      "Epoch 199: \n",
      " Train Loss\t1.1548 \n",
      " Val Loss\t0.6709 \n",
      " Val Acc\t0.6774 \n",
      " Val F1\t\t0.8077 \n",
      " Val AUC\t0.6714 \n",
      " Val GMean\t0.0000 \n",
      " Val MCC\t0.0000\n"
     ]
    },
    {
     "name": "stderr",
     "output_type": "stream",
     "text": [
      "100%|███████████████████████████████████████████| 18/18 [00:00<00:00, 74.28it/s]\n"
     ]
    },
    {
     "name": "stdout",
     "output_type": "stream",
     "text": [
      "lr:  3e-05\n",
      "Epoch 200: \n",
      " Train Loss\t1.1547 \n",
      " Val Loss\t0.6713 \n",
      " Val Acc\t0.6774 \n",
      " Val F1\t\t0.8077 \n",
      " Val AUC\t0.6714 \n",
      " Val GMean\t0.0000 \n",
      " Val MCC\t0.0000\n"
     ]
    },
    {
     "name": "stderr",
     "output_type": "stream",
     "text": [
      "100%|███████████████████████████████████████████| 18/18 [00:00<00:00, 74.40it/s]\n"
     ]
    },
    {
     "name": "stdout",
     "output_type": "stream",
     "text": [
      "lr:  3e-05\n",
      "Epoch 201: \n",
      " Train Loss\t1.1545 \n",
      " Val Loss\t0.6717 \n",
      " Val Acc\t0.6774 \n",
      " Val F1\t\t0.8077 \n",
      " Val AUC\t0.6667 \n",
      " Val GMean\t0.0000 \n",
      " Val MCC\t0.0000\n"
     ]
    },
    {
     "name": "stderr",
     "output_type": "stream",
     "text": [
      "100%|███████████████████████████████████████████| 18/18 [00:00<00:00, 73.01it/s]\n"
     ]
    },
    {
     "name": "stdout",
     "output_type": "stream",
     "text": [
      "lr:  3e-05\n",
      "Epoch 202: \n",
      " Train Loss\t1.1544 \n",
      " Val Loss\t0.6721 \n",
      " Val Acc\t0.6774 \n",
      " Val F1\t\t0.8077 \n",
      " Val AUC\t0.6762 \n",
      " Val GMean\t0.0000 \n",
      " Val MCC\t0.0000\n"
     ]
    },
    {
     "name": "stderr",
     "output_type": "stream",
     "text": [
      "100%|███████████████████████████████████████████| 18/18 [00:00<00:00, 73.42it/s]\n"
     ]
    },
    {
     "name": "stdout",
     "output_type": "stream",
     "text": [
      "lr:  3e-05\n",
      "Epoch 203: \n",
      " Train Loss\t1.1543 \n",
      " Val Loss\t0.6724 \n",
      " Val Acc\t0.6774 \n",
      " Val F1\t\t0.8077 \n",
      " Val AUC\t0.6762 \n",
      " Val GMean\t0.0000 \n",
      " Val MCC\t0.0000\n"
     ]
    },
    {
     "name": "stderr",
     "output_type": "stream",
     "text": [
      "100%|███████████████████████████████████████████| 18/18 [00:00<00:00, 72.03it/s]\n"
     ]
    },
    {
     "name": "stdout",
     "output_type": "stream",
     "text": [
      "lr:  3e-05\n",
      "Epoch 204: \n",
      " Train Loss\t1.1542 \n",
      " Val Loss\t0.6729 \n",
      " Val Acc\t0.6774 \n",
      " Val F1\t\t0.8077 \n",
      " Val AUC\t0.6762 \n",
      " Val GMean\t0.0000 \n",
      " Val MCC\t0.0000\n"
     ]
    },
    {
     "name": "stderr",
     "output_type": "stream",
     "text": [
      "100%|███████████████████████████████████████████| 18/18 [00:00<00:00, 69.58it/s]\n"
     ]
    },
    {
     "name": "stdout",
     "output_type": "stream",
     "text": [
      "lr:  3e-05\n",
      "Epoch 205: \n",
      " Train Loss\t1.1541 \n",
      " Val Loss\t0.6732 \n",
      " Val Acc\t0.6774 \n",
      " Val F1\t\t0.8077 \n",
      " Val AUC\t0.6714 \n",
      " Val GMean\t0.0000 \n",
      " Val MCC\t0.0000\n"
     ]
    },
    {
     "name": "stderr",
     "output_type": "stream",
     "text": [
      "100%|███████████████████████████████████████████| 18/18 [00:00<00:00, 72.64it/s]\n"
     ]
    },
    {
     "name": "stdout",
     "output_type": "stream",
     "text": [
      "lr:  3e-05\n",
      "Epoch 206: \n",
      " Train Loss\t1.1540 \n",
      " Val Loss\t0.6738 \n",
      " Val Acc\t0.6774 \n",
      " Val F1\t\t0.8077 \n",
      " Val AUC\t0.6714 \n",
      " Val GMean\t0.0000 \n",
      " Val MCC\t0.0000\n"
     ]
    },
    {
     "name": "stderr",
     "output_type": "stream",
     "text": [
      "100%|███████████████████████████████████████████| 18/18 [00:00<00:00, 73.16it/s]\n"
     ]
    },
    {
     "name": "stdout",
     "output_type": "stream",
     "text": [
      "lr:  3e-05\n",
      "Epoch 207: \n",
      " Train Loss\t1.1539 \n",
      " Val Loss\t0.6741 \n",
      " Val Acc\t0.6774 \n",
      " Val F1\t\t0.8077 \n",
      " Val AUC\t0.6667 \n",
      " Val GMean\t0.0000 \n",
      " Val MCC\t0.0000\n"
     ]
    },
    {
     "name": "stderr",
     "output_type": "stream",
     "text": [
      "100%|███████████████████████████████████████████| 18/18 [00:00<00:00, 71.21it/s]\n"
     ]
    },
    {
     "name": "stdout",
     "output_type": "stream",
     "text": [
      "lr:  3e-05\n",
      "Epoch 208: \n",
      " Train Loss\t1.1538 \n",
      " Val Loss\t0.6746 \n",
      " Val Acc\t0.6774 \n",
      " Val F1\t\t0.8077 \n",
      " Val AUC\t0.6667 \n",
      " Val GMean\t0.0000 \n",
      " Val MCC\t0.0000\n"
     ]
    },
    {
     "name": "stderr",
     "output_type": "stream",
     "text": [
      "100%|███████████████████████████████████████████| 18/18 [00:00<00:00, 72.76it/s]\n"
     ]
    },
    {
     "name": "stdout",
     "output_type": "stream",
     "text": [
      "lr:  3e-05\n",
      "Epoch 209: \n",
      " Train Loss\t1.1537 \n",
      " Val Loss\t0.6750 \n",
      " Val Acc\t0.6774 \n",
      " Val F1\t\t0.8077 \n",
      " Val AUC\t0.6762 \n",
      " Val GMean\t0.0000 \n",
      " Val MCC\t0.0000\n"
     ]
    },
    {
     "name": "stderr",
     "output_type": "stream",
     "text": [
      "100%|███████████████████████████████████████████| 18/18 [00:00<00:00, 72.15it/s]\n"
     ]
    },
    {
     "name": "stdout",
     "output_type": "stream",
     "text": [
      "lr:  3e-05\n",
      "Epoch 210: \n",
      " Train Loss\t1.1536 \n",
      " Val Loss\t0.6754 \n",
      " Val Acc\t0.6774 \n",
      " Val F1\t\t0.8077 \n",
      " Val AUC\t0.6762 \n",
      " Val GMean\t0.0000 \n",
      " Val MCC\t0.0000\n"
     ]
    },
    {
     "name": "stderr",
     "output_type": "stream",
     "text": [
      "100%|███████████████████████████████████████████| 18/18 [00:00<00:00, 72.27it/s]\n"
     ]
    },
    {
     "name": "stdout",
     "output_type": "stream",
     "text": [
      "lr:  3e-05\n",
      "Epoch 211: \n",
      " Train Loss\t1.1535 \n",
      " Val Loss\t0.6760 \n",
      " Val Acc\t0.6774 \n",
      " Val F1\t\t0.8077 \n",
      " Val AUC\t0.6667 \n",
      " Val GMean\t0.0000 \n",
      " Val MCC\t0.0000\n"
     ]
    },
    {
     "name": "stderr",
     "output_type": "stream",
     "text": [
      "100%|███████████████████████████████████████████| 18/18 [00:00<00:00, 73.01it/s]\n"
     ]
    },
    {
     "name": "stdout",
     "output_type": "stream",
     "text": [
      "lr:  3e-05\n",
      "Epoch 212: \n",
      " Train Loss\t1.1533 \n",
      " Val Loss\t0.6764 \n",
      " Val Acc\t0.6774 \n",
      " Val F1\t\t0.8077 \n",
      " Val AUC\t0.6714 \n",
      " Val GMean\t0.0000 \n",
      " Val MCC\t0.0000\n"
     ]
    },
    {
     "name": "stderr",
     "output_type": "stream",
     "text": [
      "100%|███████████████████████████████████████████| 18/18 [00:00<00:00, 71.61it/s]\n"
     ]
    },
    {
     "name": "stdout",
     "output_type": "stream",
     "text": [
      "lr:  3e-05\n",
      "Epoch 213: \n",
      " Train Loss\t1.1532 \n",
      " Val Loss\t0.6769 \n",
      " Val Acc\t0.6774 \n",
      " Val F1\t\t0.8077 \n",
      " Val AUC\t0.6714 \n",
      " Val GMean\t0.0000 \n",
      " Val MCC\t0.0000\n"
     ]
    },
    {
     "name": "stderr",
     "output_type": "stream",
     "text": [
      "100%|███████████████████████████████████████████| 18/18 [00:00<00:00, 70.96it/s]\n"
     ]
    },
    {
     "name": "stdout",
     "output_type": "stream",
     "text": [
      "lr:  3e-05\n",
      "Epoch 214: \n",
      " Train Loss\t1.1530 \n",
      " Val Loss\t0.6774 \n",
      " Val Acc\t0.6774 \n",
      " Val F1\t\t0.8077 \n",
      " Val AUC\t0.6762 \n",
      " Val GMean\t0.0000 \n",
      " Val MCC\t0.0000\n"
     ]
    },
    {
     "name": "stderr",
     "output_type": "stream",
     "text": [
      "100%|███████████████████████████████████████████| 18/18 [00:00<00:00, 70.83it/s]\n"
     ]
    },
    {
     "name": "stdout",
     "output_type": "stream",
     "text": [
      "lr:  3e-05\n",
      "Epoch 215: \n",
      " Train Loss\t1.1529 \n",
      " Val Loss\t0.6781 \n",
      " Val Acc\t0.6774 \n",
      " Val F1\t\t0.8077 \n",
      " Val AUC\t0.6762 \n",
      " Val GMean\t0.0000 \n",
      " Val MCC\t0.0000\n"
     ]
    },
    {
     "name": "stderr",
     "output_type": "stream",
     "text": [
      "100%|███████████████████████████████████████████| 18/18 [00:00<00:00, 71.90it/s]\n"
     ]
    },
    {
     "name": "stdout",
     "output_type": "stream",
     "text": [
      "lr:  3e-05\n",
      "Epoch 216: \n",
      " Train Loss\t1.1528 \n",
      " Val Loss\t0.6786 \n",
      " Val Acc\t0.6774 \n",
      " Val F1\t\t0.8077 \n",
      " Val AUC\t0.6714 \n",
      " Val GMean\t0.0000 \n",
      " Val MCC\t0.0000\n"
     ]
    },
    {
     "name": "stderr",
     "output_type": "stream",
     "text": [
      "100%|███████████████████████████████████████████| 18/18 [00:00<00:00, 71.50it/s]\n"
     ]
    },
    {
     "name": "stdout",
     "output_type": "stream",
     "text": [
      "lr:  3e-05\n",
      "Epoch 217: \n",
      " Train Loss\t1.1526 \n",
      " Val Loss\t0.6790 \n",
      " Val Acc\t0.6774 \n",
      " Val F1\t\t0.8077 \n",
      " Val AUC\t0.6667 \n",
      " Val GMean\t0.0000 \n",
      " Val MCC\t0.0000\n"
     ]
    },
    {
     "name": "stderr",
     "output_type": "stream",
     "text": [
      "100%|███████████████████████████████████████████| 18/18 [00:00<00:00, 72.71it/s]\n"
     ]
    },
    {
     "name": "stdout",
     "output_type": "stream",
     "text": [
      "lr:  3e-05\n",
      "Epoch 218: \n",
      " Train Loss\t1.1526 \n",
      " Val Loss\t0.6795 \n",
      " Val Acc\t0.6774 \n",
      " Val F1\t\t0.8077 \n",
      " Val AUC\t0.6667 \n",
      " Val GMean\t0.0000 \n",
      " Val MCC\t0.0000\n"
     ]
    },
    {
     "name": "stderr",
     "output_type": "stream",
     "text": [
      "100%|███████████████████████████████████████████| 18/18 [00:00<00:00, 71.99it/s]\n"
     ]
    },
    {
     "name": "stdout",
     "output_type": "stream",
     "text": [
      "lr:  3e-05\n",
      "Epoch 219: \n",
      " Train Loss\t1.1524 \n",
      " Val Loss\t0.6800 \n",
      " Val Acc\t0.6774 \n",
      " Val F1\t\t0.8077 \n",
      " Val AUC\t0.6714 \n",
      " Val GMean\t0.0000 \n",
      " Val MCC\t0.0000\n"
     ]
    },
    {
     "name": "stderr",
     "output_type": "stream",
     "text": [
      "100%|███████████████████████████████████████████| 18/18 [00:00<00:00, 67.12it/s]\n"
     ]
    },
    {
     "name": "stdout",
     "output_type": "stream",
     "text": [
      "lr:  3e-05\n",
      "Epoch 220: \n",
      " Train Loss\t1.1523 \n",
      " Val Loss\t0.6806 \n",
      " Val Acc\t0.6774 \n",
      " Val F1\t\t0.8077 \n",
      " Val AUC\t0.6714 \n",
      " Val GMean\t0.0000 \n",
      " Val MCC\t0.0000\n"
     ]
    },
    {
     "name": "stderr",
     "output_type": "stream",
     "text": [
      "100%|███████████████████████████████████████████| 18/18 [00:00<00:00, 71.79it/s]\n"
     ]
    },
    {
     "name": "stdout",
     "output_type": "stream",
     "text": [
      "lr:  3e-05\n",
      "Epoch 221: \n",
      " Train Loss\t1.1522 \n",
      " Val Loss\t0.6811 \n",
      " Val Acc\t0.6774 \n",
      " Val F1\t\t0.8077 \n",
      " Val AUC\t0.6762 \n",
      " Val GMean\t0.0000 \n",
      " Val MCC\t0.0000\n"
     ]
    },
    {
     "name": "stderr",
     "output_type": "stream",
     "text": [
      "100%|███████████████████████████████████████████| 18/18 [00:00<00:00, 72.62it/s]\n"
     ]
    },
    {
     "name": "stdout",
     "output_type": "stream",
     "text": [
      "lr:  3e-05\n",
      "Epoch 222: \n",
      " Train Loss\t1.1520 \n",
      " Val Loss\t0.6818 \n",
      " Val Acc\t0.6774 \n",
      " Val F1\t\t0.8077 \n",
      " Val AUC\t0.6714 \n",
      " Val GMean\t0.0000 \n",
      " Val MCC\t0.0000\n"
     ]
    },
    {
     "name": "stderr",
     "output_type": "stream",
     "text": [
      "100%|███████████████████████████████████████████| 18/18 [00:00<00:00, 72.10it/s]\n"
     ]
    },
    {
     "name": "stdout",
     "output_type": "stream",
     "text": [
      "lr:  3e-05\n",
      "Epoch 223: \n",
      " Train Loss\t1.1519 \n",
      " Val Loss\t0.6824 \n",
      " Val Acc\t0.6774 \n",
      " Val F1\t\t0.8077 \n",
      " Val AUC\t0.6619 \n",
      " Val GMean\t0.0000 \n",
      " Val MCC\t0.0000\n"
     ]
    },
    {
     "name": "stderr",
     "output_type": "stream",
     "text": [
      "100%|███████████████████████████████████████████| 18/18 [00:00<00:00, 72.15it/s]\n"
     ]
    },
    {
     "name": "stdout",
     "output_type": "stream",
     "text": [
      "lr:  3e-05\n",
      "Epoch 224: \n",
      " Train Loss\t1.1518 \n",
      " Val Loss\t0.6829 \n",
      " Val Acc\t0.6774 \n",
      " Val F1\t\t0.8077 \n",
      " Val AUC\t0.6619 \n",
      " Val GMean\t0.0000 \n",
      " Val MCC\t0.0000\n"
     ]
    },
    {
     "name": "stderr",
     "output_type": "stream",
     "text": [
      "100%|███████████████████████████████████████████| 18/18 [00:00<00:00, 73.70it/s]\n"
     ]
    },
    {
     "name": "stdout",
     "output_type": "stream",
     "text": [
      "lr:  3e-05\n",
      "Epoch 225: \n",
      " Train Loss\t1.1516 \n",
      " Val Loss\t0.6837 \n",
      " Val Acc\t0.6774 \n",
      " Val F1\t\t0.8077 \n",
      " Val AUC\t0.6571 \n",
      " Val GMean\t0.0000 \n",
      " Val MCC\t0.0000\n"
     ]
    },
    {
     "name": "stderr",
     "output_type": "stream",
     "text": [
      "100%|███████████████████████████████████████████| 18/18 [00:00<00:00, 71.97it/s]\n"
     ]
    },
    {
     "name": "stdout",
     "output_type": "stream",
     "text": [
      "lr:  3e-05\n",
      "Epoch 226: \n",
      " Train Loss\t1.1515 \n",
      " Val Loss\t0.6842 \n",
      " Val Acc\t0.6774 \n",
      " Val F1\t\t0.8077 \n",
      " Val AUC\t0.6571 \n",
      " Val GMean\t0.0000 \n",
      " Val MCC\t0.0000\n"
     ]
    },
    {
     "name": "stderr",
     "output_type": "stream",
     "text": [
      "100%|███████████████████████████████████████████| 18/18 [00:00<00:00, 72.85it/s]\n"
     ]
    },
    {
     "name": "stdout",
     "output_type": "stream",
     "text": [
      "lr:  3e-05\n",
      "Epoch 227: \n",
      " Train Loss\t1.1512 \n",
      " Val Loss\t0.6849 \n",
      " Val Acc\t0.6774 \n",
      " Val F1\t\t0.8077 \n",
      " Val AUC\t0.6619 \n",
      " Val GMean\t0.0000 \n",
      " Val MCC\t0.0000\n"
     ]
    },
    {
     "name": "stderr",
     "output_type": "stream",
     "text": [
      "100%|███████████████████████████████████████████| 18/18 [00:00<00:00, 66.63it/s]\n"
     ]
    },
    {
     "name": "stdout",
     "output_type": "stream",
     "text": [
      "lr:  3e-05\n",
      "Epoch 228: \n",
      " Train Loss\t1.1512 \n",
      " Val Loss\t0.6857 \n",
      " Val Acc\t0.6774 \n",
      " Val F1\t\t0.8077 \n",
      " Val AUC\t0.6619 \n",
      " Val GMean\t0.0000 \n",
      " Val MCC\t0.0000\n"
     ]
    },
    {
     "name": "stderr",
     "output_type": "stream",
     "text": [
      "100%|███████████████████████████████████████████| 18/18 [00:00<00:00, 71.11it/s]\n"
     ]
    },
    {
     "name": "stdout",
     "output_type": "stream",
     "text": [
      "lr:  3e-05\n",
      "Epoch 229: \n",
      " Train Loss\t1.1511 \n",
      " Val Loss\t0.6868 \n",
      " Val Acc\t0.6774 \n",
      " Val F1\t\t0.8077 \n",
      " Val AUC\t0.6619 \n",
      " Val GMean\t0.0000 \n",
      " Val MCC\t0.0000\n"
     ]
    },
    {
     "name": "stderr",
     "output_type": "stream",
     "text": [
      "100%|███████████████████████████████████████████| 18/18 [00:00<00:00, 73.52it/s]\n"
     ]
    },
    {
     "name": "stdout",
     "output_type": "stream",
     "text": [
      "lr:  3e-05\n",
      "Epoch 230: \n",
      " Train Loss\t1.1510 \n",
      " Val Loss\t0.6876 \n",
      " Val Acc\t0.6774 \n",
      " Val F1\t\t0.8077 \n",
      " Val AUC\t0.6619 \n",
      " Val GMean\t0.0000 \n",
      " Val MCC\t0.0000\n"
     ]
    },
    {
     "name": "stderr",
     "output_type": "stream",
     "text": [
      "100%|███████████████████████████████████████████| 18/18 [00:00<00:00, 68.42it/s]\n"
     ]
    },
    {
     "name": "stdout",
     "output_type": "stream",
     "text": [
      "lr:  3e-05\n",
      "Epoch 231: \n",
      " Train Loss\t1.1510 \n",
      " Val Loss\t0.6884 \n",
      " Val Acc\t0.6774 \n",
      " Val F1\t\t0.8077 \n",
      " Val AUC\t0.6619 \n",
      " Val GMean\t0.0000 \n",
      " Val MCC\t0.0000\n"
     ]
    },
    {
     "name": "stderr",
     "output_type": "stream",
     "text": [
      "100%|███████████████████████████████████████████| 18/18 [00:00<00:00, 71.88it/s]\n"
     ]
    },
    {
     "name": "stdout",
     "output_type": "stream",
     "text": [
      "lr:  3e-05\n",
      "Epoch 232: \n",
      " Train Loss\t1.1508 \n",
      " Val Loss\t0.6890 \n",
      " Val Acc\t0.6774 \n",
      " Val F1\t\t0.8077 \n",
      " Val AUC\t0.6619 \n",
      " Val GMean\t0.0000 \n",
      " Val MCC\t0.0000\n"
     ]
    },
    {
     "name": "stderr",
     "output_type": "stream",
     "text": [
      "100%|███████████████████████████████████████████| 18/18 [00:00<00:00, 73.04it/s]\n"
     ]
    },
    {
     "name": "stdout",
     "output_type": "stream",
     "text": [
      "lr:  3e-05\n",
      "Epoch 233: \n",
      " Train Loss\t1.1506 \n",
      " Val Loss\t0.6898 \n",
      " Val Acc\t0.6774 \n",
      " Val F1\t\t0.8077 \n",
      " Val AUC\t0.6619 \n",
      " Val GMean\t0.0000 \n",
      " Val MCC\t0.0000\n"
     ]
    },
    {
     "name": "stderr",
     "output_type": "stream",
     "text": [
      "100%|███████████████████████████████████████████| 18/18 [00:00<00:00, 72.14it/s]\n"
     ]
    },
    {
     "name": "stdout",
     "output_type": "stream",
     "text": [
      "lr:  3e-05\n",
      "Epoch 234: \n",
      " Train Loss\t1.1505 \n",
      " Val Loss\t0.6903 \n",
      " Val Acc\t0.6774 \n",
      " Val F1\t\t0.8077 \n",
      " Val AUC\t0.6667 \n",
      " Val GMean\t0.0000 \n",
      " Val MCC\t0.0000\n"
     ]
    },
    {
     "name": "stderr",
     "output_type": "stream",
     "text": [
      "100%|███████████████████████████████████████████| 18/18 [00:00<00:00, 71.42it/s]\n"
     ]
    },
    {
     "name": "stdout",
     "output_type": "stream",
     "text": [
      "lr:  3e-05\n",
      "Epoch 235: \n",
      " Train Loss\t1.1504 \n",
      " Val Loss\t0.6913 \n",
      " Val Acc\t0.6774 \n",
      " Val F1\t\t0.8077 \n",
      " Val AUC\t0.6667 \n",
      " Val GMean\t0.0000 \n",
      " Val MCC\t0.0000\n"
     ]
    },
    {
     "name": "stderr",
     "output_type": "stream",
     "text": [
      "100%|███████████████████████████████████████████| 18/18 [00:00<00:00, 72.29it/s]\n"
     ]
    },
    {
     "name": "stdout",
     "output_type": "stream",
     "text": [
      "lr:  3e-05\n",
      "Epoch 236: \n",
      " Train Loss\t1.1503 \n",
      " Val Loss\t0.6921 \n",
      " Val Acc\t0.6774 \n",
      " Val F1\t\t0.8077 \n",
      " Val AUC\t0.6667 \n",
      " Val GMean\t0.0000 \n",
      " Val MCC\t0.0000\n"
     ]
    },
    {
     "name": "stderr",
     "output_type": "stream",
     "text": [
      "100%|███████████████████████████████████████████| 18/18 [00:00<00:00, 73.04it/s]\n"
     ]
    },
    {
     "name": "stdout",
     "output_type": "stream",
     "text": [
      "lr:  3e-05\n",
      "Epoch 237: \n",
      " Train Loss\t1.1502 \n",
      " Val Loss\t0.6930 \n",
      " Val Acc\t0.6774 \n",
      " Val F1\t\t0.8077 \n",
      " Val AUC\t0.6714 \n",
      " Val GMean\t0.0000 \n",
      " Val MCC\t0.0000\n"
     ]
    },
    {
     "name": "stderr",
     "output_type": "stream",
     "text": [
      "100%|███████████████████████████████████████████| 18/18 [00:00<00:00, 70.39it/s]\n"
     ]
    },
    {
     "name": "stdout",
     "output_type": "stream",
     "text": [
      "lr:  3e-05\n",
      "Epoch 238: \n",
      " Train Loss\t1.1500 \n",
      " Val Loss\t0.6932 \n",
      " Val Acc\t0.6774 \n",
      " Val F1\t\t0.8077 \n",
      " Val AUC\t0.6762 \n",
      " Val GMean\t0.0000 \n",
      " Val MCC\t0.0000\n"
     ]
    },
    {
     "name": "stderr",
     "output_type": "stream",
     "text": [
      "100%|███████████████████████████████████████████| 18/18 [00:00<00:00, 72.53it/s]\n"
     ]
    },
    {
     "name": "stdout",
     "output_type": "stream",
     "text": [
      "lr:  3e-05\n",
      "Epoch 239: \n",
      " Train Loss\t1.1498 \n",
      " Val Loss\t0.6940 \n",
      " Val Acc\t0.6774 \n",
      " Val F1\t\t0.8077 \n",
      " Val AUC\t0.6714 \n",
      " Val GMean\t0.0000 \n",
      " Val MCC\t0.0000\n"
     ]
    },
    {
     "name": "stderr",
     "output_type": "stream",
     "text": [
      "100%|███████████████████████████████████████████| 18/18 [00:00<00:00, 72.74it/s]\n"
     ]
    },
    {
     "name": "stdout",
     "output_type": "stream",
     "text": [
      "lr:  3e-05\n",
      "Epoch 240: \n",
      " Train Loss\t1.1497 \n",
      " Val Loss\t0.6950 \n",
      " Val Acc\t0.6774 \n",
      " Val F1\t\t0.8077 \n",
      " Val AUC\t0.6619 \n",
      " Val GMean\t0.0000 \n",
      " Val MCC\t0.0000\n"
     ]
    },
    {
     "name": "stderr",
     "output_type": "stream",
     "text": [
      " 61%|██████████████████████████▎                | 11/18 [00:00<00:00, 68.47it/s]\n"
     ]
    },
    {
     "ename": "KeyboardInterrupt",
     "evalue": "",
     "output_type": "error",
     "traceback": [
      "\u001b[0;31m---------------------------------------------------------------------------\u001b[0m",
      "\u001b[0;31mKeyboardInterrupt\u001b[0m                         Traceback (most recent call last)",
      "Cell \u001b[0;32mIn[66], line 441\u001b[0m\n\u001b[1;32m    438\u001b[0m \u001b[38;5;28;01mfor\u001b[39;00m i, (para, epi, label) \u001b[38;5;129;01min\u001b[39;00m \u001b[38;5;28menumerate\u001b[39m(tqdm(train_loader)):\n\u001b[1;32m    439\u001b[0m     optimizer\u001b[38;5;241m.\u001b[39mzero_grad()\n\u001b[0;32m--> 441\u001b[0m     pred \u001b[38;5;241m=\u001b[39m \u001b[43mmodel\u001b[49m\u001b[43m(\u001b[49m\u001b[43mpara\u001b[49m\u001b[43m,\u001b[49m\u001b[43m \u001b[49m\u001b[43mepi\u001b[49m\u001b[43m)\u001b[49m\n\u001b[1;32m    443\u001b[0m     loss \u001b[38;5;241m=\u001b[39m criterion(pred\u001b[38;5;241m.\u001b[39mview(\u001b[38;5;241m-\u001b[39m\u001b[38;5;241m1\u001b[39m), label\u001b[38;5;241m.\u001b[39mview(\u001b[38;5;241m-\u001b[39m\u001b[38;5;241m1\u001b[39m)\u001b[38;5;241m.\u001b[39mcuda())\n\u001b[1;32m    445\u001b[0m     param_l2_loss \u001b[38;5;241m=\u001b[39m \u001b[38;5;241m0\u001b[39m\n",
      "File \u001b[0;32m~/anaconda3/envs/graph/lib/python3.8/site-packages/torch/nn/modules/module.py:1190\u001b[0m, in \u001b[0;36mModule._call_impl\u001b[0;34m(self, *input, **kwargs)\u001b[0m\n\u001b[1;32m   1186\u001b[0m \u001b[38;5;66;03m# If we don't have any hooks, we want to skip the rest of the logic in\u001b[39;00m\n\u001b[1;32m   1187\u001b[0m \u001b[38;5;66;03m# this function, and just call forward.\u001b[39;00m\n\u001b[1;32m   1188\u001b[0m \u001b[38;5;28;01mif\u001b[39;00m \u001b[38;5;129;01mnot\u001b[39;00m (\u001b[38;5;28mself\u001b[39m\u001b[38;5;241m.\u001b[39m_backward_hooks \u001b[38;5;129;01mor\u001b[39;00m \u001b[38;5;28mself\u001b[39m\u001b[38;5;241m.\u001b[39m_forward_hooks \u001b[38;5;129;01mor\u001b[39;00m \u001b[38;5;28mself\u001b[39m\u001b[38;5;241m.\u001b[39m_forward_pre_hooks \u001b[38;5;129;01mor\u001b[39;00m _global_backward_hooks\n\u001b[1;32m   1189\u001b[0m         \u001b[38;5;129;01mor\u001b[39;00m _global_forward_hooks \u001b[38;5;129;01mor\u001b[39;00m _global_forward_pre_hooks):\n\u001b[0;32m-> 1190\u001b[0m     \u001b[38;5;28;01mreturn\u001b[39;00m \u001b[43mforward_call\u001b[49m\u001b[43m(\u001b[49m\u001b[38;5;241;43m*\u001b[39;49m\u001b[38;5;28;43minput\u001b[39;49m\u001b[43m,\u001b[49m\u001b[43m \u001b[49m\u001b[38;5;241;43m*\u001b[39;49m\u001b[38;5;241;43m*\u001b[39;49m\u001b[43mkwargs\u001b[49m\u001b[43m)\u001b[49m\n\u001b[1;32m   1191\u001b[0m \u001b[38;5;66;03m# Do not call functions when jit is used\u001b[39;00m\n\u001b[1;32m   1192\u001b[0m full_backward_hooks, non_full_backward_hooks \u001b[38;5;241m=\u001b[39m [], []\n",
      "File \u001b[0;32m~/wanzhang/Transformer4Ab/models/ensemble.py:253\u001b[0m, in \u001b[0;36mPESI.forward\u001b[0;34m(self, para, epi)\u001b[0m\n\u001b[1;32m    251\u001b[0m frame_para \u001b[38;5;241m=\u001b[39m [seq_pad_clip(i, target_length\u001b[38;5;241m=\u001b[39m\u001b[38;5;28mself\u001b[39m\u001b[38;5;241m.\u001b[39mmax_len) \u001b[38;5;28;01mfor\u001b[39;00m i \u001b[38;5;129;01min\u001b[39;00m frame_para]\n\u001b[1;32m    252\u001b[0m frame_epi \u001b[38;5;241m=\u001b[39m [seq_pad_clip(i, target_length\u001b[38;5;241m=\u001b[39m\u001b[38;5;28mself\u001b[39m\u001b[38;5;241m.\u001b[39mmax_len) \u001b[38;5;28;01mfor\u001b[39;00m i \u001b[38;5;129;01min\u001b[39;00m frame_epi]\n\u001b[0;32m--> 253\u001b[0m frame_para \u001b[38;5;241m=\u001b[39m \u001b[43mtorch\u001b[49m\u001b[38;5;241;43m.\u001b[39;49m\u001b[43mTensor\u001b[49m\u001b[43m(\u001b[49m\u001b[43m[\u001b[49m\u001b[43mto_onehot\u001b[49m\u001b[43m(\u001b[49m\u001b[43mi\u001b[49m\u001b[43m,\u001b[49m\u001b[43m \u001b[49m\u001b[43mmode\u001b[49m\u001b[38;5;241;43m=\u001b[39;49m\u001b[38;5;241;43m1\u001b[39;49m\u001b[43m)\u001b[49m\u001b[43m \u001b[49m\u001b[38;5;28;43;01mfor\u001b[39;49;00m\u001b[43m \u001b[49m\u001b[43mi\u001b[49m\u001b[43m \u001b[49m\u001b[38;5;129;43;01min\u001b[39;49;00m\u001b[43m \u001b[49m\u001b[43mframe_para\u001b[49m\u001b[43m]\u001b[49m\u001b[43m)\u001b[49m\u001b[38;5;241m.\u001b[39mfloat()\u001b[38;5;241m.\u001b[39mcuda()        \n\u001b[1;32m    254\u001b[0m frame_epi \u001b[38;5;241m=\u001b[39m torch\u001b[38;5;241m.\u001b[39mTensor([to_onehot(i, mode\u001b[38;5;241m=\u001b[39m\u001b[38;5;241m1\u001b[39m) \u001b[38;5;28;01mfor\u001b[39;00m i \u001b[38;5;129;01min\u001b[39;00m frame_epi])\u001b[38;5;241m.\u001b[39mfloat()\u001b[38;5;241m.\u001b[39mcuda()\n\u001b[1;32m    256\u001b[0m batch_size \u001b[38;5;241m=\u001b[39m frame_para\u001b[38;5;241m.\u001b[39msize()[\u001b[38;5;241m0\u001b[39m]\n",
      "\u001b[0;31mKeyboardInterrupt\u001b[0m: "
     ]
    }
   ],
   "source": [
    "clip_norm = 1\n",
    "\n",
    "# model name\n",
    "# model_name = \"demo\"\n",
    "# model_name = \"masonscnn\"\n",
    "# model_name = \"lstm\"\n",
    "\n",
    "# model_name = \"InteractTransformer\"\n",
    "# model_name = \"InteractCoAttnTransformer\"\n",
    "\n",
    "# model_name = \"InteractTransformerLSTM\"\n",
    "\n",
    "# model_name = \"SetTransformer\"\n",
    "# model_name = \"SetCoAttnTransformer\"\n",
    "\n",
    "# model_name = \"SetModel\"\n",
    "# model_name = \"SetCoAttnModel\"\n",
    "# model_name = \"SetModel_ablation\"\n",
    "\n",
    "# model_name = \"FTransformer\"\n",
    "\n",
    "# model_name = \"EnsembleModel\"\n",
    "model_name = \"PESI\"\n",
    "\n",
    "use_fine_tune = True\n",
    "# use_fine_tune = False\n",
    "\n",
    "fix_FE = True\n",
    "# fix_FE = False\n",
    "\n",
    "if use_fine_tune==True:\n",
    "    model_name += \"_ft\"\n",
    "\n",
    "os.makedirs(\"./results/CoV-AbDab/{}/\".format(model_name), exist_ok=True)\n",
    "\n",
    "# model_list = [\n",
    "#     \"InteractCoattnTransformer\", \n",
    "#     \"SetTransformer\", \n",
    "#     \"SetCoAttnTransformer\", \n",
    "#     \"SetModel\", \n",
    "#     \"SetCoAttnModel\"\n",
    "# ]\n",
    "\n",
    "kfold_labels = []\n",
    "kfold_preds = []\n",
    "\n",
    "for k_iter in range(10):\n",
    "    \n",
    "    print(\"=========================================================\")\n",
    "    print(\"fold {} as val set\".format(k_iter))\n",
    "    \n",
    "    train_dataset = SeqDataset(data_path=\"../SARS-SAbDab_Shaun/CoV-AbDab_extract.csv\", \\\n",
    "                     kfold=10, holdout_fold=k_iter, is_train_test_full=\"train\")\n",
    "    train_loader = torch.utils.data.DataLoader(train_dataset, batch_size=16, shuffle=False, \\\n",
    "                                               collate_fn=my_collate_fn2)\n",
    "\n",
    "    test_dataset = SeqDataset(data_path=\"../SARS-SAbDab_Shaun/CoV-AbDab_extract.csv\", \\\n",
    "                     kfold=10, holdout_fold=k_iter, is_train_test_full=\"test\")\n",
    "    test_loader = torch.utils.data.DataLoader(test_dataset, batch_size=1, shuffle=False, \\\n",
    "                                               collate_fn=my_collate_fn1)\n",
    "\n",
    "    if model_name==\"demo\":\n",
    "        model = BiLSTM_demo(embed_size=32, hidden=64, num_layers=1, dropout=0.5, use_pretrain=False).cuda()\n",
    "        \n",
    "        epochs = 100\n",
    "        lr = 6e-5\n",
    "        \n",
    "    elif model_name==\"masonscnn\":\n",
    "        model = MasonsCNN(amino_ft_dim=len(vocab), \n",
    "                          max_antibody_len=100, \n",
    "                          max_virus_len=100, \n",
    "                          h_dim=512, \n",
    "                          dropout=0.1).cuda()\n",
    "        epochs = 100\n",
    "        lr = 1e-4\n",
    "        l2_coef = 5e-4\n",
    "        \n",
    "    elif model_name==\"masonscnn_ft\":\n",
    "        model = torch.load(\"./results/SAbDab/full/seq1_neg0/masonscnn/model_best.pth\")\n",
    "\n",
    "        if fix_FE==True:\n",
    "            for name, param in model.cnnmodule.named_parameters():\n",
    "                param.requires_grad = False\n",
    "            for name, param in model.cnnmodule2.named_parameters():\n",
    "                param.requires_grad = False\n",
    "\n",
    "\n",
    "        epochs = 500\n",
    "        lr = 1e-4\n",
    "        l2_coef = 5e-4\n",
    "\n",
    "    elif model_name==\"lstm\":\n",
    "        model = BiLSTM(embed_size=32, \n",
    "                       hidden=64, \n",
    "                       num_layers=1, \n",
    "                       dropout=0.5, \n",
    "                       use_pretrain=False).cuda()\n",
    "\n",
    "        epochs = 300\n",
    "        lr = 1e-4\n",
    "        l2_coef = 5e-4\n",
    "\n",
    "    elif model_name==\"lstm_ft\":\n",
    "        model = torch.load(\"./results/SAbDab/full/seq1_neg0/lstm/model_best.pth\")\n",
    "        model.train()\n",
    "        \n",
    "        if fix_FE==True:\n",
    "            for name, param in model.LSTM_para.named_parameters():\n",
    "                param.requires_grad = False\n",
    "            for name, param in model.LSTM_epi.named_parameters():\n",
    "                param.requires_grad = False\n",
    "        \n",
    "        epochs = 500\n",
    "        lr = 1e-4\n",
    "        l2_coef = 5e-4\n",
    "    \n",
    "    elif model_name==\"InteractTransformer\":\n",
    "        model = InteractTransformer(embed_size=32, \n",
    "                                    num_encoder_layers=1, \n",
    "                                    nhead=2, \n",
    "                                    dropout=0.3, \n",
    "                                    use_coattn=False).cuda()\n",
    "        epochs = 200\n",
    "        lr = 3e-5\n",
    "        \n",
    "    elif model_name==\"InteractTransformer_ft\":\n",
    "        model = torch.load(\"./results/SAbDab/full/seq1_neg0/InteractTransformer/model_best.pth\")\n",
    "        model.train()\n",
    "        \n",
    "        if fix_FE==True:\n",
    "            for name, param in model.transformer_para.named_parameters():\n",
    "                param.requires_grad = False\n",
    "            for name, param in model.transformer_epi.named_parameters():\n",
    "                param.requires_grad = False\n",
    "\n",
    "        epochs = 1000\n",
    "        lr = 1e-4\n",
    "        l2_coef = 5e-4\n",
    "                \n",
    "    elif model_name==\"InteractCoAttnTransformer\":\n",
    "        model = InteractTransformer(embed_size=32, \n",
    "                                    num_encoder_layers=1, \n",
    "                                    nhead=2, \n",
    "                                    dropout=0.5, \n",
    "                                    use_coattn=True).cuda()\n",
    "        epochs = 200\n",
    "        lr = 3e-5\n",
    "        \n",
    "    elif model_name==\"InteractCoAttnTransformer_ft\":\n",
    "        model = torch.load(\"./results/SAbDab/full/seq1_neg0/InteractCoAttnTransformer/model_best.pth\")\n",
    "        model.train()\n",
    "    \n",
    "        if fix_FE==True:\n",
    "            for name, param in model.transformer_para.named_parameters():\n",
    "                param.requires_grad = False\n",
    "            for name, param in model.transformer_epi.named_parameters():\n",
    "                param.requires_grad = False\n",
    "        \n",
    "        epochs = 1500\n",
    "        lr = 6e-5\n",
    "        l2_coef = 5e-4\n",
    "\n",
    "    elif model_name==\"InteractTransformerLSTM\":\n",
    "        model = InteractTransformerLSTM(embed_size=32, \n",
    "                                        hidden=64, \n",
    "                                        num_encoder_layers=1, \n",
    "                                        num_lstm_layers=1, \n",
    "                                        nhead=2, \n",
    "                                        dropout=0.5, \n",
    "                                        use_coattn=True).cuda()\n",
    "        epochs = 200\n",
    "        lr = 6e-5\n",
    "\n",
    "    elif model_name==\"InteractTransformerLSTM_ft\":\n",
    "        model = torch.load(\"./results/SAbDab/full/seq1_neg0/InteractTransformerLSTM/model_best.pth\")\n",
    "        model.train()\n",
    "        \n",
    "        epochs = 200\n",
    "        lr = 6e-5\n",
    "                \n",
    "    elif model_name==\"SetTransformer\":\n",
    "        model = SetTransformer(dim_input=32, \n",
    "                               num_outputs=32, \n",
    "                               dim_output=32, \n",
    "                               dim_hidden=64, \n",
    "                               num_inds=6, \n",
    "                               num_heads=4, \n",
    "                               ln=True, \n",
    "                               dropout=0.5, \n",
    "                               use_coattn=False, \n",
    "                               share=False).cuda()\n",
    "        \n",
    "        epochs = 500\n",
    "        lr = 1e-4\n",
    "        l2_coef = 5e-4\n",
    "        \n",
    "    elif model_name==\"SetTransformer_ft\":\n",
    "        model = torch.load(\"./results/SAbDab/full/seq1_neg0/SetTransformer/model_best.pth\")\n",
    "        model.train()\n",
    "        \n",
    "        if fix_FE==True:\n",
    "            for name, param in model.para_enc.named_parameters():\n",
    "                param.requires_grad = False\n",
    "            for name, param in model.para_dec.named_parameters():\n",
    "                param.requires_grad = False\n",
    "            for name, param in model.epi_enc.named_parameters():\n",
    "                param.requires_grad = False\n",
    "            for name, param in model.epi_dec.named_parameters():\n",
    "                param.requires_grad = False\n",
    "        \n",
    "        epochs = 500\n",
    "        lr = 1e-4\n",
    "        l2_coef = 5e-4\n",
    "        \n",
    "    elif model_name==\"SetCoAttnTransformer\":\n",
    "        model = SetTransformer(dim_input=32, \n",
    "                               num_outputs=32, \n",
    "                               dim_output=32, \n",
    "                               dim_hidden=64, \n",
    "                               num_inds=6, \n",
    "                               num_heads=4, \n",
    "                               ln=True, \n",
    "                               dropout=0.5, \n",
    "                               use_coattn=True).cuda()\n",
    "        epochs = 500\n",
    "        lr = 1e-4\n",
    "        \n",
    "    elif model_name==\"SetCoAttnTransformer_ft\":\n",
    "        model = torch.load(\"./results/SAbDab/full/seq1_neg0/SetCoAttnTransformer/model_best.pth\")\n",
    "        model.train()\n",
    "        \n",
    "        if fix_FE==True:\n",
    "            for name, param in model.para_enc.named_parameters():\n",
    "                param.requires_grad = False\n",
    "            for name, param in model.para_dec.named_parameters():\n",
    "                param.requires_grad = False\n",
    "            for name, param in model.epi_enc.named_parameters():\n",
    "                param.requires_grad = False\n",
    "            for name, param in model.epi_dec.named_parameters():\n",
    "                param.requires_grad = False\n",
    "        \n",
    "        epochs = 500\n",
    "        lr = 1e-4\n",
    "        l2_coef = 5e-4\n",
    "        \n",
    "        \n",
    "    elif model_name==\"SetModel\":\n",
    "        model = SetModel(embed_size=32, \n",
    "                         hidden=64, \n",
    "                         num_layers=1, \n",
    "                         dropout=0.3, \n",
    "                         k4kmer=3, \n",
    "                         use_pretrain=False, \n",
    "                         use_coattn=False, \n",
    "                         seq_encoder_type=\"transformer\", \n",
    "                         num_heads=2, \n",
    "                         num_inds=6, \n",
    "                         num_outputs=6, \n",
    "                         ln=True).cuda()\n",
    "        \n",
    "        epochs = 200\n",
    "        lr = 3e-5\n",
    "        l2_coef = 5e-4\n",
    "        \n",
    "    elif model_name==\"SetModel_ft\":\n",
    "        model = torch.load(\"./results/SAbDab/full/seq1_neg0/SetModel/model_best.pth\")\n",
    "        model.train()\n",
    "        \n",
    "        if fix_FE==True:\n",
    "            for name, param in model.para_enc.named_parameters():\n",
    "                param.requires_grad = False\n",
    "            for name, param in model.para_dec.named_parameters():\n",
    "                param.requires_grad = False\n",
    "            for name, param in model.epi_enc.named_parameters():\n",
    "                param.requires_grad = False\n",
    "            for name, param in model.epi_dec.named_parameters():\n",
    "                param.requires_grad = False\n",
    "        \n",
    "        epochs = 200\n",
    "        lr = 3e-5\n",
    "        l2_coef = 5e-4\n",
    "    \n",
    "    elif model_name==\"SetCoAttnModel\":\n",
    "        model = SetModel(embed_size=32, \n",
    "                         hidden=64, \n",
    "                         num_layers=1, \n",
    "                         dropout=0.3, \n",
    "                         k4kmer=3, \n",
    "                         use_pretrain=False, \n",
    "                         use_coattn=True, \n",
    "                         seq_encoder_type=\"transformer\", \n",
    "                         num_heads=2, \n",
    "                         num_inds=6, \n",
    "                         num_outputs=6, \n",
    "                         ln=True).cuda()\n",
    "        epochs = 200\n",
    "        lr = 3e-5\n",
    "    \n",
    "    elif model_name==\"SetCoAttnModel_ft\":\n",
    "        model = torch.load(\"./results/SAbDab/full/seq1_neg0/SetCoAttnModel/model_best.pth\")\n",
    "        model.train()\n",
    "        \n",
    "        if fix_FE==True:\n",
    "            for name, param in model.para_enc.named_parameters():\n",
    "                param.requires_grad = False\n",
    "            for name, param in model.para_dec.named_parameters():\n",
    "                param.requires_grad = False\n",
    "            for name, param in model.epi_enc.named_parameters():\n",
    "                param.requires_grad = False\n",
    "            for name, param in model.epi_dec.named_parameters():\n",
    "                param.requires_grad = False\n",
    "        \n",
    "        epochs = 200\n",
    "        lr = 3e-5\n",
    "        l2_coef = 5e-4\n",
    "        \n",
    "    elif model_name==\"SetModel_ablation\":\n",
    "        model = SetModel_ablation(embed_size=32, \n",
    "                         hidden=64, \n",
    "                         num_layers=2, \n",
    "                         dropout=0.5, \n",
    "                         k4kmer=7, \n",
    "                         use_pretrain=False, \n",
    "                         use_coattn=False, \n",
    "                         use_kmer_embed=True, \n",
    "                         use_seq_encoder=False, \n",
    "                         seq_encoder_type=\"lstm\", \n",
    "                         num_heads=4, \n",
    "                         num_inds=6, \n",
    "                         num_outputs=6, \n",
    "                         ln=True).cuda()\n",
    "        epochs = 150\n",
    "        lr = 6e-5\n",
    "        \n",
    "    elif model_name==\"FTransformer\":\n",
    "        model = FTransformer(embed_size=32, \n",
    "                             hidden=64, \n",
    "                             num_layers=2, \n",
    "                             dropout=0.5, \n",
    "                             k4kmer=3, \n",
    "                             use_pretrain=False, \n",
    "                             use_coattn=True, \n",
    "                             seq_encoder_type=\"transformer\", \n",
    "                             num_heads=2).cuda()\n",
    "        \n",
    "        epochs = 100\n",
    "        lr = 3e-5\n",
    "        \n",
    "    elif model_name==\"EnsembleModel\":\n",
    "        model = EnsembleModel(embed_size=16, \n",
    "                      hidden=64, \n",
    "                      max_len=100, \n",
    "                      num_encoder_layers=1, \n",
    "                      num_heads=2, \n",
    "                      num_inds=6, \n",
    "                      num_outputs=6, \n",
    "                      ln=True, \n",
    "                      dropout=0.5, \n",
    "                      use_coattn=True).cuda()\n",
    "        \n",
    "        epochs = 500\n",
    "        lr = 1e-5\n",
    "        \n",
    "    elif model_name==\"EnsembleModel_ft\":\n",
    "        model = torch.load(\"./results/SAbDab/full/seq1_neg0/EnsembleModel/model_best.pth\")\n",
    "        model.train()\n",
    "        \n",
    "        epochs = 500\n",
    "        lr = 1e-4\n",
    "        \n",
    "    elif model_name==\"PESI\":\n",
    "#         model = PESI(embed_size=7, \n",
    "#                      hidden=512, \n",
    "#                      max_len=100, \n",
    "#                      num_heads=2, \n",
    "#                      num_inds=6, \n",
    "#                      num_outputs=6, \n",
    "#                      ln=True, \n",
    "#                      dropout=0.5, \n",
    "#                      use_coattn=True).cuda()\n",
    "        model = PESI(embed_size=32, \n",
    "                     hidden=64, \n",
    "                     max_len=100, \n",
    "                     num_heads=2, \n",
    "                     num_inds=6, \n",
    "                     num_outputs=6, \n",
    "                     ln=True, \n",
    "                     dropout=0.5, \n",
    "                     use_coattn=True).cuda()\n",
    "        \n",
    "        epochs = 200\n",
    "        lr = 5e-5\n",
    "#         wd = 3e-4\n",
    "        l2_coef = 5e-4\n",
    "        \n",
    "    elif model_name==\"PESI_ft\":\n",
    "        model = torch.load(\"./results/SAbDab/full/seq1_neg0/PESI/model_best.pth\")\n",
    "        model.train()\n",
    "        \n",
    "        # freeze frame feature extractor\n",
    "        for name, param in model.Frame_para.named_parameters():\n",
    "            param.requires_grad = False\n",
    "        for name, param in model.Frame_epi.named_parameters():\n",
    "            param.requires_grad = False\n",
    "            \n",
    "        # freeze frame feature extractor        \n",
    "        for name, param in model.Set_para.named_parameters():\n",
    "            param.requires_grad = False\n",
    "        for name, param in model.Set_epi.named_parameters():\n",
    "            param.requires_grad = False\n",
    "        \n",
    "        epochs = 500\n",
    "        lr = 3e-5\n",
    "        l2_coef = 5e-4\n",
    "\n",
    "    else:\n",
    "        print(\"wrong model name!!!\")\n",
    "        break\n",
    "\n",
    "    print(\"model parameters: \", sum(p.numel() for p in model.parameters() if p.requires_grad))\n",
    "    \n",
    "    criterion = nn.BCELoss()\n",
    "    optimizer = optim.Adam(model.parameters(), lr=lr)#, weight_decay=wd)\n",
    "    # scheduler = optim.lr_scheduler.CosineAnnealingLR(optimizer, T_max=5, eta_min=1e-6, last_epoch=-1)\n",
    "\n",
    "    loss_buf = []\n",
    "    val_loss_buf = []\n",
    "    val_acc_buf = []\n",
    "    val_f1_buf = []\n",
    "    val_auc_buf = []\n",
    "    val_gmean_buf = []\n",
    "    val_mcc_buf = []\n",
    "    best_val_loss = float(\"inf\")\n",
    "    \n",
    "    for epoch in range(epochs):\n",
    "\n",
    "        loss_tmp = []\n",
    "        for i, (para, epi, label) in enumerate(tqdm(train_loader)):\n",
    "            optimizer.zero_grad()\n",
    "\n",
    "            pred = model(para, epi)\n",
    "\n",
    "            loss = criterion(pred.view(-1), label.view(-1).cuda())\n",
    "            \n",
    "            param_l2_loss = 0\n",
    "            for name, param in model.named_parameters():\n",
    "                if 'bias' not in name:\n",
    "                    param_l2_loss += torch.norm(param, p=2)\n",
    "            param_l2_loss = l2_coef * param_l2_loss\n",
    "            loss += param_l2_loss\n",
    "\n",
    "            loss.backward()\n",
    "            \n",
    "            torch.nn.utils.clip_grad_norm_(model.parameters(), clip_norm)\n",
    "\n",
    "            optimizer.step()\n",
    "\n",
    "            loss_tmp.append(loss.item())\n",
    "        \n",
    "        loss_buf.append(np.mean(loss_tmp))\n",
    "\n",
    "    #     scheduler.step()\n",
    "        print(\"lr: \", optimizer.param_groups[0]['lr'])\n",
    "\n",
    "        with torch.no_grad():\n",
    "\n",
    "            model.eval()\n",
    "\n",
    "            preds = []\n",
    "            labels = []\n",
    "            val_loss_tmp = []\n",
    "            for i, (para, epi, label) in enumerate(test_loader):\n",
    "\n",
    "                pred = model(para, epi)\n",
    "                val_loss = criterion(pred.view(-1), label.view(-1).cuda())\n",
    "\n",
    "                preds.append(pred.detach().cpu().view(-1))\n",
    "                labels.append(label.view(-1))\n",
    "                val_loss_tmp.append(val_loss.item())\n",
    "            \n",
    "            preds = torch.stack(preds, axis=1).view(-1)\n",
    "            labels = torch.stack(labels, axis=1).view(-1)\n",
    "\n",
    "#             acc = accuracy_score(y_true=labels, y_pred=torch.round(preds))\n",
    "#             f1 = f1_score(y_true=labels, y_pred=torch.round(preds))\n",
    "#             auc = roc_auc_score(y_true=labels, y_score=preds)\n",
    "\n",
    "            acc, f1, auc, gmean, mcc = evaluate_metrics(pred_proba=preds, label=labels)\n",
    "\n",
    "            val_acc_buf.append(acc)\n",
    "            val_f1_buf.append(f1)\n",
    "            val_auc_buf.append(auc)\n",
    "            val_gmean_buf.append(gmean)\n",
    "            val_mcc_buf.append(mcc)\n",
    "            val_loss_buf.append(np.mean(val_loss_tmp))\n",
    "\n",
    "            print(\"Epoch {}: \\n Train Loss\\t{:.4f} \\n Val Loss\\t{:.4f} \\n Val Acc\\t{:.4f} \\n Val F1\\t\\t{:.4f} \\n Val AUC\\t{:.4f} \\n Val GMean\\t{:.4f} \\n Val MCC\\t{:.4f}\".format(epoch, np.mean(loss_buf), np.mean(val_loss_buf), acc, f1, auc, gmean, mcc))\n",
    "            \n",
    "            if np.mean(val_loss_tmp)<best_val_loss:\n",
    "                best_val_loss = np.mean(val_loss_tmp)\n",
    "                torch.save(model, \"./results/CoV-AbDab/{}/model_{}_best.pth\".format(model_name, k_iter))\n",
    "                np.save(\"./results/CoV-AbDab/{}/val_acc_{}_best.npy\".format(model_name, k_iter), acc)\n",
    "                np.save(\"./results/CoV-AbDab/{}/val_f1_{}_best.npy\".format(model_name, k_iter), f1)\n",
    "                np.save(\"./results/CoV-AbDab/{}/val_auc_{}_best.npy\".format(model_name, k_iter), auc)\n",
    "                np.save(\"./results/CoV-AbDab/{}/val_gmean_{}_best.npy\".format(model_name, k_iter), gmean)\n",
    "                np.save(\"./results/CoV-AbDab/{}/val_mcc_{}_best.npy\".format(model_name, k_iter), mcc)\n",
    "\n",
    "        model.train()\n",
    "    \n",
    "    torch.save(model, \"./results/CoV-AbDab/{}/model_{}.pth\".format(model_name, k_iter))\n",
    "    np.save(\"./results/CoV-AbDab/{}/loss_buf_{}.npy\".format(model_name, k_iter), np.array(loss_buf))\n",
    "    np.save(\"./results/CoV-AbDab/{}/val_loss_buf_{}.npy\".format(model_name, k_iter), np.array(val_loss_buf))\n",
    "    np.save(\"./results/CoV-AbDab/{}/val_acc_buf_{}.npy\".format(model_name, k_iter), np.array(val_acc_buf))\n",
    "    np.save(\"./results/CoV-AbDab/{}/val_f1_buf_{}.npy\".format(model_name, k_iter), np.array(val_f1_buf))\n",
    "    np.save(\"./results/CoV-AbDab/{}/val_auc_buf_{}.npy\".format(model_name, k_iter), np.array(val_auc_buf))\n",
    "    np.save(\"./results/CoV-AbDab/{}/val_gmean_buf_{}.npy\".format(model_name, k_iter), np.array(val_gmean_buf))\n",
    "    np.save(\"./results/CoV-AbDab/{}/val_mcc_buf_{}.npy\".format(model_name, k_iter), np.array(val_mcc_buf))\n",
    "    \n",
    "    \n",
    "    kfold_labels.append(labels)\n",
    "    kfold_preds.append(preds)\n",
    "    \n",
    "#     break"
   ]
  },
  {
   "cell_type": "code",
   "execution_count": null,
   "id": "ddad4d4a",
   "metadata": {
    "scrolled": true
   },
   "outputs": [],
   "source": [
    "kfold_preds"
   ]
  },
  {
   "cell_type": "code",
   "execution_count": null,
   "id": "256eb7cd",
   "metadata": {},
   "outputs": [],
   "source": [
    "kfold_labels"
   ]
  },
  {
   "cell_type": "code",
   "execution_count": null,
   "id": "c9220e36",
   "metadata": {},
   "outputs": [],
   "source": [
    "confusion_matrix(y_true=torch.hstack(kfold_labels), y_pred=torch.round(torch.hstack(kfold_preds)))"
   ]
  },
  {
   "cell_type": "code",
   "execution_count": null,
   "id": "b8e19877",
   "metadata": {
    "scrolled": true
   },
   "outputs": [],
   "source": [
    "model"
   ]
  },
  {
   "cell_type": "code",
   "execution_count": null,
   "id": "3cd05471",
   "metadata": {},
   "outputs": [],
   "source": [
    "plt.figure(figsize=(16,10))\n",
    "\n",
    "plt.subplot(331)\n",
    "plt.plot(loss_buf)\n",
    "plt.title(\"train loss\")\n",
    "\n",
    "plt.subplot(332)\n",
    "plt.plot(val_loss_buf)\n",
    "plt.title(\"val loss\")\n",
    "\n",
    "plt.subplot(333)\n",
    "plt.plot(val_acc_buf)\n",
    "plt.title(\"val acc\")\n",
    "\n",
    "plt.subplot(334)\n",
    "plt.plot(val_f1_buf)\n",
    "plt.title(\"val f1\")\n",
    "\n",
    "plt.subplot(335)\n",
    "plt.plot(val_auc_buf)\n",
    "plt.title(\"val auc\")\n",
    "\n",
    "plt.subplot(336)\n",
    "plt.plot(val_gmean_buf)\n",
    "plt.title(\"val gmean\")\n",
    "\n",
    "plt.subplot(337)\n",
    "plt.plot(val_mcc_buf)\n",
    "plt.title(\"val auc\")\n",
    "\n",
    "plt.suptitle(\"Last Learning Curves\")\n",
    "plt.show()"
   ]
  },
  {
   "cell_type": "code",
   "execution_count": null,
   "id": "8dd16a10",
   "metadata": {},
   "outputs": [],
   "source": [
    "val_acc_mean = []\n",
    "val_f1_mean = []\n",
    "val_auc_mean = []\n",
    "val_gmean_mean = []\n",
    "val_mcc_mean = []\n",
    "\n",
    "for i in range(10):\n",
    "    \n",
    "    val_acc_i = np.load(\"./results/CoV-AbDab/{}/val_acc_{}_best.npy\".format(model_name, i))\n",
    "    val_acc_mean.append(val_acc_i)\n",
    "    \n",
    "    val_f1_i = np.load(\"./results/CoV-AbDab/{}/val_f1_{}_best.npy\".format(model_name, i))\n",
    "    val_f1_mean.append(val_f1_i)\n",
    "    \n",
    "    val_auc_i = np.load(\"./results/CoV-AbDab/{}/val_auc_{}_best.npy\".format(model_name, i))\n",
    "    val_auc_mean.append(val_auc_i)\n",
    "    \n",
    "    val_gmean_i = np.load(\"./results/CoV-AbDab/{}/val_gmean_{}_best.npy\".format(model_name, i))\n",
    "    val_gmean_mean.append(val_gmean_i)\n",
    "    \n",
    "    val_mcc_i = np.load(\"./results/CoV-AbDab/{}/val_mcc_{}_best.npy\".format(model_name, i))\n",
    "    val_mcc_mean.append(val_mcc_i)\n",
    "    \n",
    "print(\"model: {}\".format(model_name))\n",
    "print(\"val acc mean: \", np.mean(val_acc_mean))\n",
    "print(\"val f1 mean: \", np.mean(val_f1_mean))\n",
    "print(\"val auc mean: \", np.mean(val_auc_mean))\n",
    "print(\"val gmean mean: \", np.mean(val_gmean_mean))\n",
    "print(\"val mcc mean: \", np.mean(val_mcc_mean))"
   ]
  },
  {
   "cell_type": "markdown",
   "id": "2b55fbf9",
   "metadata": {},
   "source": [
    "model: PESI\n",
    "\n",
    "1. de novo\n",
    "- val acc mean:  0.7548387096774194\n",
    "- val f1 mean:  0.8472360344258647\n",
    "- val auc mean:  0.6364248905399801\n",
    "- val gmean mean:  0.12137665014671031\n",
    "- val mcc mean:  0.06637028519834769\n",
    "\n",
    "\n",
    "- val acc mean:  0.7451612903225807\n",
    "- val f1 mean:  0.8450983571639433\n",
    "- val auc mean:  0.5999908666213013\n",
    "- val gmean mean:  0.1544552971674015\n",
    "- val mcc mean:  0.0980278804259509\n",
    "\n",
    "2. fine-tune\n",
    "\n",
    "fixed Frame/Set feature extractor\n",
    "- val acc mean:  0.735483870967742\n",
    "- val f1 mean:  0.8428165297819017\n",
    "- val auc mean:  0.5784537830739878\n",
    "- val gmean mean:  0.0\n",
    "- val mcc mean:  0.0"
   ]
  },
  {
   "cell_type": "markdown",
   "id": "957ed2b9",
   "metadata": {},
   "source": [
    "EnsembleModel1\n",
    "\n",
    "1. de novo\n",
    "\n",
    "- val acc mean:  0.7258064516129032\n",
    "- val f1 mean:  0.8357809829448485\n",
    "- val auc mean:  0.5863614324010744\n",
    "- val gmean mean:  0.04364357804719847\n",
    "- val mcc mean:  -0.00243360941090478\n",
    "\n",
    "\n",
    "model: EnsembleModel1 (based on DeepAAI hyperparameters)\n",
    "- val acc mean:  0.735483870967742\n",
    "- val f1 mean:  0.8426296329094451\n",
    "- val auc mean:  0.576874495354035\n",
    "- val gmean mean:  0.026726124191242435\n",
    "- val mcc mean:  0.016785362070740578\n",
    "\n",
    "\n",
    "model: EnsembleModel1 (based on DeepAAI hyperparameters) + L2 loss\n",
    "- val acc mean:  0.735483870967742\n",
    "- val f1 mean:  0.8428165297819017\n",
    "- val auc mean:  0.6850925941066606\n",
    "- val gmean mean:  0.0\n",
    "- val mcc mean:  0.0\n",
    "\n",
    "\n",
    "2. finetune\n",
    "\n",
    "model: EnsembleModel1 (based on DeepAAI hyperparameters) + L2 loss\n",
    "- val acc mean:  0.7258064516129032\n",
    "- val f1 mean:  0.8368535348629104\n",
    "- val auc mean:  0.6183667442248005\n",
    "- val gmean mean:  0.13486832980505137\n",
    "- val mcc mean:  0.05979789537418943"
   ]
  },
  {
   "cell_type": "markdown",
   "id": "9cf39218",
   "metadata": {},
   "source": [
    "EnsembleModel\n",
    "\n",
    "1. de novo\n",
    "\n",
    "- val acc mean:  0.7225806451612903\n",
    "- val f1 mean:  0.80938251651044\n",
    "- val auc mean:  0.6277278343991899\n",
    "- val gmean mean:  0.20839957350649357\n",
    "- val mcc mean:  0.1381022811013694\n",
    "\n",
    "2. finetune\n",
    "\n",
    "- val acc mean:  0.7451612903225807\n",
    "- val f1 mean:  0.8468587022064271\n",
    "- val auc mean:  0.5173764489275998\n",
    "- val gmean mean:  0.09929549764864425\n",
    "- val mcc mean:  0.07493838512158786"
   ]
  },
  {
   "cell_type": "markdown",
   "id": "a481873d",
   "metadata": {},
   "source": [
    "MasonsCNN\n",
    "1. de novo\n",
    "- val acc mean:  0.735483870967742\n",
    "- val f1 mean:  0.8428165297819017\n",
    "- val auc mean:  0.5409950281318567\n",
    "\n",
    "flipping\n",
    "- val acc mean:  0.735483870967742\n",
    "- val f1 mean:  0.8427516133925679\n",
    "- val auc mean:  0.5455146192256166\n",
    "\n",
    "0209\n",
    "- val acc mean:  0.732258064516129\n",
    "- val f1 mean:  0.8411225407108635\n",
    "- val auc mean:  0.5413395687858604\n",
    "- val gmean mean:  0.0\n",
    "- val mcc mean:  -0.003333333333333333\n",
    "\n",
    "2. finetune\n",
    "- val acc mean:  0.7193548387096775\n",
    "- val f1 mean:  0.8280684455906437\n",
    "- val auc mean:  0.5564490021203576\n",
    "- val gmean mean:  0.1475625995769564\n",
    "- val mcc mean:  0.04446577910427487\n",
    "\n",
    "\n",
    "Feature Extractor fixed\n",
    "- val acc mean:  0.7322580645161291\n",
    "- val f1 mean:  0.8338451090661441\n",
    "- val auc mean:  0.634319673790262\n",
    "- val gmean mean:  0.24199404771340785\n",
    "- val mcc mean:  0.12252410865664765\n",
    "\n",
    "0216\n",
    "- val acc mean:  0.7322580645161291\n",
    "- val f1 mean:  0.834695438627144\n",
    "- val auc mean:  0.6693377090371975\n",
    "- val gmean mean:  0.2087328313765909\n",
    "- val mcc mean:  0.11147883124012761"
   ]
  },
  {
   "cell_type": "markdown",
   "id": "b92d556a",
   "metadata": {},
   "source": [
    "BiLSTM\n",
    "\n",
    "1. De novo\n",
    "- val acc mean:  0.7064516129032258\n",
    "- val f1 mean:  0.819065850000514\n",
    "- val auc mean:  0.44001247005339084\n",
    "\n",
    "\n",
    "- val acc mean:  0.7193548387096774\n",
    "- val f1 mean:  0.8286013119221826\n",
    "- val auc mean:  0.5272626716846667\n",
    "- val gmean mean:  0.08176287840460057\n",
    "- val mcc mean:  0.00657602704451053\n",
    "\n",
    "2. Finetune - full\n",
    "- val acc mean:  0.2838709677419355\n",
    "- val f1 mean:  0.06804597701149426\n",
    "- val auc mean:  0.524349864826847\n",
    "- val gmean mean:  0.08231242234049345\n",
    "- val mcc mean:  -0.003441800331963846\n",
    "\n",
    "FE Fixed\n",
    "- val acc mean:  0.735483870967742\n",
    "- val f1 mean:  0.8428165297819017\n",
    "- val auc mean:  0.5305428632180551\n",
    "- val gmean mean:  0.0\n",
    "- val mcc mean:  0.0\n",
    "\n",
    "0216\n",
    "- val acc mean:  0.735483870967742\n",
    "- val f1 mean:  0.8428165297819017\n",
    "- val auc mean:  0.5296878848630767\n",
    "- val gmean mean:  0.0\n",
    "- val mcc mean:  0.0"
   ]
  },
  {
   "cell_type": "markdown",
   "id": "d6e71c92",
   "metadata": {},
   "source": [
    "InteractTransformer\n",
    "\n",
    "1. De novo\n",
    "- val acc mean:  0.7419354838709677\n",
    "- val f1 mean:  0.8460928830582551\n",
    "- val auc mean:  0.5697268280171094\n",
    "\n",
    "left/right flipping\n",
    "- val acc mean:  0.6741935483870967\n",
    "- val f1 mean:  0.7933415428025153\n",
    "- val auc mean:  0.5941512822216147\n",
    "\n",
    "0209\n",
    "- val acc mean:  0.7387096774193548\n",
    "- val f1 mean:  0.8444456024636061\n",
    "- val auc mean:  0.5559159858328655\n",
    "- val gmean mean:  0.0447213595499958\n",
    "- val mcc mean:  0.04163331998932266\n",
    "\n",
    "2. Finetune - full\n",
    "- val acc mean:  0.7387096774193549\n",
    "- val f1 mean:  0.837479640502948\n",
    "- val auc mean:  0.5373362548221883\n",
    "- val gmean mean:  0.11956972115904681\n",
    "- val mcc mean:  0.05274808166803078\n",
    "\n",
    "FE Fixed\n",
    "- val acc mean:  0.7096774193548387\n",
    "- val f1 mean:  0.8192963769848788\n",
    "- val auc mean:  0.5437163596562574\n",
    "- val gmean mean:  0.18894861461152904\n",
    "- val mcc mean:  0.043908331255973564"
   ]
  },
  {
   "cell_type": "markdown",
   "id": "fb4a1985",
   "metadata": {},
   "source": [
    "InteractCoattnTransformer\n",
    "\n",
    "1. De novo\n",
    "\n",
    "coattn after embed\n",
    "- val acc mean:  0.7322580645161291\n",
    "- val f1 mean:  0.8384620373723942\n",
    "- val auc mean:  0.5792465999473672\n",
    "\n",
    "coattn after transformer\n",
    "- val acc mean:  0.7290322580645162\n",
    "- val f1 mean:  0.8389562234502067\n",
    "- val auc mean:  0.5215266408783032\n",
    "\n",
    "two coattn\n",
    "dropout0.3\n",
    "- val acc mean:  0.6645161290322581\n",
    "- val f1 mean:  0.7577206864384995\n",
    "- val auc mean:  0.4894495640761625\n",
    "\n",
    "dropout0.5\n",
    "- val acc mean:  0.7032258064516129\n",
    "- val f1 mean:  0.8148800008196817\n",
    "- val auc mean:  0.5601084965049159\n",
    "\n",
    "0209\n",
    "- val acc mean:  0.7064516129032258\n",
    "- val f1 mean:  0.8065533962654705\n",
    "- val auc mean:  0.53074342679202\n",
    "- val gmean mean:  0.08783456377261516\n",
    "- val mcc mean:  -0.03089614519177042\n",
    "\n",
    "0210\n",
    "- val acc mean:  0.7290322580645162\n",
    "- val f1 mean:  0.8333675745553654\n",
    "- val auc mean:  0.5629656307034825\n",
    "- val gmean mean:  0.19967351371222142\n",
    "- val mcc mean:  0.08859651752472261\n",
    "\n",
    "2. Finetune\n",
    "- val acc mean:  0.7419354838709677\n",
    "- val f1 mean:  0.8295161019309971\n",
    "- val auc mean:  0.6776508588030327\n",
    "- val gmean mean:  0.41048764045233976\n",
    "- val mcc mean:  0.23726058068617323\n",
    "\n",
    "0210\n",
    "- val acc mean:  0.7032258064516129\n",
    "- val f1 mean:  0.7529802738432863\n",
    "- val auc mean:  0.5843740140223517\n",
    "- val gmean mean:  0.11863970769085672\n",
    "- val mcc mean:  -0.02494321880367\n",
    "\n",
    "use final model rather than best\n",
    "- val acc mean:  0.5903225806451613\n",
    "- val f1 mean:  0.6981662591680293\n",
    "- val auc mean:  0.5202095768681446\n",
    "- val gmean mean:  0.43529770732374456\n",
    "- val mcc mean:  0.035015078636667016\n",
    "\n",
    "FE Fixed FT\n",
    "- val acc mean:  0.735483870967742\n",
    "- val f1 mean:  0.8323679177395693\n",
    "- val auc mean:  0.5757738855347552\n",
    "- val gmean mean:  0.1772604277248653\n",
    "- val mcc mean:  0.051826896161838866"
   ]
  },
  {
   "cell_type": "markdown",
   "id": "6820b245",
   "metadata": {},
   "source": [
    "SetModel\n",
    "1. de novo\n",
    "\n",
    "dropout0.3\n",
    "- val acc mean:  0.7258064516129032\n",
    "- val f1 mean:  0.8364886835455663\n",
    "- val auc mean:  0.6504661560377674\n",
    "\n",
    "dropout0.5 + CoAttnSkipConnection\n",
    "- val acc mean:  0.7225806451612904\n",
    "- val f1 mean:  0.7678373423027144\n",
    "- val auc mean:  0.649160663150433\n",
    "\n",
    "dropout0.3 + CoAttn ahead\n",
    "- val acc mean:  0.7290322580645162\n",
    "- val f1 mean:  0.8331830945361233\n",
    "- val auc mean:  0.6217202631128462\n",
    "\n",
    "dropout0.3 + CoAttn ahead + left/right flipping\n",
    "- val acc mean:  0.7548387096774194\n",
    "- val f1 mean:  0.8390957431282627\n",
    "- val auc mean:  0.566890947358978\n",
    "\n",
    "0209\n",
    "- val acc mean:  0.7419354838709677\n",
    "- val f1 mean:  0.8385743405122875\n",
    "- val auc mean:  0.646844740510981\n",
    "- val gmean mean:  0.3499641605118257\n",
    "- val mcc mean:  0.16989948824073764\n",
    "\n",
    "2. finetune\n",
    "- val acc mean:  0.6548387096774194\n",
    "- val f1 mean:  0.7614356955971864\n",
    "- val auc mean:  0.5850305370957545\n",
    "- val gmean mean:  0.4690008572794017\n",
    "- val mcc mean:  0.09590317756829693\n",
    "\n",
    "FX Fixed FT\n",
    "- val acc mean:  0.7290322580645162\n",
    "- val f1 mean:  0.8304804775765957\n",
    "- val auc mean:  0.6118961087221957\n",
    "- val gmean mean:  0.325372891932986\n",
    "- val mcc mean:  0.1376242188288149"
   ]
  },
  {
   "cell_type": "markdown",
   "id": "c2032f08",
   "metadata": {},
   "source": [
    "SetCoAttnModel\n",
    "\n",
    "1. de novo\n",
    "- val acc mean:  0.7129032258064516\n",
    "- val f1 mean:  0.8283774426716478\n",
    "- val auc mean:  0.6031828529526739\n",
    "- val gmean mean:  0.11381713711118394\n",
    "- val mcc mean:  0.05107581130651245\n",
    "\n",
    "2. finetune\n",
    "- val acc mean:  0.735483870967742\n",
    "- val f1 mean:  0.8255950018544915\n",
    "- val auc mean:  0.5836535310384415\n",
    "- val gmean mean:  0.19683955427239194\n",
    "- val mcc mean:  0.060401168945660236\n",
    "\n",
    "FE Fixed FT\n",
    "- val acc mean:  0.7451612903225807\n",
    "- val f1 mean:  0.840554625019997\n",
    "- val auc mean:  0.5332801356075013\n",
    "- val gmean mean:  0.06351073488299558\n",
    "- val mcc mean:  0.02796710598995068"
   ]
  },
  {
   "cell_type": "markdown",
   "id": "2e8838a4",
   "metadata": {},
   "source": [
    "SetTransformer\n",
    "\n",
    "1. de novo\n",
    "- val acc mean:  0.7387096774193549\n",
    "- val f1 mean:  0.8361401746369017\n",
    "- val auc mean:  0.6567989579332291\n",
    "- val gmean mean:  0.22237169691743341\n",
    "- val mcc mean:  0.11689544381896444\n",
    "\n",
    "bi-tower\n",
    "- val acc mean:  0.7322580645161291\n",
    "- val f1 mean:  0.8304782251291887\n",
    "- val auc mean:  0.6367931102713712\n",
    "- val gmean mean:  0.2632115309684307\n",
    "- val mcc mean:  0.12791443324565496\n",
    "\n",
    "2. finetune\n",
    "- val acc mean:  0.7096774193548387\n",
    "- val f1 mean:  0.8221135340407786\n",
    "- val auc mean:  0.6275436241791741\n",
    "- val gmean mean:  0.2348251415923123\n",
    "- val mcc mean:  0.09602992408332747\n",
    "\n",
    "\n",
    "FE Fixed FT\n",
    "- val acc mean:  0.735483870967742\n",
    "- val f1 mean:  0.8428165297819017\n",
    "- val auc mean:  0.5436637051496387\n",
    "- val gmean mean:  0.0\n",
    "- val mcc mean:  0.0"
   ]
  },
  {
   "cell_type": "markdown",
   "id": "def990b1",
   "metadata": {},
   "source": [
    "SetCoAttnTransformer\n",
    "\n",
    "1. de novo\n",
    "- val acc mean:  0.7290322580645162\n",
    "- val f1 mean:  0.8371426812951388\n",
    "- val auc mean:  0.6973226134479332\n",
    "- val gmean mean:  0.08283199089454711\n",
    "- val mcc mean:  0.03612682646386498\n",
    "\n",
    "2. finetune\n",
    "- val acc mean:  0.7548387096774194\n",
    "- val f1 mean:  0.8381884843645546\n",
    "- val auc mean:  0.7171163618989707\n",
    "- val gmean mean:  0.6158503375322386\n",
    "- val mcc mean:  0.34239057721353133\n",
    "\n",
    "- val acc mean:  0.7451612903225807\n",
    "- val f1 mean:  0.8258364526202552\n",
    "- val auc mean:  0.667494606842433\n",
    "- val gmean mean:  0.598600578762371\n",
    "- val mcc mean:  0.327257546356814\n",
    "\n",
    "FE Fixed FT\n",
    "- val acc mean:  0.7387096774193549\n",
    "- val f1 mean:  0.839985269566902\n",
    "- val auc mean:  0.641870172027461\n",
    "- val gmean mean:  0.15255182247968152\n",
    "- val mcc mean:  0.08206384239742148"
   ]
  },
  {
   "cell_type": "markdown",
   "id": "a9021107",
   "metadata": {},
   "source": [
    "InteractTransformerLSTM\n",
    "1. de novo\n",
    "- ?\n",
    "\n",
    "2. finetune\n",
    "- ?\n",
    "\n",
    "3. finetune - full\n",
    "- ?"
   ]
  },
  {
   "cell_type": "markdown",
   "id": "c2af898d",
   "metadata": {},
   "source": [
    "InteractTransformerLSTM + CoAttn\n",
    "1. de novo\n",
    "- ?"
   ]
  },
  {
   "cell_type": "markdown",
   "id": "da7b0fa6",
   "metadata": {},
   "source": [
    "FTransformer + CoATtn\n",
    "1. de novo\n",
    "\n",
    "1layer + kmer5\n",
    "- val acc mean:  0.6774193548387096\n",
    "- val f1 mean:  0.8076923076923077\n",
    "- val auc mean:  0.48571428571428565\n",
    "\n",
    "2layers + kmer5\n",
    "- val acc mean:  0.6774193548387096\n",
    "- val f1 mean:  0.8076923076923077\n",
    "- val auc mean:  0.6238095238095238\n",
    "\n",
    "2layers + kmer3\n",
    "- val acc mean:  0.6774193548387096\n",
    "- val f1 mean:  0.8076923076923077\n",
    "- val auc mean:  0.6428571428571429\n",
    "\n",
    "2layers + kmer4\n",
    "- val acc mean:  0.6774193548387096\n",
    "- val f1 mean:  0.8076923076923077\n",
    "- val auc mean:  0.3476190476190476\n",
    "\n",
    "2layers + kmer3 + lr3e-5\n",
    "- val acc mean:  0.6451612903225806\n",
    "- val f1 mean:  0.7755102040816326\n",
    "- val auc mean:  0.3952380952380952\n",
    "\n",
    "FTransformer\n",
    "1. de novo\n",
    "\n",
    "2layers + kmer3\n",
    "- val acc mean:  0.6774193548387096\n",
    "- val f1 mean:  0.8076923076923077\n",
    "- val auc mean:  0.5285714285714286\n",
    "\n",
    "2layers + kmer5\n",
    "- val acc mean:  0.6774193548387096\n",
    "- val f1 mean:  0.8076923076923077\n",
    "- val auc mean:  0.5619047619047619"
   ]
  }
 ],
 "metadata": {
  "kernelspec": {
   "display_name": "Python 3 (ipykernel)",
   "language": "python",
   "name": "python3"
  },
  "language_info": {
   "codemirror_mode": {
    "name": "ipython",
    "version": 3
   },
   "file_extension": ".py",
   "mimetype": "text/x-python",
   "name": "python",
   "nbconvert_exporter": "python",
   "pygments_lexer": "ipython3",
   "version": "3.8.0"
  },
  "vscode": {
   "interpreter": {
    "hash": "e2804aedb87589a229ed38257535fcf3696bf4a1d07bd50e52d4fc99a699b0bf"
   }
  }
 },
 "nbformat": 4,
 "nbformat_minor": 5
}
